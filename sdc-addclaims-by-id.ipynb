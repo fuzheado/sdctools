{
 "cells": [
  {
   "cell_type": "code",
   "execution_count": 2,
   "id": "3d9179ac-ef57-4698-8b48-1c3ed25a046e",
   "metadata": {},
   "outputs": [
    {
     "name": "stderr",
     "output_type": "stream",
     "text": [
      "Adding P3634->307962 to M60502412. importing Met Object ID from source info from Commons template\n",
      "Adding P195->Q160236 to M60502412. adding collection based on Met Object ID\n"
     ]
    },
    {
     "name": "stdout",
     "output_type": "stream",
     "text": [
      "\n"
     ]
    },
    {
     "name": "stderr",
     "output_type": "stream",
     "text": [
      "Adding P3634->308217 to M60505050. importing Met Object ID from source info from Commons template\n",
      "Adding P195->Q160236 to M60505050. adding collection based on Met Object ID\n",
      "  Existing entry: skipping to be safe.\n",
      "Adding P3634->315698 to M60508983. importing Met Object ID from source info from Commons template\n"
     ]
    },
    {
     "name": "stdout",
     "output_type": "stream",
     "text": [
      "\n"
     ]
    },
    {
     "name": "stderr",
     "output_type": "stream",
     "text": [
      "Adding P195->Q160236 to M60508983. adding collection based on Met Object ID\n"
     ]
    },
    {
     "name": "stdout",
     "output_type": "stream",
     "text": [
      "\n"
     ]
    },
    {
     "name": "stderr",
     "output_type": "stream",
     "text": [
      "Adding P3634->98406 to M59496562. importing Met Object ID from source info from Commons template\n",
      "Adding P195->Q160236 to M59496562. adding collection based on Met Object ID\n"
     ]
    },
    {
     "name": "stdout",
     "output_type": "stream",
     "text": [
      "\n"
     ]
    },
    {
     "name": "stderr",
     "output_type": "stream",
     "text": [
      "Adding P3634->98408 to M59496563. importing Met Object ID from source info from Commons template\n",
      "Adding P195->Q160236 to M59496563. adding collection based on Met Object ID\n"
     ]
    },
    {
     "name": "stdout",
     "output_type": "stream",
     "text": [
      "\n"
     ]
    },
    {
     "name": "stderr",
     "output_type": "stream",
     "text": [
      "Adding P3634->81548 to M59493614. importing Met Object ID from source info from Commons template\n",
      "Adding P195->Q160236 to M59493614. adding collection based on Met Object ID\n"
     ]
    },
    {
     "name": "stdout",
     "output_type": "stream",
     "text": [
      "\n"
     ]
    },
    {
     "name": "stderr",
     "output_type": "stream",
     "text": [
      "Adding P3634->81548 to M59493616. importing Met Object ID from source info from Commons template\n",
      "Adding P195->Q160236 to M59493616. adding collection based on Met Object ID\n"
     ]
    },
    {
     "name": "stdout",
     "output_type": "stream",
     "text": [
      "\n"
     ]
    },
    {
     "name": "stderr",
     "output_type": "stream",
     "text": [
      "Adding P3634->81548 to M59493612. importing Met Object ID from source info from Commons template\n",
      "Adding P195->Q160236 to M59493612. adding collection based on Met Object ID\n"
     ]
    },
    {
     "name": "stdout",
     "output_type": "stream",
     "text": [
      "\n"
     ]
    },
    {
     "name": "stderr",
     "output_type": "stream",
     "text": [
      "Adding P3634->81549 to M59493617. importing Met Object ID from source info from Commons template\n",
      "Adding P195->Q160236 to M59493617. adding collection based on Met Object ID\n"
     ]
    },
    {
     "name": "stdout",
     "output_type": "stream",
     "text": [
      "\n"
     ]
    },
    {
     "name": "stderr",
     "output_type": "stream",
     "text": [
      "Adding P3634->81549 to M59493628. importing Met Object ID from source info from Commons template\n",
      "Adding P195->Q160236 to M59493628. adding collection based on Met Object ID\n"
     ]
    },
    {
     "name": "stdout",
     "output_type": "stream",
     "text": [
      "\n"
     ]
    },
    {
     "name": "stderr",
     "output_type": "stream",
     "text": [
      "Adding P3634->81550 to M59493635. importing Met Object ID from source info from Commons template\n",
      "Adding P195->Q160236 to M59493635. adding collection based on Met Object ID\n"
     ]
    },
    {
     "name": "stdout",
     "output_type": "stream",
     "text": [
      "\n"
     ]
    },
    {
     "name": "stderr",
     "output_type": "stream",
     "text": [
      "Adding P3634->81550 to M59493642. importing Met Object ID from source info from Commons template\n",
      "Adding P195->Q160236 to M59493642. adding collection based on Met Object ID\n"
     ]
    },
    {
     "name": "stdout",
     "output_type": "stream",
     "text": [
      "\n"
     ]
    },
    {
     "name": "stderr",
     "output_type": "stream",
     "text": [
      "Adding P3634->102394 to M59500781. importing Met Object ID from source info from Commons template\n",
      "Adding P195->Q160236 to M59500781. adding collection based on Met Object ID\n"
     ]
    },
    {
     "name": "stdout",
     "output_type": "stream",
     "text": [
      "\n"
     ]
    },
    {
     "name": "stderr",
     "output_type": "stream",
     "text": [
      "Adding P3634->168381 to M61212228. importing Met Object ID from source info from Commons template\n",
      "Adding P195->Q160236 to M61212228. adding collection based on Met Object ID\n"
     ]
    },
    {
     "name": "stdout",
     "output_type": "stream",
     "text": [
      "\n"
     ]
    },
    {
     "name": "stderr",
     "output_type": "stream",
     "text": [
      "Adding P3634->168381 to M61212258. importing Met Object ID from source info from Commons template\n",
      "Adding P195->Q160236 to M61212258. adding collection based on Met Object ID\n"
     ]
    },
    {
     "name": "stdout",
     "output_type": "stream",
     "text": [
      "\n"
     ]
    },
    {
     "name": "stderr",
     "output_type": "stream",
     "text": [
      "Adding P3634->117189 to M59657687. importing Met Object ID from source info from Commons template\n",
      "Adding P195->Q160236 to M59657687. adding collection based on Met Object ID\n"
     ]
    },
    {
     "name": "stdout",
     "output_type": "stream",
     "text": [
      "\n"
     ]
    },
    {
     "name": "stderr",
     "output_type": "stream",
     "text": [
      "Adding P3634->170528 to M59665744. importing Met Object ID from source info from Commons template\n",
      "Adding P195->Q160236 to M59665744. adding collection based on Met Object ID\n"
     ]
    },
    {
     "name": "stdout",
     "output_type": "stream",
     "text": [
      "\n"
     ]
    },
    {
     "name": "stderr",
     "output_type": "stream",
     "text": [
      "Adding P3634->102697 to M59494357. importing Met Object ID from source info from Commons template\n",
      "Adding P195->Q160236 to M59494357. adding collection based on Met Object ID\n"
     ]
    },
    {
     "name": "stdout",
     "output_type": "stream",
     "text": [
      "\n"
     ]
    },
    {
     "name": "stderr",
     "output_type": "stream",
     "text": [
      "Adding P3634->102698 to M59494362. importing Met Object ID from source info from Commons template\n",
      "Adding P195->Q160236 to M59494362. adding collection based on Met Object ID\n"
     ]
    },
    {
     "name": "stdout",
     "output_type": "stream",
     "text": [
      "\n"
     ]
    },
    {
     "name": "stderr",
     "output_type": "stream",
     "text": [
      "Adding P3634->102699 to M59494361. importing Met Object ID from source info from Commons template\n",
      "Adding P195->Q160236 to M59494361. adding collection based on Met Object ID\n"
     ]
    },
    {
     "name": "stdout",
     "output_type": "stream",
     "text": [
      "\n"
     ]
    },
    {
     "name": "stderr",
     "output_type": "stream",
     "text": [
      "Adding P3634->102700 to M59494367. importing Met Object ID from source info from Commons template\n",
      "Adding P195->Q160236 to M59494367. adding collection based on Met Object ID\n"
     ]
    },
    {
     "name": "stdout",
     "output_type": "stream",
     "text": [
      "\n"
     ]
    },
    {
     "name": "stderr",
     "output_type": "stream",
     "text": [
      "Adding P3634->102700 to M59494365. importing Met Object ID from source info from Commons template\n",
      "Adding P195->Q160236 to M59494365. adding collection based on Met Object ID\n"
     ]
    },
    {
     "name": "stdout",
     "output_type": "stream",
     "text": [
      "\n"
     ]
    },
    {
     "name": "stderr",
     "output_type": "stream",
     "text": [
      "Adding P3634->102701 to M59494370. importing Met Object ID from source info from Commons template\n",
      "Adding P195->Q160236 to M59494370. adding collection based on Met Object ID\n"
     ]
    },
    {
     "name": "stdout",
     "output_type": "stream",
     "text": [
      "\n"
     ]
    },
    {
     "name": "stderr",
     "output_type": "stream",
     "text": [
      "Adding P3634->102701 to M59494371. importing Met Object ID from source info from Commons template\n",
      "Adding P195->Q160236 to M59494371. adding collection based on Met Object ID\n"
     ]
    },
    {
     "name": "stdout",
     "output_type": "stream",
     "text": [
      "\n"
     ]
    },
    {
     "name": "stderr",
     "output_type": "stream",
     "text": [
      "Adding P3634->102702 to M59494393. importing Met Object ID from source info from Commons template\n",
      "Adding P195->Q160236 to M59494393. adding collection based on Met Object ID\n"
     ]
    },
    {
     "name": "stdout",
     "output_type": "stream",
     "text": [
      "\n"
     ]
    },
    {
     "name": "stderr",
     "output_type": "stream",
     "text": [
      "Adding P3634->102703 to M59494390. importing Met Object ID from source info from Commons template\n",
      "Adding P195->Q160236 to M59494390. adding collection based on Met Object ID\n"
     ]
    },
    {
     "name": "stdout",
     "output_type": "stream",
     "text": [
      "\n"
     ]
    },
    {
     "name": "stderr",
     "output_type": "stream",
     "text": [
      "Adding P3634->102704 to M59494557. importing Met Object ID from source info from Commons template\n",
      "Adding P195->Q160236 to M59494557. adding collection based on Met Object ID\n"
     ]
    },
    {
     "name": "stdout",
     "output_type": "stream",
     "text": [
      "\n"
     ]
    },
    {
     "name": "stderr",
     "output_type": "stream",
     "text": [
      "Adding P3634->102705 to M59494559. importing Met Object ID from source info from Commons template\n",
      "Adding P195->Q160236 to M59494559. adding collection based on Met Object ID\n"
     ]
    },
    {
     "name": "stdout",
     "output_type": "stream",
     "text": [
      "\n"
     ]
    },
    {
     "name": "stderr",
     "output_type": "stream",
     "text": [
      "Adding P3634->102706 to M59494562. importing Met Object ID from source info from Commons template\n",
      "Adding P195->Q160236 to M59494562. adding collection based on Met Object ID\n"
     ]
    },
    {
     "name": "stdout",
     "output_type": "stream",
     "text": [
      "\n"
     ]
    },
    {
     "name": "stderr",
     "output_type": "stream",
     "text": [
      "Adding P3634->168798 to M59660258. importing Met Object ID from source info from Commons template\n",
      "Adding P195->Q160236 to M59660258. adding collection based on Met Object ID\n"
     ]
    },
    {
     "name": "stdout",
     "output_type": "stream",
     "text": [
      "\n"
     ]
    },
    {
     "name": "stderr",
     "output_type": "stream",
     "text": [
      "Adding P3634->307449 to M60495697. importing Met Object ID from source info from Commons template\n",
      "Adding P195->Q160236 to M60495697. adding collection based on Met Object ID\n"
     ]
    },
    {
     "name": "stdout",
     "output_type": "stream",
     "text": [
      "\n"
     ]
    },
    {
     "name": "stderr",
     "output_type": "stream",
     "text": [
      "Adding P3634->168858 to M59660428. importing Met Object ID from source info from Commons template\n",
      "Adding P195->Q160236 to M59660428. adding collection based on Met Object ID\n"
     ]
    },
    {
     "name": "stdout",
     "output_type": "stream",
     "text": [
      "\n"
     ]
    },
    {
     "name": "stderr",
     "output_type": "stream",
     "text": [
      "Adding P3634->156676 to M59657531. importing Met Object ID from source info from Commons template\n",
      "Adding P195->Q160236 to M59657531. adding collection based on Met Object ID\n"
     ]
    },
    {
     "name": "stdout",
     "output_type": "stream",
     "text": [
      "\n"
     ]
    },
    {
     "name": "stderr",
     "output_type": "stream",
     "text": [
      "Adding P3634->156676 to M59657528. importing Met Object ID from source info from Commons template\n",
      "Adding P195->Q160236 to M59657528. adding collection based on Met Object ID\n"
     ]
    },
    {
     "name": "stdout",
     "output_type": "stream",
     "text": [
      "\n"
     ]
    },
    {
     "name": "stderr",
     "output_type": "stream",
     "text": [
      "Adding P3634->170250 to M59664999. importing Met Object ID from source info from Commons template\n",
      "Adding P195->Q160236 to M59664999. adding collection based on Met Object ID\n"
     ]
    },
    {
     "name": "stdout",
     "output_type": "stream",
     "text": [
      "\n"
     ]
    },
    {
     "name": "stderr",
     "output_type": "stream",
     "text": [
      "Adding P3634->156684 to M59657587. importing Met Object ID from source info from Commons template\n",
      "Adding P195->Q160236 to M59657587. adding collection based on Met Object ID\n"
     ]
    },
    {
     "name": "stdout",
     "output_type": "stream",
     "text": [
      "\n"
     ]
    },
    {
     "name": "stderr",
     "output_type": "stream",
     "text": [
      "Adding P3634->156686 to M59657592. importing Met Object ID from source info from Commons template\n",
      "Adding P195->Q160236 to M59657592. adding collection based on Met Object ID\n"
     ]
    },
    {
     "name": "stdout",
     "output_type": "stream",
     "text": [
      "\n"
     ]
    },
    {
     "name": "stderr",
     "output_type": "stream",
     "text": [
      "Adding P3634->156690 to M59657584. importing Met Object ID from source info from Commons template\n",
      "Adding P195->Q160236 to M59657584. adding collection based on Met Object ID\n"
     ]
    },
    {
     "name": "stdout",
     "output_type": "stream",
     "text": [
      "\n"
     ]
    },
    {
     "name": "stderr",
     "output_type": "stream",
     "text": [
      "Adding P3634->157263 to M59659979. importing Met Object ID from source info from Commons template\n",
      "Adding P195->Q160236 to M59659979. adding collection based on Met Object ID\n"
     ]
    },
    {
     "name": "stdout",
     "output_type": "stream",
     "text": [
      "\n"
     ]
    },
    {
     "name": "stderr",
     "output_type": "stream",
     "text": [
      "Adding P3634->156753 to M59657733. importing Met Object ID from source info from Commons template\n",
      "Adding P195->Q160236 to M59657733. adding collection based on Met Object ID\n"
     ]
    },
    {
     "name": "stdout",
     "output_type": "stream",
     "text": [
      "\n"
     ]
    },
    {
     "name": "stderr",
     "output_type": "stream",
     "text": [
      "Adding P3634->156753 to M59657741. importing Met Object ID from source info from Commons template\n",
      "Adding P195->Q160236 to M59657741. adding collection based on Met Object ID\n"
     ]
    },
    {
     "name": "stdout",
     "output_type": "stream",
     "text": [
      "\n"
     ]
    },
    {
     "name": "stderr",
     "output_type": "stream",
     "text": [
      "Adding P3634->157338 to M65090711. importing Met Object ID from source info from Commons template\n",
      "Adding P195->Q160236 to M65090711. adding collection based on Met Object ID\n"
     ]
    },
    {
     "name": "stdout",
     "output_type": "stream",
     "text": [
      "\n"
     ]
    },
    {
     "name": "stderr",
     "output_type": "stream",
     "text": [
      "Adding P3634->157338 to M59660385. importing Met Object ID from source info from Commons template\n",
      "Adding P195->Q160236 to M59660385. adding collection based on Met Object ID\n"
     ]
    },
    {
     "name": "stdout",
     "output_type": "stream",
     "text": [
      "\n"
     ]
    },
    {
     "name": "stderr",
     "output_type": "stream",
     "text": [
      "Adding P3634->157338 to M59660398. importing Met Object ID from source info from Commons template\n",
      "Adding P195->Q160236 to M59660398. adding collection based on Met Object ID\n"
     ]
    },
    {
     "name": "stdout",
     "output_type": "stream",
     "text": [
      "\n"
     ]
    },
    {
     "name": "stderr",
     "output_type": "stream",
     "text": [
      "Adding P3634->157338 to M59660393. importing Met Object ID from source info from Commons template\n",
      "Adding P195->Q160236 to M59660393. adding collection based on Met Object ID\n"
     ]
    },
    {
     "name": "stdout",
     "output_type": "stream",
     "text": [
      "\n"
     ]
    },
    {
     "name": "stderr",
     "output_type": "stream",
     "text": [
      "Adding P3634->156810 to M59657935. importing Met Object ID from source info from Commons template\n",
      "Adding P195->Q160236 to M59657935. adding collection based on Met Object ID\n"
     ]
    },
    {
     "name": "stdout",
     "output_type": "stream",
     "text": [
      "\n"
     ]
    },
    {
     "name": "stderr",
     "output_type": "stream",
     "text": [
      "Adding P3634->156837 to M65090674. importing Met Object ID from source info from Commons template\n",
      "Adding P195->Q160236 to M65090674. adding collection based on Met Object ID\n"
     ]
    },
    {
     "name": "stdout",
     "output_type": "stream",
     "text": [
      "\n"
     ]
    },
    {
     "name": "stderr",
     "output_type": "stream",
     "text": [
      "Adding P3634->156870 to M59658235. importing Met Object ID from source info from Commons template\n",
      "Adding P195->Q160236 to M59658235. adding collection based on Met Object ID\n"
     ]
    },
    {
     "name": "stdout",
     "output_type": "stream",
     "text": [
      "\n"
     ]
    },
    {
     "name": "stderr",
     "output_type": "stream",
     "text": [
      "Adding P3634->156871 to M59658234. importing Met Object ID from source info from Commons template\n",
      "Adding P195->Q160236 to M59658234. adding collection based on Met Object ID\n"
     ]
    },
    {
     "name": "stdout",
     "output_type": "stream",
     "text": [
      "\n"
     ]
    },
    {
     "name": "stderr",
     "output_type": "stream",
     "text": [
      "Adding P3634->169684 to M59662975. importing Met Object ID from source info from Commons template\n",
      "Adding P195->Q160236 to M59662975. adding collection based on Met Object ID\n"
     ]
    },
    {
     "name": "stdout",
     "output_type": "stream",
     "text": [
      "\n"
     ]
    },
    {
     "name": "stderr",
     "output_type": "stream",
     "text": [
      "Adding P3634->169684 to M59662974. importing Met Object ID from source info from Commons template\n",
      "Adding P195->Q160236 to M59662974. adding collection based on Met Object ID\n"
     ]
    },
    {
     "name": "stdout",
     "output_type": "stream",
     "text": [
      "\n"
     ]
    },
    {
     "name": "stderr",
     "output_type": "stream",
     "text": [
      "Adding P3634->169686 to M59662984. importing Met Object ID from source info from Commons template\n",
      "Adding P195->Q160236 to M59662984. adding collection based on Met Object ID\n"
     ]
    },
    {
     "name": "stdout",
     "output_type": "stream",
     "text": [
      "\n"
     ]
    },
    {
     "name": "stderr",
     "output_type": "stream",
     "text": [
      "Adding P3634->169686 to M59662989. importing Met Object ID from source info from Commons template\n",
      "Adding P195->Q160236 to M59662989. adding collection based on Met Object ID\n"
     ]
    },
    {
     "name": "stdout",
     "output_type": "stream",
     "text": [
      "\n"
     ]
    },
    {
     "name": "stderr",
     "output_type": "stream",
     "text": [
      "Adding P3634->169687 to M59663144. importing Met Object ID from source info from Commons template\n",
      "Adding P195->Q160236 to M59663144. adding collection based on Met Object ID\n"
     ]
    },
    {
     "name": "stdout",
     "output_type": "stream",
     "text": [
      "\n"
     ]
    },
    {
     "name": "stderr",
     "output_type": "stream",
     "text": [
      "Adding P3634->169687 to M59662991. importing Met Object ID from source info from Commons template\n",
      "Adding P195->Q160236 to M59662991. adding collection based on Met Object ID\n"
     ]
    },
    {
     "name": "stdout",
     "output_type": "stream",
     "text": [
      "\n"
     ]
    },
    {
     "name": "stderr",
     "output_type": "stream",
     "text": [
      "Adding P3634->169886 to M59664130. importing Met Object ID from source info from Commons template\n",
      "Adding P195->Q160236 to M59664130. adding collection based on Met Object ID\n"
     ]
    },
    {
     "name": "stdout",
     "output_type": "stream",
     "text": [
      "\n"
     ]
    },
    {
     "name": "stderr",
     "output_type": "stream",
     "text": [
      "Adding P3634->169886 to M59664155. importing Met Object ID from source info from Commons template\n",
      "Adding P195->Q160236 to M59664155. adding collection based on Met Object ID\n"
     ]
    },
    {
     "name": "stdout",
     "output_type": "stream",
     "text": [
      "\n"
     ]
    },
    {
     "name": "stderr",
     "output_type": "stream",
     "text": [
      "Adding P3634->169906 to M59664332. importing Met Object ID from source info from Commons template\n",
      "Adding P195->Q160236 to M59664332. adding collection based on Met Object ID\n"
     ]
    },
    {
     "name": "stdout",
     "output_type": "stream",
     "text": [
      "\n"
     ]
    },
    {
     "name": "stderr",
     "output_type": "stream",
     "text": [
      "Adding P3634->307963 to M60502421. importing Met Object ID from source info from Commons template\n",
      "Adding P195->Q160236 to M60502421. adding collection based on Met Object ID\n"
     ]
    },
    {
     "name": "stdout",
     "output_type": "stream",
     "text": [
      "\n"
     ]
    },
    {
     "name": "stderr",
     "output_type": "stream",
     "text": [
      "Adding P3634->308022 to M60503315. importing Met Object ID from source info from Commons template\n",
      "Adding P195->Q160236 to M60503315. adding collection based on Met Object ID\n"
     ]
    },
    {
     "name": "stdout",
     "output_type": "stream",
     "text": [
      "\n"
     ]
    },
    {
     "name": "stderr",
     "output_type": "stream",
     "text": [
      "Adding P3634->308023 to M60503323. importing Met Object ID from source info from Commons template\n",
      "Adding P195->Q160236 to M60503323. adding collection based on Met Object ID\n"
     ]
    },
    {
     "name": "stdout",
     "output_type": "stream",
     "text": [
      "\n"
     ]
    },
    {
     "name": "stderr",
     "output_type": "stream",
     "text": [
      "Adding P3634->308024 to M60503333. importing Met Object ID from source info from Commons template\n",
      "Adding P195->Q160236 to M60503333. adding collection based on Met Object ID\n"
     ]
    },
    {
     "name": "stdout",
     "output_type": "stream",
     "text": [
      "\n"
     ]
    },
    {
     "name": "stderr",
     "output_type": "stream",
     "text": [
      "Adding P3634->117194 to M59657707. importing Met Object ID from source info from Commons template\n",
      "Adding P195->Q160236 to M59657707. adding collection based on Met Object ID\n"
     ]
    },
    {
     "name": "stdout",
     "output_type": "stream",
     "text": [
      "\n"
     ]
    },
    {
     "name": "stderr",
     "output_type": "stream",
     "text": [
      "Adding P3634->116950 to M59657515. importing Met Object ID from source info from Commons template\n",
      "Adding P195->Q160236 to M59657515. adding collection based on Met Object ID\n"
     ]
    },
    {
     "name": "stdout",
     "output_type": "stream",
     "text": [
      "\n"
     ]
    },
    {
     "name": "stderr",
     "output_type": "stream",
     "text": [
      "Adding P3634->117315 to M59657878. importing Met Object ID from source info from Commons template\n",
      "Adding P195->Q160236 to M59657878. adding collection based on Met Object ID\n"
     ]
    },
    {
     "name": "stdout",
     "output_type": "stream",
     "text": [
      "\n"
     ]
    },
    {
     "name": "stderr",
     "output_type": "stream",
     "text": [
      "Adding P3634->117197 to M59657710. importing Met Object ID from source info from Commons template\n",
      "Adding P195->Q160236 to M59657710. adding collection based on Met Object ID\n"
     ]
    },
    {
     "name": "stdout",
     "output_type": "stream",
     "text": [
      "\n"
     ]
    },
    {
     "name": "stderr",
     "output_type": "stream",
     "text": [
      "Adding P3634->116974 to M59657636. importing Met Object ID from source info from Commons template\n",
      "Adding P195->Q160236 to M59657636. adding collection based on Met Object ID\n"
     ]
    },
    {
     "name": "stdout",
     "output_type": "stream",
     "text": [
      "\n"
     ]
    },
    {
     "name": "stderr",
     "output_type": "stream",
     "text": [
      "Adding P3634->116974 to M59657630. importing Met Object ID from source info from Commons template\n",
      "Adding P195->Q160236 to M59657630. adding collection based on Met Object ID\n"
     ]
    },
    {
     "name": "stdout",
     "output_type": "stream",
     "text": [
      "\n"
     ]
    },
    {
     "name": "stderr",
     "output_type": "stream",
     "text": [
      "Adding P3634->116953 to M59657517. importing Met Object ID from source info from Commons template\n",
      "Adding P195->Q160236 to M59657517. adding collection based on Met Object ID\n"
     ]
    },
    {
     "name": "stdout",
     "output_type": "stream",
     "text": [
      "\n"
     ]
    },
    {
     "name": "stderr",
     "output_type": "stream",
     "text": [
      "Adding P3634->116953 to M59657520. importing Met Object ID from source info from Commons template\n",
      "Adding P195->Q160236 to M59657520. adding collection based on Met Object ID\n"
     ]
    },
    {
     "name": "stdout",
     "output_type": "stream",
     "text": [
      "\n"
     ]
    },
    {
     "name": "stderr",
     "output_type": "stream",
     "text": [
      "Adding P3634->87667 to M59496271. importing Met Object ID from source info from Commons template\n",
      "Adding P195->Q160236 to M59496271. adding collection based on Met Object ID\n"
     ]
    },
    {
     "name": "stdout",
     "output_type": "stream",
     "text": [
      "\n"
     ]
    },
    {
     "name": "stderr",
     "output_type": "stream",
     "text": [
      "Adding P3634->100030 to M59498204. importing Met Object ID from source info from Commons template\n",
      "Adding P195->Q160236 to M59498204. adding collection based on Met Object ID\n"
     ]
    },
    {
     "name": "stdout",
     "output_type": "stream",
     "text": [
      "\n"
     ]
    },
    {
     "name": "stderr",
     "output_type": "stream",
     "text": [
      "Adding P3634->157056 to M59658862. importing Met Object ID from source info from Commons template\n",
      "Adding P195->Q160236 to M59658862. adding collection based on Met Object ID\n"
     ]
    },
    {
     "name": "stdout",
     "output_type": "stream",
     "text": [
      "\n"
     ]
    },
    {
     "name": "stderr",
     "output_type": "stream",
     "text": [
      "Adding P3634->157056 to M59658870. importing Met Object ID from source info from Commons template\n",
      "Adding P195->Q160236 to M59658870. adding collection based on Met Object ID\n"
     ]
    },
    {
     "name": "stdout",
     "output_type": "stream",
     "text": [
      "\n"
     ]
    },
    {
     "name": "stderr",
     "output_type": "stream",
     "text": [
      "Adding P3634->170534 to M59665749. importing Met Object ID from source info from Commons template\n",
      "Adding P195->Q160236 to M59665749. adding collection based on Met Object ID\n"
     ]
    },
    {
     "name": "stdout",
     "output_type": "stream",
     "text": [
      "\n"
     ]
    },
    {
     "name": "stderr",
     "output_type": "stream",
     "text": [
      "Adding P3634->316922 to M60516865. importing Met Object ID from source info from Commons template\n",
      "Adding P195->Q160236 to M60516865. adding collection based on Met Object ID\n",
      "  Existing entry: skipping to be safe.\n",
      "Adding P3634->316923 to M60516862. importing Met Object ID from source info from Commons template\n"
     ]
    },
    {
     "name": "stdout",
     "output_type": "stream",
     "text": [
      "\n"
     ]
    },
    {
     "name": "stderr",
     "output_type": "stream",
     "text": [
      "Adding P195->Q160236 to M60516862. adding collection based on Met Object ID\n",
      "  Existing entry: skipping to be safe.\n",
      "Adding P3634->312668 to M60503414. importing Met Object ID from source info from Commons template\n"
     ]
    },
    {
     "name": "stdout",
     "output_type": "stream",
     "text": [
      "\n"
     ]
    },
    {
     "name": "stderr",
     "output_type": "stream",
     "text": [
      "Adding P195->Q160236 to M60503414. adding collection based on Met Object ID\n",
      "  Existing entry: skipping to be safe.\n",
      "Adding P3634->312668 to M60503421. importing Met Object ID from source info from Commons template\n"
     ]
    },
    {
     "name": "stdout",
     "output_type": "stream",
     "text": [
      "\n"
     ]
    },
    {
     "name": "stderr",
     "output_type": "stream",
     "text": [
      "Adding P195->Q160236 to M60503421. adding collection based on Met Object ID\n",
      "  Existing entry: skipping to be safe.\n",
      "Adding P3634->312167 to M60500379. importing Met Object ID from source info from Commons template\n"
     ]
    },
    {
     "name": "stdout",
     "output_type": "stream",
     "text": [
      "\n"
     ]
    },
    {
     "name": "stderr",
     "output_type": "stream",
     "text": [
      "Adding P195->Q160236 to M60500379. adding collection based on Met Object ID\n"
     ]
    },
    {
     "name": "stdout",
     "output_type": "stream",
     "text": [
      "\n"
     ]
    },
    {
     "name": "stderr",
     "output_type": "stream",
     "text": [
      "Adding P3634->312167 to M60500384. importing Met Object ID from source info from Commons template\n",
      "Adding P195->Q160236 to M60500384. adding collection based on Met Object ID\n",
      "  Existing entry: skipping to be safe.\n",
      "Adding P3634->310451 to M60505216. importing Met Object ID from source info from Commons template\n"
     ]
    },
    {
     "name": "stdout",
     "output_type": "stream",
     "text": [
      "\n"
     ]
    },
    {
     "name": "stderr",
     "output_type": "stream",
     "text": [
      "Adding P195->Q160236 to M60505216. adding collection based on Met Object ID\n"
     ]
    },
    {
     "name": "stdout",
     "output_type": "stream",
     "text": [
      "\n"
     ]
    },
    {
     "name": "stderr",
     "output_type": "stream",
     "text": [
      "Adding P3634->310451 to M60505217. importing Met Object ID from source info from Commons template\n",
      "Adding P195->Q160236 to M60505217. adding collection based on Met Object ID\n"
     ]
    },
    {
     "name": "stdout",
     "output_type": "stream",
     "text": [
      "\n"
     ]
    },
    {
     "name": "stderr",
     "output_type": "stream",
     "text": [
      "Adding P3634->308023 to M60503317. importing Met Object ID from source info from Commons template\n",
      "Adding P195->Q160236 to M60503317. adding collection based on Met Object ID\n"
     ]
    },
    {
     "name": "stdout",
     "output_type": "stream",
     "text": [
      "\n"
     ]
    },
    {
     "name": "stderr",
     "output_type": "stream",
     "text": [
      "Adding P3634->308021 to M60503301. importing Met Object ID from source info from Commons template\n",
      "Adding P195->Q160236 to M60503301. adding collection based on Met Object ID\n"
     ]
    },
    {
     "name": "stdout",
     "output_type": "stream",
     "text": [
      "\n"
     ]
    },
    {
     "name": "stderr",
     "output_type": "stream",
     "text": [
      "Adding P3634->308022 to M60503302. importing Met Object ID from source info from Commons template\n",
      "Adding P195->Q160236 to M60503302. adding collection based on Met Object ID\n"
     ]
    },
    {
     "name": "stdout",
     "output_type": "stream",
     "text": [
      "\n"
     ]
    },
    {
     "name": "stderr",
     "output_type": "stream",
     "text": [
      "Adding P3634->308024 to M60503322. importing Met Object ID from source info from Commons template\n",
      "Adding P195->Q160236 to M60503322. adding collection based on Met Object ID\n"
     ]
    },
    {
     "name": "stdout",
     "output_type": "stream",
     "text": [
      "\n"
     ]
    },
    {
     "name": "stderr",
     "output_type": "stream",
     "text": [
      "Adding P3634->308025 to M60503328. importing Met Object ID from source info from Commons template\n",
      "Adding P195->Q160236 to M60503328. adding collection based on Met Object ID\n"
     ]
    },
    {
     "name": "stdout",
     "output_type": "stream",
     "text": [
      "\n"
     ]
    },
    {
     "name": "stderr",
     "output_type": "stream",
     "text": [
      "Adding P3634->308028 to M60503471. importing Met Object ID from source info from Commons template\n",
      "Adding P195->Q160236 to M60503471. adding collection based on Met Object ID\n"
     ]
    },
    {
     "name": "stdout",
     "output_type": "stream",
     "text": [
      "\n"
     ]
    },
    {
     "name": "stderr",
     "output_type": "stream",
     "text": [
      "Adding P3634->316921 to M60516858. importing Met Object ID from source info from Commons template\n",
      "Adding P195->Q160236 to M60516858. adding collection based on Met Object ID\n"
     ]
    },
    {
     "name": "stdout",
     "output_type": "stream",
     "text": [
      "\n"
     ]
    },
    {
     "name": "stderr",
     "output_type": "stream",
     "text": [
      "Adding P3634->307963 to M60502420. importing Met Object ID from source info from Commons template\n",
      "Adding P195->Q160236 to M60502420. adding collection based on Met Object ID\n",
      "  Existing entry: skipping to be safe.\n",
      "Adding P3634->307963 to M60502411. importing Met Object ID from source info from Commons template\n"
     ]
    },
    {
     "name": "stdout",
     "output_type": "stream",
     "text": [
      "\n"
     ]
    },
    {
     "name": "stderr",
     "output_type": "stream",
     "text": [
      "Adding P195->Q160236 to M60502411. adding collection based on Met Object ID\n",
      "  Existing entry: skipping to be safe.\n",
      "Adding P3634->316925 to M60516868. importing Met Object ID from source info from Commons template\n"
     ]
    },
    {
     "name": "stdout",
     "output_type": "stream",
     "text": [
      "\n"
     ]
    },
    {
     "name": "stderr",
     "output_type": "stream",
     "text": [
      "Adding P195->Q160236 to M60516868. adding collection based on Met Object ID\n",
      "  Existing entry: skipping to be safe.\n",
      "Adding P3634->316925 to M60516869. importing Met Object ID from source info from Commons template\n"
     ]
    },
    {
     "name": "stdout",
     "output_type": "stream",
     "text": [
      "\n"
     ]
    },
    {
     "name": "stderr",
     "output_type": "stream",
     "text": [
      "Adding P195->Q160236 to M60516869. adding collection based on Met Object ID\n",
      "  Existing entry: skipping to be safe.\n",
      "Adding P3634->317645 to M60514380. importing Met Object ID from source info from Commons template\n"
     ]
    },
    {
     "name": "stdout",
     "output_type": "stream",
     "text": [
      "\n"
     ]
    },
    {
     "name": "stderr",
     "output_type": "stream",
     "text": [
      "Adding P195->Q160236 to M60514380. adding collection based on Met Object ID\n"
     ]
    },
    {
     "name": "stdout",
     "output_type": "stream",
     "text": [
      "\n"
     ]
    },
    {
     "name": "stderr",
     "output_type": "stream",
     "text": [
      "Adding P3634->307842 to M60500964. importing Met Object ID from source info from Commons template\n",
      "Adding P195->Q160236 to M60500964. adding collection based on Met Object ID\n"
     ]
    },
    {
     "name": "stdout",
     "output_type": "stream",
     "text": [
      "\n"
     ]
    },
    {
     "name": "stderr",
     "output_type": "stream",
     "text": [
      "Adding P3634->315698 to M60508979. importing Met Object ID from source info from Commons template\n",
      "Adding P195->Q160236 to M60508979. adding collection based on Met Object ID\n"
     ]
    },
    {
     "name": "stdout",
     "output_type": "stream",
     "text": [
      "\n"
     ]
    },
    {
     "name": "stderr",
     "output_type": "stream",
     "text": [
      "Adding P3634->315690 to M60508846. importing Met Object ID from source info from Commons template\n",
      "Adding P195->Q160236 to M60508846. adding collection based on Met Object ID\n"
     ]
    },
    {
     "name": "stdout",
     "output_type": "stream",
     "text": [
      "\n"
     ]
    },
    {
     "name": "stderr",
     "output_type": "stream",
     "text": [
      "Adding P3634->307805 to M60500701. importing Met Object ID from source info from Commons template\n",
      "Adding P195->Q160236 to M60500701. adding collection based on Met Object ID\n"
     ]
    },
    {
     "name": "stdout",
     "output_type": "stream",
     "text": [
      "\n"
     ]
    },
    {
     "name": "stderr",
     "output_type": "stream",
     "text": [
      "Adding P3634->316918 to M60516855. importing Met Object ID from source info from Commons template\n",
      "Adding P195->Q160236 to M60516855. adding collection based on Met Object ID\n"
     ]
    },
    {
     "name": "stdout",
     "output_type": "stream",
     "text": [
      "\n"
     ]
    },
    {
     "name": "stderr",
     "output_type": "stream",
     "text": [
      "Adding P3634->316919 to M60516856. importing Met Object ID from source info from Commons template\n",
      "Adding P195->Q160236 to M60516856. adding collection based on Met Object ID\n",
      "  Existing entry: skipping to be safe.\n",
      "Adding P3634->316920 to M60516860. importing Met Object ID from source info from Commons template\n"
     ]
    },
    {
     "name": "stdout",
     "output_type": "stream",
     "text": [
      "\n"
     ]
    },
    {
     "name": "stderr",
     "output_type": "stream",
     "text": [
      "Adding P195->Q160236 to M60516860. adding collection based on Met Object ID\n"
     ]
    },
    {
     "name": "stdout",
     "output_type": "stream",
     "text": [
      "\n"
     ]
    },
    {
     "name": "stderr",
     "output_type": "stream",
     "text": [
      "Adding P3634->316917 to M60516853. importing Met Object ID from source info from Commons template\n",
      "Adding P195->Q160236 to M60516853. adding collection based on Met Object ID\n"
     ]
    },
    {
     "name": "stdout",
     "output_type": "stream",
     "text": [
      "\n"
     ]
    },
    {
     "name": "stderr",
     "output_type": "stream",
     "text": [
      "Adding P3634->308217 to M60505047. importing Met Object ID from source info from Commons template\n",
      "Adding P195->Q160236 to M60505047. adding collection based on Met Object ID\n"
     ]
    },
    {
     "name": "stdout",
     "output_type": "stream",
     "text": [
      "\n"
     ]
    },
    {
     "name": "stderr",
     "output_type": "stream",
     "text": [
      "Adding P3634->315768 to M60509495. importing Met Object ID from source info from Commons template\n",
      "Adding P195->Q160236 to M60509495. adding collection based on Met Object ID\n"
     ]
    },
    {
     "name": "stdout",
     "output_type": "stream",
     "text": [
      "\n"
     ]
    },
    {
     "name": "stderr",
     "output_type": "stream",
     "text": [
      "Adding P3634->315769 to M60509500. importing Met Object ID from source info from Commons template\n",
      "Adding P195->Q160236 to M60509500. adding collection based on Met Object ID\n"
     ]
    },
    {
     "name": "stdout",
     "output_type": "stream",
     "text": [
      "\n"
     ]
    },
    {
     "name": "stderr",
     "output_type": "stream",
     "text": [
      "Adding P3634->319018 to M60512976. importing Met Object ID from source info from Commons template\n",
      "Adding P195->Q160236 to M60512976. adding collection based on Met Object ID\n",
      "  Existing entry: skipping to be safe.\n",
      "Adding P3634->319121 to M60514628. importing Met Object ID from source info from Commons template\n"
     ]
    },
    {
     "name": "stdout",
     "output_type": "stream",
     "text": [
      "\n"
     ]
    },
    {
     "name": "stderr",
     "output_type": "stream",
     "text": [
      "Adding P195->Q160236 to M60514628. adding collection based on Met Object ID\n",
      "  Existing entry: skipping to be safe.\n",
      "Adding P3634->315768 to M60509505. importing Met Object ID from source info from Commons template\n"
     ]
    },
    {
     "name": "stdout",
     "output_type": "stream",
     "text": [
      "\n"
     ]
    },
    {
     "name": "stderr",
     "output_type": "stream",
     "text": [
      "Adding P195->Q160236 to M60509505. adding collection based on Met Object ID\n"
     ]
    },
    {
     "name": "stdout",
     "output_type": "stream",
     "text": [
      "\n"
     ]
    },
    {
     "name": "stderr",
     "output_type": "stream",
     "text": [
      "Adding P3634->319018 to M60513160. importing Met Object ID from source info from Commons template\n",
      "Adding P195->Q160236 to M60513160. adding collection based on Met Object ID\n",
      "  Existing entry: skipping to be safe.\n",
      "Adding P3634->319018 to M60513161. importing Met Object ID from source info from Commons template\n"
     ]
    },
    {
     "name": "stdout",
     "output_type": "stream",
     "text": [
      "\n"
     ]
    },
    {
     "name": "stderr",
     "output_type": "stream",
     "text": [
      "Adding P195->Q160236 to M60513161. adding collection based on Met Object ID\n",
      "  Existing entry: skipping to be safe.\n",
      "Adding P3634->319018 to M60512969. importing Met Object ID from source info from Commons template\n"
     ]
    },
    {
     "name": "stdout",
     "output_type": "stream",
     "text": [
      "\n"
     ]
    },
    {
     "name": "stderr",
     "output_type": "stream",
     "text": [
      "Adding P195->Q160236 to M60512969. adding collection based on Met Object ID\n",
      "  Existing entry: skipping to be safe.\n",
      "Adding P3634->319121 to M60514619. importing Met Object ID from source info from Commons template\n"
     ]
    },
    {
     "name": "stdout",
     "output_type": "stream",
     "text": [
      "\n"
     ]
    },
    {
     "name": "stderr",
     "output_type": "stream",
     "text": [
      "Adding P195->Q160236 to M60514619. adding collection based on Met Object ID\n"
     ]
    },
    {
     "name": "stdout",
     "output_type": "stream",
     "text": [
      "\n"
     ]
    },
    {
     "name": "stderr",
     "output_type": "stream",
     "text": [
      "Adding P3634->319121 to M60514617. importing Met Object ID from source info from Commons template\n",
      "Adding P195->Q160236 to M60514617. adding collection based on Met Object ID\n"
     ]
    },
    {
     "name": "stdout",
     "output_type": "stream",
     "text": [
      "\n"
     ]
    },
    {
     "name": "stderr",
     "output_type": "stream",
     "text": [
      "Adding P3634->307941 to M60501995. importing Met Object ID from source info from Commons template\n",
      "Adding P195->Q160236 to M60501995. adding collection based on Met Object ID\n"
     ]
    },
    {
     "name": "stdout",
     "output_type": "stream",
     "text": [
      "\n"
     ]
    },
    {
     "name": "stderr",
     "output_type": "stream",
     "text": [
      "Adding P3634->307941 to M60501997. importing Met Object ID from source info from Commons template\n",
      "Adding P195->Q160236 to M60501997. adding collection based on Met Object ID\n"
     ]
    },
    {
     "name": "stdout",
     "output_type": "stream",
     "text": [
      "\n"
     ]
    },
    {
     "name": "stderr",
     "output_type": "stream",
     "text": [
      "Adding P3634->316924 to M60516866. importing Met Object ID from source info from Commons template\n",
      "Adding P195->Q160236 to M60516866. adding collection based on Met Object ID\n"
     ]
    },
    {
     "name": "stdout",
     "output_type": "stream",
     "text": [
      "\n"
     ]
    },
    {
     "name": "stderr",
     "output_type": "stream",
     "text": [
      "Adding P3634->316924 to M60516864. importing Met Object ID from source info from Commons template\n",
      "Adding P195->Q160236 to M60516864. adding collection based on Met Object ID\n"
     ]
    },
    {
     "name": "stdout",
     "output_type": "stream",
     "text": [
      "\n"
     ]
    },
    {
     "name": "stderr",
     "output_type": "stream",
     "text": [
      "Adding P3634->314897 to M60509688. importing Met Object ID from source info from Commons template\n",
      "Adding P195->Q160236 to M60509688. adding collection based on Met Object ID\n"
     ]
    },
    {
     "name": "stdout",
     "output_type": "stream",
     "text": [
      "\n"
     ]
    },
    {
     "name": "stderr",
     "output_type": "stream",
     "text": [
      "Adding P3634->314897 to M60509690. importing Met Object ID from source info from Commons template\n",
      "Adding P195->Q160236 to M60509690. adding collection based on Met Object ID\n"
     ]
    },
    {
     "name": "stdout",
     "output_type": "stream",
     "text": [
      "\n"
     ]
    },
    {
     "name": "stderr",
     "output_type": "stream",
     "text": [
      "Adding P3634->309762 to M60503168. importing Met Object ID from source info from Commons template\n",
      "Adding P195->Q160236 to M60503168. adding collection based on Met Object ID\n"
     ]
    },
    {
     "name": "stdout",
     "output_type": "stream",
     "text": [
      "\n"
     ]
    },
    {
     "name": "stderr",
     "output_type": "stream",
     "text": [
      "Adding P3634->158812 to M65090906. importing Met Object ID from source info from Commons template\n",
      "Adding P195->Q160236 to M65090906. adding collection based on Met Object ID\n"
     ]
    },
    {
     "name": "stdout",
     "output_type": "stream",
     "text": [
      "\n"
     ]
    },
    {
     "name": "stderr",
     "output_type": "stream",
     "text": [
      "Adding P3634->158812 to M61209985. importing Met Object ID from source info from Commons template\n",
      "Adding P195->Q160236 to M61209985. adding collection based on Met Object ID\n"
     ]
    },
    {
     "name": "stdout",
     "output_type": "stream",
     "text": [
      "\n"
     ]
    },
    {
     "name": "stderr",
     "output_type": "stream",
     "text": [
      "Adding P3634->158918 to M65090915. importing Met Object ID from source info from Commons template\n",
      "Adding P195->Q160236 to M65090915. adding collection based on Met Object ID\n"
     ]
    },
    {
     "name": "stdout",
     "output_type": "stream",
     "text": [
      "\n"
     ]
    },
    {
     "name": "stderr",
     "output_type": "stream",
     "text": [
      "Adding P3634->158918 to M61210216. importing Met Object ID from source info from Commons template\n",
      "Adding P195->Q160236 to M61210216. adding collection based on Met Object ID\n"
     ]
    },
    {
     "name": "stdout",
     "output_type": "stream",
     "text": [
      "\n"
     ]
    },
    {
     "name": "stderr",
     "output_type": "stream",
     "text": [
      "Adding P3634->156605 to M59657363. importing Met Object ID from source info from Commons template\n",
      "Adding P195->Q160236 to M59657363. adding collection based on Met Object ID\n"
     ]
    },
    {
     "name": "stdout",
     "output_type": "stream",
     "text": [
      "\n"
     ]
    },
    {
     "name": "stderr",
     "output_type": "stream",
     "text": [
      "Adding P3634->156671 to M59657500. importing Met Object ID from source info from Commons template\n",
      "Adding P195->Q160236 to M59657500. adding collection based on Met Object ID\n"
     ]
    },
    {
     "name": "stdout",
     "output_type": "stream",
     "text": [
      "\n"
     ]
    },
    {
     "name": "stderr",
     "output_type": "stream",
     "text": [
      "Adding P3634->156671 to M59657490. importing Met Object ID from source info from Commons template\n",
      "Adding P195->Q160236 to M59657490. adding collection based on Met Object ID\n"
     ]
    },
    {
     "name": "stdout",
     "output_type": "stream",
     "text": [
      "\n"
     ]
    },
    {
     "name": "stderr",
     "output_type": "stream",
     "text": [
      "Adding P3634->316913 to M60516849. importing Met Object ID from source info from Commons template\n",
      "Adding P195->Q160236 to M60516849. adding collection based on Met Object ID\n"
     ]
    },
    {
     "name": "stdout",
     "output_type": "stream",
     "text": [
      "\n"
     ]
    },
    {
     "name": "stderr",
     "output_type": "stream",
     "text": [
      "Adding P3634->316913 to M60516851. importing Met Object ID from source info from Commons template\n",
      "Adding P195->Q160236 to M60516851. adding collection based on Met Object ID\n"
     ]
    },
    {
     "name": "stdout",
     "output_type": "stream",
     "text": [
      "\n"
     ]
    },
    {
     "name": "stderr",
     "output_type": "stream",
     "text": [
      "Adding P3634->168422 to M61212310. importing Met Object ID from source info from Commons template\n",
      "Adding P195->Q160236 to M61212310. adding collection based on Met Object ID\n"
     ]
    },
    {
     "name": "stdout",
     "output_type": "stream",
     "text": [
      "\n"
     ]
    },
    {
     "name": "stderr",
     "output_type": "stream",
     "text": [
      "Adding P3634->156451 to M59663423. importing Met Object ID from source info from Commons template\n",
      "Adding P195->Q160236 to M59663423. adding collection based on Met Object ID\n"
     ]
    },
    {
     "name": "stdout",
     "output_type": "stream",
     "text": [
      "\n"
     ]
    },
    {
     "name": "stderr",
     "output_type": "stream",
     "text": [
      "Adding P3634->156451 to M59663426. importing Met Object ID from source info from Commons template\n",
      "Adding P195->Q160236 to M59663426. adding collection based on Met Object ID\n"
     ]
    },
    {
     "name": "stdout",
     "output_type": "stream",
     "text": [
      "\n"
     ]
    },
    {
     "name": "stderr",
     "output_type": "stream",
     "text": [
      "Adding P3634->168425 to M61212311. importing Met Object ID from source info from Commons template\n",
      "Adding P195->Q160236 to M61212311. adding collection based on Met Object ID\n"
     ]
    },
    {
     "name": "stdout",
     "output_type": "stream",
     "text": [
      "\n"
     ]
    },
    {
     "name": "stderr",
     "output_type": "stream",
     "text": [
      "Adding P3634->168425 to M61212313. importing Met Object ID from source info from Commons template\n",
      "Adding P195->Q160236 to M61212313. adding collection based on Met Object ID\n"
     ]
    },
    {
     "name": "stdout",
     "output_type": "stream",
     "text": [
      "\n"
     ]
    },
    {
     "name": "stderr",
     "output_type": "stream",
     "text": [
      "Adding P3634->156563 to M59664602. importing Met Object ID from source info from Commons template\n",
      "Adding P195->Q160236 to M59664602. adding collection based on Met Object ID\n"
     ]
    },
    {
     "name": "stdout",
     "output_type": "stream",
     "text": [
      "\n"
     ]
    },
    {
     "name": "stderr",
     "output_type": "stream",
     "text": [
      "Adding P3634->156617 to M59657395. importing Met Object ID from source info from Commons template\n",
      "Adding P195->Q160236 to M59657395. adding collection based on Met Object ID\n"
     ]
    },
    {
     "name": "stdout",
     "output_type": "stream",
     "text": [
      "\n"
     ]
    },
    {
     "name": "stderr",
     "output_type": "stream",
     "text": [
      "Adding P3634->156674 to M59657498. importing Met Object ID from source info from Commons template\n",
      "Adding P195->Q160236 to M59657498. adding collection based on Met Object ID\n"
     ]
    },
    {
     "name": "stdout",
     "output_type": "stream",
     "text": [
      "\n"
     ]
    },
    {
     "name": "stderr",
     "output_type": "stream",
     "text": [
      "Adding P3634->156674 to M59657494. importing Met Object ID from source info from Commons template\n",
      "Adding P195->Q160236 to M59657494. adding collection based on Met Object ID\n"
     ]
    },
    {
     "name": "stdout",
     "output_type": "stream",
     "text": [
      "\n"
     ]
    },
    {
     "name": "stderr",
     "output_type": "stream",
     "text": [
      "Adding P3634->156675 to M59657509. importing Met Object ID from source info from Commons template\n",
      "Adding P195->Q160236 to M59657509. adding collection based on Met Object ID\n"
     ]
    },
    {
     "name": "stdout",
     "output_type": "stream",
     "text": [
      "\n"
     ]
    },
    {
     "name": "stderr",
     "output_type": "stream",
     "text": [
      "Adding P3634->156675 to M59657505. importing Met Object ID from source info from Commons template\n",
      "Adding P195->Q160236 to M59657505. adding collection based on Met Object ID\n"
     ]
    },
    {
     "name": "stdout",
     "output_type": "stream",
     "text": [
      "\n"
     ]
    },
    {
     "name": "stderr",
     "output_type": "stream",
     "text": [
      "Adding P3634->156677 to M59657534. importing Met Object ID from source info from Commons template\n",
      "Adding P195->Q160236 to M59657534. adding collection based on Met Object ID\n"
     ]
    },
    {
     "name": "stdout",
     "output_type": "stream",
     "text": [
      "\n"
     ]
    },
    {
     "name": "stderr",
     "output_type": "stream",
     "text": [
      "Adding P3634->156677 to M59657533. importing Met Object ID from source info from Commons template\n",
      "Adding P195->Q160236 to M59657533. adding collection based on Met Object ID\n"
     ]
    },
    {
     "name": "stdout",
     "output_type": "stream",
     "text": [
      "\n"
     ]
    },
    {
     "name": "stderr",
     "output_type": "stream",
     "text": [
      "Adding P3634->156678 to M59657568. importing Met Object ID from source info from Commons template\n",
      "Adding P195->Q160236 to M59657568. adding collection based on Met Object ID\n"
     ]
    },
    {
     "name": "stdout",
     "output_type": "stream",
     "text": [
      "\n"
     ]
    },
    {
     "name": "stderr",
     "output_type": "stream",
     "text": [
      "Adding P3634->156678 to M59657573. importing Met Object ID from source info from Commons template\n",
      "Adding P195->Q160236 to M59657573. adding collection based on Met Object ID\n"
     ]
    },
    {
     "name": "stdout",
     "output_type": "stream",
     "text": [
      "\n"
     ]
    },
    {
     "name": "stderr",
     "output_type": "stream",
     "text": [
      "Adding P3634->156679 to M59657567. importing Met Object ID from source info from Commons template\n",
      "Adding P195->Q160236 to M59657567. adding collection based on Met Object ID\n"
     ]
    },
    {
     "name": "stdout",
     "output_type": "stream",
     "text": [
      "\n"
     ]
    },
    {
     "name": "stderr",
     "output_type": "stream",
     "text": [
      "Adding P3634->156679 to M59657561. importing Met Object ID from source info from Commons template\n",
      "Adding P195->Q160236 to M59657561. adding collection based on Met Object ID\n"
     ]
    },
    {
     "name": "stdout",
     "output_type": "stream",
     "text": [
      "\n"
     ]
    },
    {
     "name": "stderr",
     "output_type": "stream",
     "text": [
      "Adding P3634->156680 to M59657566. importing Met Object ID from source info from Commons template\n",
      "Adding P195->Q160236 to M59657566. adding collection based on Met Object ID\n"
     ]
    },
    {
     "name": "stdout",
     "output_type": "stream",
     "text": [
      "\n"
     ]
    },
    {
     "name": "stderr",
     "output_type": "stream",
     "text": [
      "Adding P3634->156680 to M59657564. importing Met Object ID from source info from Commons template\n",
      "Adding P195->Q160236 to M59657564. adding collection based on Met Object ID\n"
     ]
    },
    {
     "name": "stdout",
     "output_type": "stream",
     "text": [
      "\n"
     ]
    },
    {
     "name": "stderr",
     "output_type": "stream",
     "text": [
      "Adding P3634->156682 to M59657581. importing Met Object ID from source info from Commons template\n",
      "Adding P195->Q160236 to M59657581. adding collection based on Met Object ID\n"
     ]
    },
    {
     "name": "stdout",
     "output_type": "stream",
     "text": [
      "\n"
     ]
    },
    {
     "name": "stderr",
     "output_type": "stream",
     "text": [
      "Adding P3634->156682 to M59657565. importing Met Object ID from source info from Commons template\n",
      "Adding P195->Q160236 to M59657565. adding collection based on Met Object ID\n"
     ]
    },
    {
     "name": "stdout",
     "output_type": "stream",
     "text": [
      "\n"
     ]
    },
    {
     "name": "stderr",
     "output_type": "stream",
     "text": [
      "Adding P3634->156691 to M59657593. importing Met Object ID from source info from Commons template\n",
      "Adding P195->Q160236 to M59657593. adding collection based on Met Object ID\n"
     ]
    },
    {
     "name": "stdout",
     "output_type": "stream",
     "text": [
      "\n"
     ]
    },
    {
     "name": "stderr",
     "output_type": "stream",
     "text": [
      "Adding P3634->156691 to M59657594. importing Met Object ID from source info from Commons template\n",
      "Adding P195->Q160236 to M59657594. adding collection based on Met Object ID\n"
     ]
    },
    {
     "name": "stdout",
     "output_type": "stream",
     "text": [
      "\n"
     ]
    },
    {
     "name": "stderr",
     "output_type": "stream",
     "text": [
      "Adding P3634->156693 to M59657603. importing Met Object ID from source info from Commons template\n",
      "Adding P195->Q160236 to M59657603. adding collection based on Met Object ID\n"
     ]
    },
    {
     "name": "stdout",
     "output_type": "stream",
     "text": [
      "\n"
     ]
    },
    {
     "name": "stderr",
     "output_type": "stream",
     "text": [
      "Adding P3634->156693 to M59657610. importing Met Object ID from source info from Commons template\n",
      "Adding P195->Q160236 to M59657610. adding collection based on Met Object ID\n"
     ]
    },
    {
     "name": "stdout",
     "output_type": "stream",
     "text": [
      "\n"
     ]
    },
    {
     "name": "stderr",
     "output_type": "stream",
     "text": [
      "Adding P3634->156668 to M59657483. importing Met Object ID from source info from Commons template\n",
      "Adding P195->Q160236 to M59657483. adding collection based on Met Object ID\n"
     ]
    },
    {
     "name": "stdout",
     "output_type": "stream",
     "text": [
      "\n"
     ]
    },
    {
     "name": "stderr",
     "output_type": "stream",
     "text": [
      "Adding P3634->169689 to M59663164. importing Met Object ID from source info from Commons template\n",
      "Adding P195->Q160236 to M59663164. adding collection based on Met Object ID\n"
     ]
    },
    {
     "name": "stdout",
     "output_type": "stream",
     "text": [
      "\n"
     ]
    },
    {
     "name": "stderr",
     "output_type": "stream",
     "text": [
      "Adding P3634->169690 to M59663161. importing Met Object ID from source info from Commons template\n",
      "Adding P195->Q160236 to M59663161. adding collection based on Met Object ID\n"
     ]
    },
    {
     "name": "stdout",
     "output_type": "stream",
     "text": [
      "\n"
     ]
    },
    {
     "name": "stderr",
     "output_type": "stream",
     "text": [
      "Adding P3634->156857 to M59658119. importing Met Object ID from source info from Commons template\n",
      "Adding P195->Q160236 to M59658119. adding collection based on Met Object ID\n"
     ]
    },
    {
     "name": "stdout",
     "output_type": "stream",
     "text": [
      "\n"
     ]
    },
    {
     "name": "stderr",
     "output_type": "stream",
     "text": [
      "Adding P3634->156858 to M59658113. importing Met Object ID from source info from Commons template\n",
      "Adding P195->Q160236 to M59658113. adding collection based on Met Object ID\n"
     ]
    },
    {
     "name": "stdout",
     "output_type": "stream",
     "text": [
      "\n"
     ]
    },
    {
     "name": "stderr",
     "output_type": "stream",
     "text": [
      "Adding P3634->117298 to M59657808. importing Met Object ID from source info from Commons template\n",
      "Adding P195->Q160236 to M59657808. adding collection based on Met Object ID\n"
     ]
    },
    {
     "name": "stdout",
     "output_type": "stream",
     "text": [
      "\n"
     ]
    },
    {
     "name": "stderr",
     "output_type": "stream",
     "text": [
      "Adding P3634->117196 to M59657702. importing Met Object ID from source info from Commons template\n",
      "Adding P195->Q160236 to M59657702. adding collection based on Met Object ID\n"
     ]
    },
    {
     "name": "stdout",
     "output_type": "stream",
     "text": [
      "\n"
     ]
    },
    {
     "name": "stderr",
     "output_type": "stream",
     "text": [
      "Adding P3634->116946 to M59657474. importing Met Object ID from source info from Commons template\n",
      "Adding P195->Q160236 to M59657474. adding collection based on Met Object ID\n"
     ]
    },
    {
     "name": "stdout",
     "output_type": "stream",
     "text": [
      "\n"
     ]
    },
    {
     "name": "stderr",
     "output_type": "stream",
     "text": [
      "Adding P3634->117184 to M59657684. importing Met Object ID from source info from Commons template\n",
      "Adding P195->Q160236 to M59657684. adding collection based on Met Object ID\n"
     ]
    },
    {
     "name": "stdout",
     "output_type": "stream",
     "text": [
      "\n"
     ]
    },
    {
     "name": "stderr",
     "output_type": "stream",
     "text": [
      "Adding P3634->116976 to M59657631. importing Met Object ID from source info from Commons template\n",
      "Adding P195->Q160236 to M59657631. adding collection based on Met Object ID\n"
     ]
    },
    {
     "name": "stdout",
     "output_type": "stream",
     "text": [
      "\n"
     ]
    },
    {
     "name": "stderr",
     "output_type": "stream",
     "text": [
      "Adding P3634->116943 to M59657425. importing Met Object ID from source info from Commons template\n",
      "Adding P195->Q160236 to M59657425. adding collection based on Met Object ID\n"
     ]
    },
    {
     "name": "stdout",
     "output_type": "stream",
     "text": [
      "\n"
     ]
    },
    {
     "name": "stderr",
     "output_type": "stream",
     "text": [
      "Adding P3634->117201 to M59657711. importing Met Object ID from source info from Commons template\n",
      "Adding P195->Q160236 to M59657711. adding collection based on Met Object ID\n"
     ]
    },
    {
     "name": "stdout",
     "output_type": "stream",
     "text": [
      "\n"
     ]
    },
    {
     "name": "stderr",
     "output_type": "stream",
     "text": [
      "Adding P3634->117314 to M59657875. importing Met Object ID from source info from Commons template\n",
      "Adding P195->Q160236 to M59657875. adding collection based on Met Object ID\n"
     ]
    },
    {
     "name": "stdout",
     "output_type": "stream",
     "text": [
      "\n"
     ]
    },
    {
     "name": "stderr",
     "output_type": "stream",
     "text": [
      "Adding P3634->117277 to M59657776. importing Met Object ID from source info from Commons template\n",
      "Adding P195->Q160236 to M59657776. adding collection based on Met Object ID\n"
     ]
    },
    {
     "name": "stdout",
     "output_type": "stream",
     "text": [
      "\n"
     ]
    },
    {
     "name": "stderr",
     "output_type": "stream",
     "text": [
      "Adding P3634->116969 to M59657624. importing Met Object ID from source info from Commons template\n",
      "Adding P195->Q160236 to M59657624. adding collection based on Met Object ID\n"
     ]
    },
    {
     "name": "stdout",
     "output_type": "stream",
     "text": [
      "\n"
     ]
    },
    {
     "name": "stderr",
     "output_type": "stream",
     "text": [
      "Adding P3634->117190 to M59657693. importing Met Object ID from source info from Commons template\n",
      "Adding P195->Q160236 to M59657693. adding collection based on Met Object ID\n"
     ]
    },
    {
     "name": "stdout",
     "output_type": "stream",
     "text": [
      "\n"
     ]
    },
    {
     "name": "stderr",
     "output_type": "stream",
     "text": [
      "Adding P3634->116955 to M59657523. importing Met Object ID from source info from Commons template\n",
      "Adding P195->Q160236 to M59657523. adding collection based on Met Object ID\n"
     ]
    },
    {
     "name": "stdout",
     "output_type": "stream",
     "text": [
      "\n"
     ]
    },
    {
     "name": "stderr",
     "output_type": "stream",
     "text": [
      "Adding P3634->84220 to M59489866. importing Met Object ID from source info from Commons template\n",
      "Adding P195->Q160236 to M59489866. adding collection based on Met Object ID\n"
     ]
    },
    {
     "name": "stdout",
     "output_type": "stream",
     "text": [
      "\n"
     ]
    },
    {
     "name": "stderr",
     "output_type": "stream",
     "text": [
      "Adding P3634->84809 to M59496384. importing Met Object ID from source info from Commons template\n",
      "Adding P195->Q160236 to M59496384. adding collection based on Met Object ID\n"
     ]
    },
    {
     "name": "stdout",
     "output_type": "stream",
     "text": [
      "\n"
     ]
    },
    {
     "name": "stderr",
     "output_type": "stream",
     "text": [
      "Adding P3634->106752 to M59499567. importing Met Object ID from source info from Commons template\n",
      "Adding P195->Q160236 to M59499567. adding collection based on Met Object ID\n"
     ]
    },
    {
     "name": "stdout",
     "output_type": "stream",
     "text": [
      "\n"
     ]
    },
    {
     "name": "stderr",
     "output_type": "stream",
     "text": [
      "Adding P3634->106752 to M59499565. importing Met Object ID from source info from Commons template\n",
      "Adding P195->Q160236 to M59499565. adding collection based on Met Object ID\n"
     ]
    },
    {
     "name": "stdout",
     "output_type": "stream",
     "text": [
      "\n"
     ]
    },
    {
     "name": "stderr",
     "output_type": "stream",
     "text": [
      "Adding P3634->108618 to M59502624. importing Met Object ID from source info from Commons template\n",
      "Adding P195->Q160236 to M59502624. adding collection based on Met Object ID\n"
     ]
    },
    {
     "name": "stdout",
     "output_type": "stream",
     "text": [
      "\n"
     ]
    },
    {
     "name": "stderr",
     "output_type": "stream",
     "text": [
      "Adding P3634->170309 to M59665022. importing Met Object ID from source info from Commons template\n",
      "Adding P195->Q160236 to M59665022. adding collection based on Met Object ID\n"
     ]
    },
    {
     "name": "stdout",
     "output_type": "stream",
     "text": [
      "\n"
     ]
    },
    {
     "name": "stderr",
     "output_type": "stream",
     "text": [
      "Adding P3634->168623 to M59659206. importing Met Object ID from source info from Commons template\n",
      "Adding P195->Q160236 to M59659206. adding collection based on Met Object ID\n"
     ]
    },
    {
     "name": "stdout",
     "output_type": "stream",
     "text": [
      "\n"
     ]
    },
    {
     "name": "stderr",
     "output_type": "stream",
     "text": [
      "Adding P3634->157382 to M59660572. importing Met Object ID from source info from Commons template\n",
      "Adding P195->Q160236 to M59660572. adding collection based on Met Object ID\n"
     ]
    },
    {
     "name": "stdout",
     "output_type": "stream",
     "text": [
      "\n"
     ]
    },
    {
     "name": "stderr",
     "output_type": "stream",
     "text": [
      "Adding P3634->81590 to M59494652. importing Met Object ID from source info from Commons template\n",
      "Adding P195->Q160236 to M59494652. adding collection based on Met Object ID\n"
     ]
    },
    {
     "name": "stdout",
     "output_type": "stream",
     "text": [
      "\n"
     ]
    },
    {
     "name": "stderr",
     "output_type": "stream",
     "text": [
      "Adding P3634->81523 to M59492273. importing Met Object ID from source info from Commons template\n",
      "Adding P195->Q160236 to M59492273. adding collection based on Met Object ID\n"
     ]
    },
    {
     "name": "stdout",
     "output_type": "stream",
     "text": [
      "\n"
     ]
    },
    {
     "name": "stderr",
     "output_type": "stream",
     "text": [
      "Adding P3634->156434 to M59663078. importing Met Object ID from source info from Commons template\n",
      "Adding P195->Q160236 to M59663078. adding collection based on Met Object ID\n"
     ]
    },
    {
     "name": "stdout",
     "output_type": "stream",
     "text": [
      "\n"
     ]
    },
    {
     "name": "stderr",
     "output_type": "stream",
     "text": [
      "Adding P3634->156434 to M59663081. importing Met Object ID from source info from Commons template\n",
      "Adding P195->Q160236 to M59663081. adding collection based on Met Object ID\n"
     ]
    },
    {
     "name": "stdout",
     "output_type": "stream",
     "text": [
      "\n"
     ]
    },
    {
     "name": "stderr",
     "output_type": "stream",
     "text": [
      "Adding P3634->168388 to M61212267. importing Met Object ID from source info from Commons template\n",
      "Adding P195->Q160236 to M61212267. adding collection based on Met Object ID\n"
     ]
    },
    {
     "name": "stdout",
     "output_type": "stream",
     "text": [
      "\n"
     ]
    },
    {
     "name": "stderr",
     "output_type": "stream",
     "text": [
      "Adding P3634->156444 to M59663246. importing Met Object ID from source info from Commons template\n",
      "Adding P195->Q160236 to M59663246. adding collection based on Met Object ID\n"
     ]
    },
    {
     "name": "stdout",
     "output_type": "stream",
     "text": [
      "\n"
     ]
    },
    {
     "name": "stderr",
     "output_type": "stream",
     "text": [
      "Adding P3634->156445 to M59663250. importing Met Object ID from source info from Commons template\n",
      "Adding P195->Q160236 to M59663250. adding collection based on Met Object ID\n"
     ]
    },
    {
     "name": "stdout",
     "output_type": "stream",
     "text": [
      "\n"
     ]
    },
    {
     "name": "stderr",
     "output_type": "stream",
     "text": [
      "Adding P3634->156869 to M59658233. importing Met Object ID from source info from Commons template\n",
      "Adding P195->Q160236 to M59658233. adding collection based on Met Object ID\n"
     ]
    },
    {
     "name": "stdout",
     "output_type": "stream",
     "text": [
      "\n"
     ]
    },
    {
     "name": "stderr",
     "output_type": "stream",
     "text": [
      "Adding P3634->157014 to M65090714. importing Met Object ID from source info from Commons template\n",
      "Adding P195->Q160236 to M65090714. adding collection based on Met Object ID\n"
     ]
    },
    {
     "name": "stdout",
     "output_type": "stream",
     "text": [
      "\n"
     ]
    },
    {
     "name": "stderr",
     "output_type": "stream",
     "text": [
      "Adding P3634->157014 to M59658684. importing Met Object ID from source info from Commons template\n",
      "Adding P195->Q160236 to M59658684. adding collection based on Met Object ID\n"
     ]
    },
    {
     "name": "stdout",
     "output_type": "stream",
     "text": [
      "\n"
     ]
    },
    {
     "name": "stderr",
     "output_type": "stream",
     "text": [
      "Adding P3634->157014 to M59658687. importing Met Object ID from source info from Commons template\n",
      "Adding P195->Q160236 to M59658687. adding collection based on Met Object ID\n"
     ]
    },
    {
     "name": "stdout",
     "output_type": "stream",
     "text": [
      "\n"
     ]
    },
    {
     "name": "stderr",
     "output_type": "stream",
     "text": [
      "Adding P3634->157014 to M65090712. importing Met Object ID from source info from Commons template\n",
      "Adding P195->Q160236 to M65090712. adding collection based on Met Object ID\n"
     ]
    },
    {
     "name": "stdout",
     "output_type": "stream",
     "text": [
      "\n"
     ]
    },
    {
     "name": "stderr",
     "output_type": "stream",
     "text": [
      "Adding P3634->157014 to M65090703. importing Met Object ID from source info from Commons template\n",
      "Adding P195->Q160236 to M65090703. adding collection based on Met Object ID\n"
     ]
    },
    {
     "name": "stdout",
     "output_type": "stream",
     "text": [
      "\n"
     ]
    },
    {
     "name": "stderr",
     "output_type": "stream",
     "text": [
      "Adding P3634->316926 to M60516871. importing Met Object ID from source info from Commons template\n",
      "Adding P195->Q160236 to M60516871. adding collection based on Met Object ID\n"
     ]
    },
    {
     "name": "stdout",
     "output_type": "stream",
     "text": [
      "\n"
     ]
    },
    {
     "name": "stderr",
     "output_type": "stream",
     "text": [
      "Adding P3634->316926 to M60516870. importing Met Object ID from source info from Commons template\n",
      "Adding P195->Q160236 to M60516870. adding collection based on Met Object ID\n"
     ]
    },
    {
     "name": "stdout",
     "output_type": "stream",
     "text": [
      "\n"
     ]
    },
    {
     "name": "stderr",
     "output_type": "stream",
     "text": [
      "Adding P3634->307841 to M60500967. importing Met Object ID from source info from Commons template\n",
      "Adding P195->Q160236 to M60500967. adding collection based on Met Object ID\n"
     ]
    },
    {
     "name": "stdout",
     "output_type": "stream",
     "text": [
      "\n"
     ]
    },
    {
     "name": "stderr",
     "output_type": "stream",
     "text": [
      "Adding P3634->169681 to M59662967. importing Met Object ID from source info from Commons template\n",
      "Adding P195->Q160236 to M59662967. adding collection based on Met Object ID\n"
     ]
    },
    {
     "name": "stdout",
     "output_type": "stream",
     "text": [
      "\n"
     ]
    },
    {
     "name": "stderr",
     "output_type": "stream",
     "text": [
      "Adding P3634->169681 to M59662971. importing Met Object ID from source info from Commons template\n",
      "Adding P195->Q160236 to M59662971. adding collection based on Met Object ID\n"
     ]
    },
    {
     "name": "stdout",
     "output_type": "stream",
     "text": [
      "\n"
     ]
    },
    {
     "name": "stderr",
     "output_type": "stream",
     "text": [
      "Adding P3634->169682 to M59662973. importing Met Object ID from source info from Commons template\n",
      "Adding P195->Q160236 to M59662973. adding collection based on Met Object ID\n"
     ]
    },
    {
     "name": "stdout",
     "output_type": "stream",
     "text": [
      "\n"
     ]
    },
    {
     "name": "stderr",
     "output_type": "stream",
     "text": [
      "Adding P3634->169682 to M59662966. importing Met Object ID from source info from Commons template\n",
      "Adding P195->Q160236 to M59662966. adding collection based on Met Object ID\n"
     ]
    },
    {
     "name": "stdout",
     "output_type": "stream",
     "text": [
      "\n"
     ]
    },
    {
     "name": "stderr",
     "output_type": "stream",
     "text": [
      "Adding P3634->169683 to M59662970. importing Met Object ID from source info from Commons template\n",
      "Adding P195->Q160236 to M59662970. adding collection based on Met Object ID\n"
     ]
    },
    {
     "name": "stdout",
     "output_type": "stream",
     "text": [
      "\n"
     ]
    },
    {
     "name": "stderr",
     "output_type": "stream",
     "text": [
      "Adding P3634->169683 to M59662969. importing Met Object ID from source info from Commons template\n",
      "Adding P195->Q160236 to M59662969. adding collection based on Met Object ID\n"
     ]
    },
    {
     "name": "stdout",
     "output_type": "stream",
     "text": [
      "\n"
     ]
    },
    {
     "name": "stderr",
     "output_type": "stream",
     "text": [
      "Adding P3634->156850 to M59658042. importing Met Object ID from source info from Commons template\n",
      "Adding P195->Q160236 to M59658042. adding collection based on Met Object ID\n"
     ]
    },
    {
     "name": "stdout",
     "output_type": "stream",
     "text": [
      "\n"
     ]
    },
    {
     "name": "stderr",
     "output_type": "stream",
     "text": [
      "Adding P3634->156851 to M59658041. importing Met Object ID from source info from Commons template\n",
      "Adding P195->Q160236 to M59658041. adding collection based on Met Object ID\n"
     ]
    },
    {
     "name": "stdout",
     "output_type": "stream",
     "text": [
      "\n"
     ]
    },
    {
     "name": "stderr",
     "output_type": "stream",
     "text": [
      "Adding P3634->156852 to M59658044. importing Met Object ID from source info from Commons template\n",
      "Adding P195->Q160236 to M59658044. adding collection based on Met Object ID\n"
     ]
    },
    {
     "name": "stdout",
     "output_type": "stream",
     "text": [
      "\n"
     ]
    },
    {
     "name": "stderr",
     "output_type": "stream",
     "text": [
      "Adding P3634->156861 to M59658129. importing Met Object ID from source info from Commons template\n",
      "Adding P195->Q160236 to M59658129. adding collection based on Met Object ID\n"
     ]
    },
    {
     "name": "stdout",
     "output_type": "stream",
     "text": [
      "\n"
     ]
    },
    {
     "name": "stderr",
     "output_type": "stream",
     "text": [
      "Adding P3634->170356 to M59665205. importing Met Object ID from source info from Commons template\n",
      "Adding P195->Q160236 to M59665205. adding collection based on Met Object ID\n"
     ]
    },
    {
     "name": "stdout",
     "output_type": "stream",
     "text": [
      "\n"
     ]
    },
    {
     "name": "stderr",
     "output_type": "stream",
     "text": [
      "Adding P3634->170356 to M59665210. importing Met Object ID from source info from Commons template\n",
      "Adding P195->Q160236 to M59665210. adding collection based on Met Object ID\n"
     ]
    },
    {
     "name": "stdout",
     "output_type": "stream",
     "text": [
      "\n"
     ]
    },
    {
     "name": "stderr",
     "output_type": "stream",
     "text": [
      "Adding P3634->170357 to M59665209. importing Met Object ID from source info from Commons template\n",
      "Adding P195->Q160236 to M59665209. adding collection based on Met Object ID\n"
     ]
    },
    {
     "name": "stdout",
     "output_type": "stream",
     "text": [
      "\n"
     ]
    },
    {
     "name": "stderr",
     "output_type": "stream",
     "text": [
      "Adding P3634->170357 to M59665207. importing Met Object ID from source info from Commons template\n",
      "Adding P195->Q160236 to M59665207. adding collection based on Met Object ID\n"
     ]
    },
    {
     "name": "stdout",
     "output_type": "stream",
     "text": [
      "\n"
     ]
    },
    {
     "name": "stderr",
     "output_type": "stream",
     "text": [
      "Adding P3634->156837 to M58985527. importing Met Object ID from source info from Commons template\n",
      "Adding P195->Q160236 to M58985527. adding collection based on Met Object ID\n"
     ]
    },
    {
     "name": "stdout",
     "output_type": "stream",
     "text": [
      "\n"
     ]
    },
    {
     "name": "stderr",
     "output_type": "stream",
     "text": [
      "Adding P3634->117276 to M59657766. importing Met Object ID from source info from Commons template\n",
      "Adding P195->Q160236 to M59657766. adding collection based on Met Object ID\n"
     ]
    },
    {
     "name": "stdout",
     "output_type": "stream",
     "text": [
      "\n"
     ]
    },
    {
     "name": "stderr",
     "output_type": "stream",
     "text": [
      "Adding P3634->116978 to M59657640. importing Met Object ID from source info from Commons template\n",
      "Adding P195->Q160236 to M59657640. adding collection based on Met Object ID\n"
     ]
    },
    {
     "name": "stdout",
     "output_type": "stream",
     "text": [
      "\n"
     ]
    },
    {
     "name": "stderr",
     "output_type": "stream",
     "text": [
      "Adding P3634->170533 to M59665748. importing Met Object ID from source info from Commons template\n",
      "Adding P195->Q160236 to M59665748. adding collection based on Met Object ID\n"
     ]
    },
    {
     "name": "stdout",
     "output_type": "stream",
     "text": [
      "\n"
     ]
    },
    {
     "name": "stderr",
     "output_type": "stream",
     "text": [
      "Adding P3634->157823 to M59662625. importing Met Object ID from source info from Commons template\n",
      "Adding P195->Q160236 to M59662625. adding collection based on Met Object ID\n"
     ]
    },
    {
     "name": "stdout",
     "output_type": "stream",
     "text": [
      "\n"
     ]
    },
    {
     "name": "stderr",
     "output_type": "stream",
     "text": [
      "Adding P3634->170248 to M59664995. importing Met Object ID from source info from Commons template\n",
      "Adding P195->Q160236 to M59664995. adding collection based on Met Object ID\n"
     ]
    },
    {
     "name": "stdout",
     "output_type": "stream",
     "text": [
      "\n"
     ]
    },
    {
     "name": "stderr",
     "output_type": "stream",
     "text": [
      "Adding P3634->169193 to M59661854. importing Met Object ID from source info from Commons template\n",
      "Adding P195->Q160236 to M59661854. adding collection based on Met Object ID\n"
     ]
    },
    {
     "name": "stdout",
     "output_type": "stream",
     "text": [
      "\n"
     ]
    },
    {
     "name": "stderr",
     "output_type": "stream",
     "text": [
      "Adding P3634->157824 to M59662633. importing Met Object ID from source info from Commons template\n",
      "Adding P195->Q160236 to M59662633. adding collection based on Met Object ID\n"
     ]
    },
    {
     "name": "stdout",
     "output_type": "stream",
     "text": [
      "\n"
     ]
    },
    {
     "name": "stderr",
     "output_type": "stream",
     "text": [
      "Adding P3634->169291 to M59662158. importing Met Object ID from source info from Commons template\n",
      "Adding P195->Q160236 to M59662158. adding collection based on Met Object ID\n"
     ]
    },
    {
     "name": "stdout",
     "output_type": "stream",
     "text": [
      "\n"
     ]
    },
    {
     "name": "stderr",
     "output_type": "stream",
     "text": [
      "Adding P3634->157825 to M59662634. importing Met Object ID from source info from Commons template\n",
      "Adding P195->Q160236 to M59662634. adding collection based on Met Object ID\n"
     ]
    },
    {
     "name": "stdout",
     "output_type": "stream",
     "text": [
      "\n"
     ]
    },
    {
     "name": "stderr",
     "output_type": "stream",
     "text": [
      "Adding P3634->157825 to M65090733. importing Met Object ID from source info from Commons template\n",
      "Adding P195->Q160236 to M65090733. adding collection based on Met Object ID\n"
     ]
    },
    {
     "name": "stdout",
     "output_type": "stream",
     "text": [
      "\n"
     ]
    },
    {
     "name": "stderr",
     "output_type": "stream",
     "text": [
      "Adding P3634->157827 to M59662637. importing Met Object ID from source info from Commons template\n",
      "Adding P195->Q160236 to M59662637. adding collection based on Met Object ID\n"
     ]
    },
    {
     "name": "stdout",
     "output_type": "stream",
     "text": [
      "\n"
     ]
    },
    {
     "name": "stderr",
     "output_type": "stream",
     "text": [
      "Adding P3634->157828 to M59662631. importing Met Object ID from source info from Commons template\n",
      "Adding P195->Q160236 to M59662631. adding collection based on Met Object ID\n"
     ]
    },
    {
     "name": "stdout",
     "output_type": "stream",
     "text": [
      "\n"
     ]
    },
    {
     "name": "stderr",
     "output_type": "stream",
     "text": [
      "Adding P3634->157829 to M59662773. importing Met Object ID from source info from Commons template\n",
      "Adding P195->Q160236 to M59662773. adding collection based on Met Object ID\n"
     ]
    },
    {
     "name": "stdout",
     "output_type": "stream",
     "text": [
      "\n"
     ]
    },
    {
     "name": "stderr",
     "output_type": "stream",
     "text": [
      "Adding P3634->117337 to M59657869. importing Met Object ID from source info from Commons template\n",
      "Adding P195->Q160236 to M59657869. adding collection based on Met Object ID\n"
     ]
    },
    {
     "name": "stdout",
     "output_type": "stream",
     "text": [
      "\n"
     ]
    },
    {
     "name": "stderr",
     "output_type": "stream",
     "text": [
      "Adding P3634->156395 to M59662692. importing Met Object ID from source info from Commons template\n",
      "Adding P195->Q160236 to M59662692. adding collection based on Met Object ID\n"
     ]
    },
    {
     "name": "stdout",
     "output_type": "stream",
     "text": [
      "\n"
     ]
    },
    {
     "name": "stderr",
     "output_type": "stream",
     "text": [
      "Adding P3634->85269 to M59497245. importing Met Object ID from source info from Commons template\n",
      "Adding P195->Q160236 to M59497245. adding collection based on Met Object ID\n"
     ]
    },
    {
     "name": "stdout",
     "output_type": "stream",
     "text": [
      "\n"
     ]
    },
    {
     "name": "stderr",
     "output_type": "stream",
     "text": [
      "Adding P3634->116979 to M59657637. importing Met Object ID from source info from Commons template\n",
      "Adding P195->Q160236 to M59657637. adding collection based on Met Object ID\n"
     ]
    },
    {
     "name": "stdout",
     "output_type": "stream",
     "text": [
      "\n"
     ]
    },
    {
     "name": "stderr",
     "output_type": "stream",
     "text": [
      "Adding P3634->84221 to M59489863. importing Met Object ID from source info from Commons template\n",
      "Adding P195->Q160236 to M59489863. adding collection based on Met Object ID\n"
     ]
    },
    {
     "name": "stdout",
     "output_type": "stream",
     "text": [
      "\n"
     ]
    },
    {
     "name": "stderr",
     "output_type": "stream",
     "text": [
      "Adding P3634->104792 to M59494214. importing Met Object ID from source info from Commons template\n",
      "Adding P195->Q160236 to M59494214. adding collection based on Met Object ID\n"
     ]
    },
    {
     "name": "stdout",
     "output_type": "stream",
     "text": [
      "\n"
     ]
    },
    {
     "name": "stderr",
     "output_type": "stream",
     "text": [
      "Adding P3634->170527 to M59665745. importing Met Object ID from source info from Commons template\n",
      "Adding P195->Q160236 to M59665745. adding collection based on Met Object ID\n"
     ]
    },
    {
     "name": "stdout",
     "output_type": "stream",
     "text": [
      "\n"
     ]
    },
    {
     "name": "stderr",
     "output_type": "stream",
     "text": [
      "Adding P3634->168384 to M61212255. importing Met Object ID from source info from Commons template\n",
      "Adding P195->Q160236 to M61212255. adding collection based on Met Object ID\n"
     ]
    },
    {
     "name": "stdout",
     "output_type": "stream",
     "text": [
      "\n"
     ]
    },
    {
     "name": "stderr",
     "output_type": "stream",
     "text": [
      "Adding P3634->168416 to M61212297. importing Met Object ID from source info from Commons template\n",
      "Adding P195->Q160236 to M61212297. adding collection based on Met Object ID\n"
     ]
    },
    {
     "name": "stdout",
     "output_type": "stream",
     "text": [
      "\n"
     ]
    },
    {
     "name": "stderr",
     "output_type": "stream",
     "text": [
      "Adding P3634->168417 to M61212295. importing Met Object ID from source info from Commons template\n",
      "Adding P195->Q160236 to M61212295. adding collection based on Met Object ID\n"
     ]
    },
    {
     "name": "stdout",
     "output_type": "stream",
     "text": [
      "\n"
     ]
    },
    {
     "name": "stderr",
     "output_type": "stream",
     "text": [
      "Adding P3634->168418 to M61212304. importing Met Object ID from source info from Commons template\n",
      "Adding P195->Q160236 to M61212304. adding collection based on Met Object ID\n"
     ]
    },
    {
     "name": "stdout",
     "output_type": "stream",
     "text": [
      "\n"
     ]
    },
    {
     "name": "stderr",
     "output_type": "stream",
     "text": [
      "Adding P3634->168385 to M61212263. importing Met Object ID from source info from Commons template\n",
      "Adding P195->Q160236 to M61212263. adding collection based on Met Object ID\n"
     ]
    },
    {
     "name": "stdout",
     "output_type": "stream",
     "text": [
      "\n"
     ]
    },
    {
     "name": "stderr",
     "output_type": "stream",
     "text": [
      "Adding P3634->168386 to M61212259. importing Met Object ID from source info from Commons template\n",
      "Adding P195->Q160236 to M61212259. adding collection based on Met Object ID\n"
     ]
    },
    {
     "name": "stdout",
     "output_type": "stream",
     "text": [
      "\n"
     ]
    },
    {
     "name": "stderr",
     "output_type": "stream",
     "text": [
      "Adding P3634->168387 to M61212266. importing Met Object ID from source info from Commons template\n",
      "Adding P195->Q160236 to M61212266. adding collection based on Met Object ID\n"
     ]
    },
    {
     "name": "stdout",
     "output_type": "stream",
     "text": [
      "\n"
     ]
    },
    {
     "name": "stderr",
     "output_type": "stream",
     "text": [
      "Adding P3634->168429 to M61212373. importing Met Object ID from source info from Commons template\n",
      "Adding P195->Q160236 to M61212373. adding collection based on Met Object ID\n"
     ]
    },
    {
     "name": "stdout",
     "output_type": "stream",
     "text": [
      "\n"
     ]
    },
    {
     "name": "stderr",
     "output_type": "stream",
     "text": [
      "Adding P3634->156435 to M59663219. importing Met Object ID from source info from Commons template\n",
      "Adding P195->Q160236 to M59663219. adding collection based on Met Object ID\n"
     ]
    },
    {
     "name": "stdout",
     "output_type": "stream",
     "text": [
      "\n"
     ]
    },
    {
     "name": "stderr",
     "output_type": "stream",
     "text": [
      "Adding P3634->156435 to M59663215. importing Met Object ID from source info from Commons template\n",
      "Adding P195->Q160236 to M59663215. adding collection based on Met Object ID\n"
     ]
    },
    {
     "name": "stdout",
     "output_type": "stream",
     "text": [
      "\n"
     ]
    },
    {
     "name": "stderr",
     "output_type": "stream",
     "text": [
      "Adding P3634->170340 to M59665023. importing Met Object ID from source info from Commons template\n",
      "Adding P195->Q160236 to M59665023. adding collection based on Met Object ID\n"
     ]
    },
    {
     "name": "stdout",
     "output_type": "stream",
     "text": [
      "\n"
     ]
    },
    {
     "name": "stderr",
     "output_type": "stream",
     "text": [
      "Adding P3634->156436 to M59663226. importing Met Object ID from source info from Commons template\n",
      "Adding P195->Q160236 to M59663226. adding collection based on Met Object ID\n"
     ]
    },
    {
     "name": "stdout",
     "output_type": "stream",
     "text": [
      "\n"
     ]
    },
    {
     "name": "stderr",
     "output_type": "stream",
     "text": [
      "Adding P3634->156437 to M59663223. importing Met Object ID from source info from Commons template\n",
      "Adding P195->Q160236 to M59663223. adding collection based on Met Object ID\n"
     ]
    },
    {
     "name": "stdout",
     "output_type": "stream",
     "text": [
      "\n"
     ]
    },
    {
     "name": "stderr",
     "output_type": "stream",
     "text": [
      "Adding P3634->156438 to M59663225. importing Met Object ID from source info from Commons template\n",
      "Adding P195->Q160236 to M59663225. adding collection based on Met Object ID\n"
     ]
    },
    {
     "name": "stdout",
     "output_type": "stream",
     "text": [
      "\n"
     ]
    },
    {
     "name": "stderr",
     "output_type": "stream",
     "text": [
      "Adding P3634->168403 to M61212299. importing Met Object ID from source info from Commons template\n",
      "Adding P195->Q160236 to M61212299. adding collection based on Met Object ID\n"
     ]
    },
    {
     "name": "stdout",
     "output_type": "stream",
     "text": [
      "\n"
     ]
    },
    {
     "name": "stderr",
     "output_type": "stream",
     "text": [
      "Adding P3634->156439 to M59663227. importing Met Object ID from source info from Commons template\n",
      "Adding P195->Q160236 to M59663227. adding collection based on Met Object ID\n"
     ]
    },
    {
     "name": "stdout",
     "output_type": "stream",
     "text": [
      "\n"
     ]
    },
    {
     "name": "stderr",
     "output_type": "stream",
     "text": [
      "Adding P3634->156439 to M59663230. importing Met Object ID from source info from Commons template\n",
      "Adding P195->Q160236 to M59663230. adding collection based on Met Object ID\n"
     ]
    },
    {
     "name": "stdout",
     "output_type": "stream",
     "text": [
      "\n"
     ]
    },
    {
     "name": "stderr",
     "output_type": "stream",
     "text": [
      "Adding P3634->156440 to M59663231. importing Met Object ID from source info from Commons template\n",
      "Adding P195->Q160236 to M59663231. adding collection based on Met Object ID\n"
     ]
    },
    {
     "name": "stdout",
     "output_type": "stream",
     "text": [
      "\n"
     ]
    },
    {
     "name": "stderr",
     "output_type": "stream",
     "text": [
      "Adding P3634->168404 to M61212293. importing Met Object ID from source info from Commons template\n",
      "Adding P195->Q160236 to M61212293. adding collection based on Met Object ID\n"
     ]
    },
    {
     "name": "stdout",
     "output_type": "stream",
     "text": [
      "\n"
     ]
    },
    {
     "name": "stderr",
     "output_type": "stream",
     "text": [
      "Adding P3634->156442 to M59663238. importing Met Object ID from source info from Commons template\n",
      "Adding P195->Q160236 to M59663238. adding collection based on Met Object ID\n"
     ]
    },
    {
     "name": "stdout",
     "output_type": "stream",
     "text": [
      "\n"
     ]
    },
    {
     "name": "stderr",
     "output_type": "stream",
     "text": [
      "Adding P3634->168405 to M61212305. importing Met Object ID from source info from Commons template\n",
      "Adding P195->Q160236 to M61212305. adding collection based on Met Object ID\n"
     ]
    },
    {
     "name": "stdout",
     "output_type": "stream",
     "text": [
      "\n"
     ]
    },
    {
     "name": "stderr",
     "output_type": "stream",
     "text": [
      "Adding P3634->168407 to M61212303. importing Met Object ID from source info from Commons template\n",
      "Adding P195->Q160236 to M61212303. adding collection based on Met Object ID\n"
     ]
    },
    {
     "name": "stdout",
     "output_type": "stream",
     "text": [
      "\n"
     ]
    },
    {
     "name": "stderr",
     "output_type": "stream",
     "text": [
      "Adding P3634->156448 to M59663249. importing Met Object ID from source info from Commons template\n",
      "Adding P195->Q160236 to M59663249. adding collection based on Met Object ID\n"
     ]
    },
    {
     "name": "stdout",
     "output_type": "stream",
     "text": [
      "\n"
     ]
    },
    {
     "name": "stderr",
     "output_type": "stream",
     "text": [
      "Adding P3634->156448 to M59663251. importing Met Object ID from source info from Commons template\n",
      "Adding P195->Q160236 to M59663251. adding collection based on Met Object ID\n"
     ]
    },
    {
     "name": "stdout",
     "output_type": "stream",
     "text": [
      "\n"
     ]
    },
    {
     "name": "stderr",
     "output_type": "stream",
     "text": [
      "Adding P3634->156448 to M59663252. importing Met Object ID from source info from Commons template\n",
      "Adding P195->Q160236 to M59663252. adding collection based on Met Object ID\n"
     ]
    },
    {
     "name": "stdout",
     "output_type": "stream",
     "text": [
      "\n"
     ]
    },
    {
     "name": "stderr",
     "output_type": "stream",
     "text": [
      "Adding P3634->156448 to M59663260. importing Met Object ID from source info from Commons template\n",
      "Adding P195->Q160236 to M59663260. adding collection based on Met Object ID\n"
     ]
    },
    {
     "name": "stdout",
     "output_type": "stream",
     "text": [
      "\n"
     ]
    },
    {
     "name": "stderr",
     "output_type": "stream",
     "text": [
      "Adding P3634->168412 to M61212300. importing Met Object ID from source info from Commons template\n",
      "Adding P195->Q160236 to M61212300. adding collection based on Met Object ID\n"
     ]
    },
    {
     "name": "stdout",
     "output_type": "stream",
     "text": [
      "\n"
     ]
    },
    {
     "name": "stderr",
     "output_type": "stream",
     "text": [
      "Adding P3634->156449 to M59663262. importing Met Object ID from source info from Commons template\n",
      "Adding P195->Q160236 to M59663262. adding collection based on Met Object ID\n"
     ]
    },
    {
     "name": "stdout",
     "output_type": "stream",
     "text": [
      "\n"
     ]
    },
    {
     "name": "stderr",
     "output_type": "stream",
     "text": [
      "Adding P3634->156449 to M59663261. importing Met Object ID from source info from Commons template\n",
      "Adding P195->Q160236 to M59663261. adding collection based on Met Object ID\n"
     ]
    },
    {
     "name": "stdout",
     "output_type": "stream",
     "text": [
      "\n"
     ]
    },
    {
     "name": "stderr",
     "output_type": "stream",
     "text": [
      "Adding P3634->156450 to M59663422. importing Met Object ID from source info from Commons template\n",
      "Adding P195->Q160236 to M59663422. adding collection based on Met Object ID\n"
     ]
    },
    {
     "name": "stdout",
     "output_type": "stream",
     "text": [
      "\n"
     ]
    },
    {
     "name": "stderr",
     "output_type": "stream",
     "text": [
      "Adding P3634->168414 to M61212306. importing Met Object ID from source info from Commons template\n",
      "Adding P195->Q160236 to M61212306. adding collection based on Met Object ID\n"
     ]
    },
    {
     "name": "stdout",
     "output_type": "stream",
     "text": [
      "\n"
     ]
    },
    {
     "name": "stderr",
     "output_type": "stream",
     "text": [
      "Adding P3634->156468 to M59663598. importing Met Object ID from source info from Commons template\n",
      "Adding P195->Q160236 to M59663598. adding collection based on Met Object ID\n"
     ]
    },
    {
     "name": "stdout",
     "output_type": "stream",
     "text": [
      "\n"
     ]
    },
    {
     "name": "stderr",
     "output_type": "stream",
     "text": [
      "Adding P3634->156469 to M59663609. importing Met Object ID from source info from Commons template\n",
      "Adding P195->Q160236 to M59663609. adding collection based on Met Object ID\n"
     ]
    },
    {
     "name": "stdout",
     "output_type": "stream",
     "text": [
      "\n"
     ]
    },
    {
     "name": "stderr",
     "output_type": "stream",
     "text": [
      "Adding P3634->156470 to M59663605. importing Met Object ID from source info from Commons template\n",
      "Adding P195->Q160236 to M59663605. adding collection based on Met Object ID\n"
     ]
    },
    {
     "name": "stdout",
     "output_type": "stream",
     "text": [
      "\n"
     ]
    },
    {
     "name": "stderr",
     "output_type": "stream",
     "text": [
      "Adding P3634->156470 to M59663608. importing Met Object ID from source info from Commons template\n",
      "Adding P195->Q160236 to M59663608. adding collection based on Met Object ID\n"
     ]
    },
    {
     "name": "stdout",
     "output_type": "stream",
     "text": [
      "\n"
     ]
    },
    {
     "name": "stderr",
     "output_type": "stream",
     "text": [
      "Adding P3634->156471 to M59663618. importing Met Object ID from source info from Commons template\n",
      "Adding P195->Q160236 to M59663618. adding collection based on Met Object ID\n"
     ]
    },
    {
     "name": "stdout",
     "output_type": "stream",
     "text": [
      "\n"
     ]
    },
    {
     "name": "stderr",
     "output_type": "stream",
     "text": [
      "Adding P3634->156474 to M59663771. importing Met Object ID from source info from Commons template\n",
      "Adding P195->Q160236 to M59663771. adding collection based on Met Object ID\n"
     ]
    },
    {
     "name": "stdout",
     "output_type": "stream",
     "text": [
      "\n"
     ]
    },
    {
     "name": "stderr",
     "output_type": "stream",
     "text": [
      "Adding P3634->156474 to M59663769. importing Met Object ID from source info from Commons template\n",
      "Adding P195->Q160236 to M59663769. adding collection based on Met Object ID\n"
     ]
    },
    {
     "name": "stdout",
     "output_type": "stream",
     "text": [
      "\n"
     ]
    },
    {
     "name": "stderr",
     "output_type": "stream",
     "text": [
      "Adding P3634->156475 to M59663781. importing Met Object ID from source info from Commons template\n",
      "Adding P195->Q160236 to M59663781. adding collection based on Met Object ID\n"
     ]
    },
    {
     "name": "stdout",
     "output_type": "stream",
     "text": [
      "\n"
     ]
    },
    {
     "name": "stderr",
     "output_type": "stream",
     "text": [
      "Adding P3634->156476 to M59663794. importing Met Object ID from source info from Commons template\n",
      "Adding P195->Q160236 to M59663794. adding collection based on Met Object ID\n"
     ]
    },
    {
     "name": "stdout",
     "output_type": "stream",
     "text": [
      "\n"
     ]
    },
    {
     "name": "stderr",
     "output_type": "stream",
     "text": [
      "Adding P3634->156476 to M59663784. importing Met Object ID from source info from Commons template\n",
      "Adding P195->Q160236 to M59663784. adding collection based on Met Object ID\n"
     ]
    },
    {
     "name": "stdout",
     "output_type": "stream",
     "text": [
      "\n"
     ]
    },
    {
     "name": "stderr",
     "output_type": "stream",
     "text": [
      "Adding P3634->156478 to M59663793. importing Met Object ID from source info from Commons template\n",
      "Adding P195->Q160236 to M59663793. adding collection based on Met Object ID\n"
     ]
    },
    {
     "name": "stdout",
     "output_type": "stream",
     "text": [
      "\n"
     ]
    },
    {
     "name": "stderr",
     "output_type": "stream",
     "text": [
      "Adding P3634->168713 to M59659597. importing Met Object ID from source info from Commons template\n",
      "Adding P195->Q160236 to M59659597. adding collection based on Met Object ID\n"
     ]
    },
    {
     "name": "stdout",
     "output_type": "stream",
     "text": [
      "\n"
     ]
    },
    {
     "name": "stderr",
     "output_type": "stream",
     "text": [
      "Adding P3634->168859 to M59660433. importing Met Object ID from source info from Commons template\n",
      "Adding P195->Q160236 to M59660433. adding collection based on Met Object ID\n"
     ]
    },
    {
     "name": "stdout",
     "output_type": "stream",
     "text": [
      "\n"
     ]
    },
    {
     "name": "stderr",
     "output_type": "stream",
     "text": [
      "Adding P3634->170247 to M59665000. importing Met Object ID from source info from Commons template\n",
      "Adding P195->Q160236 to M59665000. adding collection based on Met Object ID\n"
     ]
    },
    {
     "name": "stdout",
     "output_type": "stream",
     "text": [
      "\n"
     ]
    },
    {
     "name": "stderr",
     "output_type": "stream",
     "text": [
      "Adding P3634->170247 to M59665005. importing Met Object ID from source info from Commons template\n",
      "Adding P195->Q160236 to M59665005. adding collection based on Met Object ID\n"
     ]
    },
    {
     "name": "stdout",
     "output_type": "stream",
     "text": [
      "\n"
     ]
    },
    {
     "name": "stderr",
     "output_type": "stream",
     "text": [
      "Adding P3634->170251 to M59665006. importing Met Object ID from source info from Commons template\n",
      "Adding P195->Q160236 to M59665006. adding collection based on Met Object ID\n"
     ]
    },
    {
     "name": "stdout",
     "output_type": "stream",
     "text": [
      "\n"
     ]
    },
    {
     "name": "stderr",
     "output_type": "stream",
     "text": [
      "Adding P3634->156688 to M59657598. importing Met Object ID from source info from Commons template\n",
      "Adding P195->Q160236 to M59657598. adding collection based on Met Object ID\n"
     ]
    },
    {
     "name": "stdout",
     "output_type": "stream",
     "text": [
      "\n"
     ]
    },
    {
     "name": "stderr",
     "output_type": "stream",
     "text": [
      "Adding P3634->156695 to M59657726. importing Met Object ID from source info from Commons template\n",
      "Adding P195->Q160236 to M59657726. adding collection based on Met Object ID\n"
     ]
    },
    {
     "name": "stdout",
     "output_type": "stream",
     "text": [
      "\n"
     ]
    },
    {
     "name": "stderr",
     "output_type": "stream",
     "text": [
      "Adding P3634->156695 to M59657731. importing Met Object ID from source info from Commons template\n",
      "Adding P195->Q160236 to M59657731. adding collection based on Met Object ID\n"
     ]
    },
    {
     "name": "stdout",
     "output_type": "stream",
     "text": [
      "\n"
     ]
    },
    {
     "name": "stderr",
     "output_type": "stream",
     "text": [
      "Adding P3634->169273 to M59662019. importing Met Object ID from source info from Commons template\n",
      "Adding P195->Q160236 to M59662019. adding collection based on Met Object ID\n"
     ]
    },
    {
     "name": "stdout",
     "output_type": "stream",
     "text": [
      "\n"
     ]
    },
    {
     "name": "stderr",
     "output_type": "stream",
     "text": [
      "Adding P3634->156752 to M59657737. importing Met Object ID from source info from Commons template\n",
      "Adding P195->Q160236 to M59657737. adding collection based on Met Object ID\n"
     ]
    },
    {
     "name": "stdout",
     "output_type": "stream",
     "text": [
      "\n"
     ]
    },
    {
     "name": "stderr",
     "output_type": "stream",
     "text": [
      "Adding P3634->156752 to M59657730. importing Met Object ID from source info from Commons template\n",
      "Adding P195->Q160236 to M59657730. adding collection based on Met Object ID\n"
     ]
    },
    {
     "name": "stdout",
     "output_type": "stream",
     "text": [
      "\n"
     ]
    },
    {
     "name": "stderr",
     "output_type": "stream",
     "text": [
      "Adding P3634->169293 to M59662166. importing Met Object ID from source info from Commons template\n",
      "Adding P195->Q160236 to M59662166. adding collection based on Met Object ID\n"
     ]
    },
    {
     "name": "stdout",
     "output_type": "stream",
     "text": [
      "\n"
     ]
    },
    {
     "name": "stderr",
     "output_type": "stream",
     "text": [
      "Adding P3634->156772 to M59657747. importing Met Object ID from source info from Commons template\n",
      "Adding P195->Q160236 to M59657747. adding collection based on Met Object ID\n"
     ]
    },
    {
     "name": "stdout",
     "output_type": "stream",
     "text": [
      "\n"
     ]
    },
    {
     "name": "stderr",
     "output_type": "stream",
     "text": [
      "Adding P3634->156772 to M59657749. importing Met Object ID from source info from Commons template\n",
      "Adding P195->Q160236 to M59657749. adding collection based on Met Object ID\n"
     ]
    },
    {
     "name": "stdout",
     "output_type": "stream",
     "text": [
      "\n"
     ]
    },
    {
     "name": "stderr",
     "output_type": "stream",
     "text": [
      "Adding P3634->169519 to M59662648. importing Met Object ID from source info from Commons template\n",
      "Adding P195->Q160236 to M59662648. adding collection based on Met Object ID\n"
     ]
    },
    {
     "name": "stdout",
     "output_type": "stream",
     "text": [
      "\n"
     ]
    },
    {
     "name": "stderr",
     "output_type": "stream",
     "text": [
      "Adding P3634->156812 to M59657939. importing Met Object ID from source info from Commons template\n",
      "Adding P195->Q160236 to M59657939. adding collection based on Met Object ID\n"
     ]
    },
    {
     "name": "stdout",
     "output_type": "stream",
     "text": [
      "\n"
     ]
    },
    {
     "name": "stderr",
     "output_type": "stream",
     "text": [
      "Adding P3634->169625 to M59662803. importing Met Object ID from source info from Commons template\n",
      "Adding P195->Q160236 to M59662803. adding collection based on Met Object ID\n"
     ]
    },
    {
     "name": "stdout",
     "output_type": "stream",
     "text": [
      "\n"
     ]
    },
    {
     "name": "stderr",
     "output_type": "stream",
     "text": [
      "Adding P3634->169625 to M59662797. importing Met Object ID from source info from Commons template\n",
      "Adding P195->Q160236 to M59662797. adding collection based on Met Object ID\n"
     ]
    },
    {
     "name": "stdout",
     "output_type": "stream",
     "text": [
      "\n"
     ]
    },
    {
     "name": "stderr",
     "output_type": "stream",
     "text": [
      "Adding P3634->169688 to M59663160. importing Met Object ID from source info from Commons template\n",
      "Adding P195->Q160236 to M59663160. adding collection based on Met Object ID\n"
     ]
    },
    {
     "name": "stdout",
     "output_type": "stream",
     "text": [
      "\n"
     ]
    },
    {
     "name": "stderr",
     "output_type": "stream",
     "text": [
      "Adding P3634->156854 to M59658111. importing Met Object ID from source info from Commons template\n",
      "Adding P195->Q160236 to M59658111. adding collection based on Met Object ID\n"
     ]
    },
    {
     "name": "stdout",
     "output_type": "stream",
     "text": [
      "\n"
     ]
    },
    {
     "name": "stderr",
     "output_type": "stream",
     "text": [
      "Adding P3634->156856 to M59658112. importing Met Object ID from source info from Commons template\n",
      "Adding P195->Q160236 to M59658112. adding collection based on Met Object ID\n"
     ]
    },
    {
     "name": "stdout",
     "output_type": "stream",
     "text": [
      "\n"
     ]
    },
    {
     "name": "stderr",
     "output_type": "stream",
     "text": [
      "Adding P3634->156860 to M59658122. importing Met Object ID from source info from Commons template\n",
      "Adding P195->Q160236 to M59658122. adding collection based on Met Object ID\n"
     ]
    },
    {
     "name": "stdout",
     "output_type": "stream",
     "text": [
      "\n"
     ]
    },
    {
     "name": "stderr",
     "output_type": "stream",
     "text": [
      "Adding P3634->169685 to M59662988. importing Met Object ID from source info from Commons template\n",
      "Adding P195->Q160236 to M59662988. adding collection based on Met Object ID\n"
     ]
    },
    {
     "name": "stdout",
     "output_type": "stream",
     "text": [
      "\n"
     ]
    },
    {
     "name": "stderr",
     "output_type": "stream",
     "text": [
      "Adding P3634->156863 to M59658140. importing Met Object ID from source info from Commons template\n",
      "Adding P195->Q160236 to M59658140. adding collection based on Met Object ID\n"
     ]
    },
    {
     "name": "stdout",
     "output_type": "stream",
     "text": [
      "\n"
     ]
    },
    {
     "name": "stderr",
     "output_type": "stream",
     "text": [
      "Adding P3634->169838 to M59663727. importing Met Object ID from source info from Commons template\n",
      "Adding P195->Q160236 to M59663727. adding collection based on Met Object ID\n"
     ]
    },
    {
     "name": "stdout",
     "output_type": "stream",
     "text": [
      "\n"
     ]
    },
    {
     "name": "stderr",
     "output_type": "stream",
     "text": [
      "Adding P3634->169905 to M59664321. importing Met Object ID from source info from Commons template\n",
      "Adding P195->Q160236 to M59664321. adding collection based on Met Object ID\n"
     ]
    },
    {
     "name": "stdout",
     "output_type": "stream",
     "text": [
      "\n"
     ]
    },
    {
     "name": "stderr",
     "output_type": "stream",
     "text": [
      "Adding P3634->170529 to M59665733. importing Met Object ID from source info from Commons template\n",
      "Adding P195->Q160236 to M59665733. adding collection based on Met Object ID\n"
     ]
    },
    {
     "name": "stdout",
     "output_type": "stream",
     "text": [
      "\n"
     ]
    },
    {
     "name": "stderr",
     "output_type": "stream",
     "text": [
      "Adding P3634->116947 to M59657488. importing Met Object ID from source info from Commons template\n",
      "Adding P195->Q160236 to M59657488. adding collection based on Met Object ID\n"
     ]
    },
    {
     "name": "stdout",
     "output_type": "stream",
     "text": [
      "\n"
     ]
    },
    {
     "name": "stderr",
     "output_type": "stream",
     "text": [
      "Adding P3634->117198 to M59657712. importing Met Object ID from source info from Commons template\n",
      "Adding P195->Q160236 to M59657712. adding collection based on Met Object ID\n"
     ]
    },
    {
     "name": "stdout",
     "output_type": "stream",
     "text": [
      "\n"
     ]
    },
    {
     "name": "stderr",
     "output_type": "stream",
     "text": [
      "Adding P3634->116954 to M59657524. importing Met Object ID from source info from Commons template\n",
      "Adding P195->Q160236 to M59657524. adding collection based on Met Object ID\n"
     ]
    },
    {
     "name": "stdout",
     "output_type": "stream",
     "text": [
      "\n"
     ]
    },
    {
     "name": "stderr",
     "output_type": "stream",
     "text": [
      "Adding P3634->117188 to M59657696. importing Met Object ID from source info from Commons template\n",
      "Adding P195->Q160236 to M59657696. adding collection based on Met Object ID\n"
     ]
    },
    {
     "name": "stdout",
     "output_type": "stream",
     "text": [
      "\n"
     ]
    },
    {
     "name": "stderr",
     "output_type": "stream",
     "text": [
      "Adding P3634->117283 to M59657791. importing Met Object ID from source info from Commons template\n",
      "Adding P195->Q160236 to M59657791. adding collection based on Met Object ID\n"
     ]
    },
    {
     "name": "stdout",
     "output_type": "stream",
     "text": [
      "\n"
     ]
    },
    {
     "name": "stderr",
     "output_type": "stream",
     "text": [
      "Adding P3634->116966 to M59657633. importing Met Object ID from source info from Commons template\n",
      "Adding P195->Q160236 to M59657633. adding collection based on Met Object ID\n"
     ]
    },
    {
     "name": "stdout",
     "output_type": "stream",
     "text": [
      "\n"
     ]
    },
    {
     "name": "stderr",
     "output_type": "stream",
     "text": [
      "Adding P3634->116966 to M59657618. importing Met Object ID from source info from Commons template\n",
      "Adding P195->Q160236 to M59657618. adding collection based on Met Object ID\n"
     ]
    },
    {
     "name": "stdout",
     "output_type": "stream",
     "text": [
      "\n"
     ]
    },
    {
     "name": "stderr",
     "output_type": "stream",
     "text": [
      "Adding P3634->116942 to M59657427. importing Met Object ID from source info from Commons template\n",
      "Adding P195->Q160236 to M59657427. adding collection based on Met Object ID\n"
     ]
    },
    {
     "name": "stdout",
     "output_type": "stream",
     "text": [
      "\n"
     ]
    },
    {
     "name": "stderr",
     "output_type": "stream",
     "text": [
      "Adding P3634->116945 to M59657459. importing Met Object ID from source info from Commons template\n",
      "Adding P195->Q160236 to M59657459. adding collection based on Met Object ID\n"
     ]
    },
    {
     "name": "stdout",
     "output_type": "stream",
     "text": [
      "\n"
     ]
    },
    {
     "name": "stderr",
     "output_type": "stream",
     "text": [
      "Adding P3634->116956 to M59657522. importing Met Object ID from source info from Commons template\n",
      "Adding P195->Q160236 to M59657522. adding collection based on Met Object ID\n"
     ]
    },
    {
     "name": "stdout",
     "output_type": "stream",
     "text": [
      "\n"
     ]
    },
    {
     "name": "stderr",
     "output_type": "stream",
     "text": [
      "Adding P3634->116952 to M59657518. importing Met Object ID from source info from Commons template\n",
      "Adding P195->Q160236 to M59657518. adding collection based on Met Object ID\n"
     ]
    },
    {
     "name": "stdout",
     "output_type": "stream",
     "text": [
      "\n"
     ]
    },
    {
     "name": "stderr",
     "output_type": "stream",
     "text": [
      "Adding P3634->116957 to M59657521. importing Met Object ID from source info from Commons template\n",
      "Adding P195->Q160236 to M59657521. adding collection based on Met Object ID\n"
     ]
    },
    {
     "name": "stdout",
     "output_type": "stream",
     "text": [
      "\n"
     ]
    },
    {
     "name": "stderr",
     "output_type": "stream",
     "text": [
      "Adding P3634->116970 to M59657634. importing Met Object ID from source info from Commons template\n",
      "Adding P195->Q160236 to M59657634. adding collection based on Met Object ID\n"
     ]
    },
    {
     "name": "stdout",
     "output_type": "stream",
     "text": [
      "\n"
     ]
    },
    {
     "name": "stderr",
     "output_type": "stream",
     "text": [
      "Adding P3634->116971 to M59657635. importing Met Object ID from source info from Commons template\n",
      "Adding P195->Q160236 to M59657635. adding collection based on Met Object ID\n"
     ]
    },
    {
     "name": "stdout",
     "output_type": "stream",
     "text": [
      "\n"
     ]
    },
    {
     "name": "stderr",
     "output_type": "stream",
     "text": [
      "Adding P3634->116960 to M59657608. importing Met Object ID from source info from Commons template\n",
      "Adding P195->Q160236 to M59657608. adding collection based on Met Object ID\n"
     ]
    },
    {
     "name": "stdout",
     "output_type": "stream",
     "text": [
      "\n"
     ]
    },
    {
     "name": "stderr",
     "output_type": "stream",
     "text": [
      "Adding P3634->116944 to M59657450. importing Met Object ID from source info from Commons template\n",
      "Adding P195->Q160236 to M59657450. adding collection based on Met Object ID\n"
     ]
    },
    {
     "name": "stdout",
     "output_type": "stream",
     "text": [
      "\n"
     ]
    },
    {
     "name": "stderr",
     "output_type": "stream",
     "text": [
      "Adding P3634->116944 to M59657449. importing Met Object ID from source info from Commons template\n",
      "Adding P195->Q160236 to M59657449. adding collection based on Met Object ID\n"
     ]
    },
    {
     "name": "stdout",
     "output_type": "stream",
     "text": [
      "\n"
     ]
    },
    {
     "name": "stderr",
     "output_type": "stream",
     "text": [
      "Adding P3634->117186 to M59657688. importing Met Object ID from source info from Commons template\n",
      "Adding P195->Q160236 to M59657688. adding collection based on Met Object ID\n"
     ]
    },
    {
     "name": "stdout",
     "output_type": "stream",
     "text": [
      "\n"
     ]
    },
    {
     "name": "stderr",
     "output_type": "stream",
     "text": [
      "Adding P3634->117008 to M59657686. importing Met Object ID from source info from Commons template\n",
      "Adding P195->Q160236 to M59657686. adding collection based on Met Object ID\n"
     ]
    },
    {
     "name": "stdout",
     "output_type": "stream",
     "text": [
      "\n"
     ]
    },
    {
     "name": "stderr",
     "output_type": "stream",
     "text": [
      "Adding P3634->116963 to M59657611. importing Met Object ID from source info from Commons template\n",
      "Adding P195->Q160236 to M59657611. adding collection based on Met Object ID\n"
     ]
    },
    {
     "name": "stdout",
     "output_type": "stream",
     "text": [
      "\n"
     ]
    },
    {
     "name": "stderr",
     "output_type": "stream",
     "text": [
      "Adding P3634->116964 to M59657621. importing Met Object ID from source info from Commons template\n",
      "Adding P195->Q160236 to M59657621. adding collection based on Met Object ID\n"
     ]
    },
    {
     "name": "stdout",
     "output_type": "stream",
     "text": [
      "\n"
     ]
    },
    {
     "name": "stderr",
     "output_type": "stream",
     "text": [
      "Adding P3634->84628 to M59495473. importing Met Object ID from source info from Commons template\n",
      "Adding P195->Q160236 to M59495473. adding collection based on Met Object ID\n"
     ]
    },
    {
     "name": "stdout",
     "output_type": "stream",
     "text": [
      "\n"
     ]
    },
    {
     "name": "stderr",
     "output_type": "stream",
     "text": [
      "Adding P3634->117232 to M59657760. importing Met Object ID from source info from Commons template\n",
      "Adding P195->Q160236 to M59657760. adding collection based on Met Object ID\n"
     ]
    },
    {
     "name": "stdout",
     "output_type": "stream",
     "text": [
      "\n"
     ]
    },
    {
     "name": "stderr",
     "output_type": "stream",
     "text": [
      "Adding P3634->117336 to M59657870. importing Met Object ID from source info from Commons template\n",
      "Adding P195->Q160236 to M59657870. adding collection based on Met Object ID\n"
     ]
    },
    {
     "name": "stdout",
     "output_type": "stream",
     "text": [
      "\n"
     ]
    },
    {
     "name": "stderr",
     "output_type": "stream",
     "text": [
      "Adding P3634->117026 to M59657681. importing Met Object ID from source info from Commons template\n",
      "Adding P195->Q160236 to M59657681. adding collection based on Met Object ID\n"
     ]
    },
    {
     "name": "stdout",
     "output_type": "stream",
     "text": [
      "\n"
     ]
    },
    {
     "name": "stderr",
     "output_type": "stream",
     "text": [
      "Adding P3634->82598 to M59493084. importing Met Object ID from source info from Commons template\n",
      "Adding P195->Q160236 to M59493084. adding collection based on Met Object ID\n"
     ]
    },
    {
     "name": "stdout",
     "output_type": "stream",
     "text": [
      "\n"
     ]
    },
    {
     "name": "stderr",
     "output_type": "stream",
     "text": [
      "Adding P3634->82599 to M59493077. importing Met Object ID from source info from Commons template\n",
      "Adding P195->Q160236 to M59493077. adding collection based on Met Object ID\n"
     ]
    },
    {
     "name": "stdout",
     "output_type": "stream",
     "text": [
      "\n"
     ]
    },
    {
     "name": "stderr",
     "output_type": "stream",
     "text": [
      "Adding P3634->117237 to M59657770. importing Met Object ID from source info from Commons template\n",
      "Adding P195->Q160236 to M59657770. adding collection based on Met Object ID\n"
     ]
    },
    {
     "name": "stdout",
     "output_type": "stream",
     "text": [
      "\n"
     ]
    },
    {
     "name": "stderr",
     "output_type": "stream",
     "text": [
      "Adding P3634->117238 to M59657762. importing Met Object ID from source info from Commons template\n",
      "Adding P195->Q160236 to M59657762. adding collection based on Met Object ID\n"
     ]
    },
    {
     "name": "stdout",
     "output_type": "stream",
     "text": [
      "\n"
     ]
    },
    {
     "name": "stderr",
     "output_type": "stream",
     "text": [
      "Adding P3634->116866 to M59657387. importing Met Object ID from source info from Commons template\n",
      "Adding P195->Q160236 to M59657387. adding collection based on Met Object ID\n"
     ]
    },
    {
     "name": "stdout",
     "output_type": "stream",
     "text": [
      "\n"
     ]
    },
    {
     "name": "stderr",
     "output_type": "stream",
     "text": [
      "Adding P3634->116866 to M59657386. importing Met Object ID from source info from Commons template\n",
      "Adding P195->Q160236 to M59657386. adding collection based on Met Object ID\n"
     ]
    },
    {
     "name": "stdout",
     "output_type": "stream",
     "text": [
      "\n"
     ]
    },
    {
     "name": "stderr",
     "output_type": "stream",
     "text": [
      "Adding P3634->117229 to M59657708. importing Met Object ID from source info from Commons template\n",
      "Adding P195->Q160236 to M59657708. adding collection based on Met Object ID\n"
     ]
    },
    {
     "name": "stdout",
     "output_type": "stream",
     "text": [
      "\n"
     ]
    },
    {
     "name": "stderr",
     "output_type": "stream",
     "text": [
      "Adding P3634->113790 to M59505892. importing Met Object ID from source info from Commons template\n",
      "Adding P195->Q160236 to M59505892. adding collection based on Met Object ID\n"
     ]
    },
    {
     "name": "stdout",
     "output_type": "stream",
     "text": [
      "\n"
     ]
    },
    {
     "name": "stderr",
     "output_type": "stream",
     "text": [
      "Adding P3634->81647 to M59495531. importing Met Object ID from source info from Commons template\n",
      "Adding P195->Q160236 to M59495531. adding collection based on Met Object ID\n"
     ]
    },
    {
     "name": "stdout",
     "output_type": "stream",
     "text": [
      "\n"
     ]
    },
    {
     "name": "stderr",
     "output_type": "stream",
     "text": [
      "Adding P3634->82465 to M59492590. importing Met Object ID from source info from Commons template\n",
      "Adding P195->Q160236 to M59492590. adding collection based on Met Object ID\n"
     ]
    },
    {
     "name": "stdout",
     "output_type": "stream",
     "text": [
      "\n"
     ]
    },
    {
     "name": "stderr",
     "output_type": "stream",
     "text": [
      "Adding P3634->79700 to M59488997. importing Met Object ID from source info from Commons template\n",
      "Adding P195->Q160236 to M59488997. adding collection based on Met Object ID\n"
     ]
    },
    {
     "name": "stdout",
     "output_type": "stream",
     "text": [
      "\n"
     ]
    },
    {
     "name": "stderr",
     "output_type": "stream",
     "text": [
      "Adding P3634->101686 to M59499532. importing Met Object ID from source info from Commons template\n",
      "Adding P195->Q160236 to M59499532. adding collection based on Met Object ID\n"
     ]
    },
    {
     "name": "stdout",
     "output_type": "stream",
     "text": [
      "\n"
     ]
    },
    {
     "name": "stderr",
     "output_type": "stream",
     "text": [
      "Adding P3634->156491 to M59663956. importing Met Object ID from source info from Commons template\n",
      "Adding P195->Q160236 to M59663956. adding collection based on Met Object ID\n"
     ]
    },
    {
     "name": "stdout",
     "output_type": "stream",
     "text": [
      "\n"
     ]
    },
    {
     "name": "stderr",
     "output_type": "stream",
     "text": [
      "Adding P3634->156491 to M59663954. importing Met Object ID from source info from Commons template\n",
      "Adding P195->Q160236 to M59663954. adding collection based on Met Object ID\n"
     ]
    },
    {
     "name": "stdout",
     "output_type": "stream",
     "text": [
      "\n"
     ]
    },
    {
     "name": "stderr",
     "output_type": "stream",
     "text": [
      "Adding P3634->156492 to M59663957. importing Met Object ID from source info from Commons template\n",
      "Adding P195->Q160236 to M59663957. adding collection based on Met Object ID\n"
     ]
    },
    {
     "name": "stdout",
     "output_type": "stream",
     "text": [
      "\n"
     ]
    },
    {
     "name": "stderr",
     "output_type": "stream",
     "text": [
      "Adding P3634->156496 to M59664194. importing Met Object ID from source info from Commons template\n",
      "Adding P195->Q160236 to M59664194. adding collection based on Met Object ID\n"
     ]
    },
    {
     "name": "stdout",
     "output_type": "stream",
     "text": [
      "\n"
     ]
    },
    {
     "name": "stderr",
     "output_type": "stream",
     "text": [
      "Adding P3634->156496 to M59664196. importing Met Object ID from source info from Commons template\n",
      "Adding P195->Q160236 to M59664196. adding collection based on Met Object ID\n"
     ]
    },
    {
     "name": "stdout",
     "output_type": "stream",
     "text": [
      "\n"
     ]
    },
    {
     "name": "stderr",
     "output_type": "stream",
     "text": [
      "Adding P3634->156496 to M59664193. importing Met Object ID from source info from Commons template\n",
      "Adding P195->Q160236 to M59664193. adding collection based on Met Object ID\n"
     ]
    },
    {
     "name": "stdout",
     "output_type": "stream",
     "text": [
      "\n"
     ]
    },
    {
     "name": "stderr",
     "output_type": "stream",
     "text": [
      "Adding P3634->116949 to M59657504. importing Met Object ID from source info from Commons template\n",
      "Adding P195->Q160236 to M59657504. adding collection based on Met Object ID\n"
     ]
    },
    {
     "name": "stdout",
     "output_type": "stream",
     "text": [
      "\n"
     ]
    },
    {
     "name": "stderr",
     "output_type": "stream",
     "text": [
      "Adding P3634->116949 to M59657510. importing Met Object ID from source info from Commons template\n",
      "Adding P195->Q160236 to M59657510. adding collection based on Met Object ID\n"
     ]
    },
    {
     "name": "stdout",
     "output_type": "stream",
     "text": [
      "\n"
     ]
    },
    {
     "name": "stderr",
     "output_type": "stream",
     "text": [
      "Adding P3634->102666 to M59494080. importing Met Object ID from source info from Commons template\n",
      "Adding P195->Q160236 to M59494080. adding collection based on Met Object ID\n"
     ]
    },
    {
     "name": "stdout",
     "output_type": "stream",
     "text": [
      "\n"
     ]
    },
    {
     "name": "stderr",
     "output_type": "stream",
     "text": [
      "Adding P3634->156535 to M65090663. importing Met Object ID from source info from Commons template\n",
      "Adding P195->Q160236 to M65090663. adding collection based on Met Object ID\n"
     ]
    },
    {
     "name": "stdout",
     "output_type": "stream",
     "text": [
      "\n"
     ]
    },
    {
     "name": "stderr",
     "output_type": "stream",
     "text": [
      "Adding P3634->156535 to M59664408. importing Met Object ID from source info from Commons template\n",
      "Adding P195->Q160236 to M59664408. adding collection based on Met Object ID\n"
     ]
    },
    {
     "name": "stdout",
     "output_type": "stream",
     "text": [
      "\n"
     ]
    },
    {
     "name": "stderr",
     "output_type": "stream",
     "text": [
      "Adding P3634->156594 to M59657368. importing Met Object ID from source info from Commons template\n",
      "Adding P195->Q160236 to M59657368. adding collection based on Met Object ID\n"
     ]
    },
    {
     "name": "stdout",
     "output_type": "stream",
     "text": [
      "\n"
     ]
    },
    {
     "name": "stderr",
     "output_type": "stream",
     "text": [
      "Adding P3634->156672 to M59657493. importing Met Object ID from source info from Commons template\n",
      "Adding P195->Q160236 to M59657493. adding collection based on Met Object ID\n"
     ]
    },
    {
     "name": "stdout",
     "output_type": "stream",
     "text": [
      "\n"
     ]
    },
    {
     "name": "stderr",
     "output_type": "stream",
     "text": [
      "Adding P3634->156672 to M59657502. importing Met Object ID from source info from Commons template\n",
      "Adding P195->Q160236 to M59657502. adding collection based on Met Object ID\n"
     ]
    },
    {
     "name": "stdout",
     "output_type": "stream",
     "text": [
      "\n"
     ]
    },
    {
     "name": "stderr",
     "output_type": "stream",
     "text": [
      "Adding P3634->156689 to M59657582. importing Met Object ID from source info from Commons template\n",
      "Adding P195->Q160236 to M59657582. adding collection based on Met Object ID\n"
     ]
    },
    {
     "name": "stdout",
     "output_type": "stream",
     "text": [
      "\n"
     ]
    },
    {
     "name": "stderr",
     "output_type": "stream",
     "text": [
      "Adding P3634->156689 to M59657585. importing Met Object ID from source info from Commons template\n",
      "Adding P195->Q160236 to M59657585. adding collection based on Met Object ID\n"
     ]
    },
    {
     "name": "stdout",
     "output_type": "stream",
     "text": [
      "\n"
     ]
    },
    {
     "name": "stderr",
     "output_type": "stream",
     "text": [
      "Adding P3634->117280 to M59657785. importing Met Object ID from source info from Commons template\n",
      "Adding P195->Q160236 to M59657785. adding collection based on Met Object ID\n"
     ]
    },
    {
     "name": "stdout",
     "output_type": "stream",
     "text": [
      "\n"
     ]
    },
    {
     "name": "stderr",
     "output_type": "stream",
     "text": [
      "Adding P3634->117280 to M59657779. importing Met Object ID from source info from Commons template\n",
      "Adding P195->Q160236 to M59657779. adding collection based on Met Object ID\n"
     ]
    },
    {
     "name": "stdout",
     "output_type": "stream",
     "text": [
      "\n"
     ]
    },
    {
     "name": "stderr",
     "output_type": "stream",
     "text": [
      "Adding P3634->117280 to M59657787. importing Met Object ID from source info from Commons template\n",
      "Adding P195->Q160236 to M59657787. adding collection based on Met Object ID\n"
     ]
    },
    {
     "name": "stdout",
     "output_type": "stream",
     "text": [
      "\n"
     ]
    },
    {
     "name": "stderr",
     "output_type": "stream",
     "text": [
      "Adding P3634->117313 to M59657867. importing Met Object ID from source info from Commons template\n",
      "Adding P195->Q160236 to M59657867. adding collection based on Met Object ID\n"
     ]
    },
    {
     "name": "stdout",
     "output_type": "stream",
     "text": [
      "\n"
     ]
    },
    {
     "name": "stderr",
     "output_type": "stream",
     "text": [
      "Adding P3634->117313 to M59657807. importing Met Object ID from source info from Commons template\n",
      "Adding P195->Q160236 to M59657807. adding collection based on Met Object ID\n"
     ]
    },
    {
     "name": "stdout",
     "output_type": "stream",
     "text": [
      "\n"
     ]
    },
    {
     "name": "stderr",
     "output_type": "stream",
     "text": [
      "Adding P3634->117313 to M59657868. importing Met Object ID from source info from Commons template\n",
      "Adding P195->Q160236 to M59657868. adding collection based on Met Object ID\n"
     ]
    },
    {
     "name": "stdout",
     "output_type": "stream",
     "text": [
      "\n"
     ]
    },
    {
     "name": "stderr",
     "output_type": "stream",
     "text": [
      "Adding P3634->116990 to M59657638. importing Met Object ID from source info from Commons template\n",
      "Adding P195->Q160236 to M59657638. adding collection based on Met Object ID\n"
     ]
    },
    {
     "name": "stdout",
     "output_type": "stream",
     "text": [
      "\n"
     ]
    },
    {
     "name": "stderr",
     "output_type": "stream",
     "text": [
      "Adding P3634->116990 to M59657642. importing Met Object ID from source info from Commons template\n",
      "Adding P195->Q160236 to M59657642. adding collection based on Met Object ID\n"
     ]
    },
    {
     "name": "stdout",
     "output_type": "stream",
     "text": [
      "\n"
     ]
    },
    {
     "name": "stderr",
     "output_type": "stream",
     "text": [
      "Adding P3634->116990 to M59657672. importing Met Object ID from source info from Commons template\n",
      "Adding P195->Q160236 to M59657672. adding collection based on Met Object ID\n"
     ]
    },
    {
     "name": "stdout",
     "output_type": "stream",
     "text": [
      "\n"
     ]
    },
    {
     "name": "stderr",
     "output_type": "stream",
     "text": [
      "Adding P3634->116990 to M59657656. importing Met Object ID from source info from Commons template\n",
      "Adding P195->Q160236 to M59657656. adding collection based on Met Object ID\n"
     ]
    },
    {
     "name": "stdout",
     "output_type": "stream",
     "text": [
      "\n"
     ]
    },
    {
     "name": "stderr",
     "output_type": "stream",
     "text": [
      "Adding P3634->117187 to M59657690. importing Met Object ID from source info from Commons template\n",
      "Adding P195->Q160236 to M59657690. adding collection based on Met Object ID\n"
     ]
    },
    {
     "name": "stdout",
     "output_type": "stream",
     "text": [
      "\n"
     ]
    },
    {
     "name": "stderr",
     "output_type": "stream",
     "text": [
      "Adding P3634->156862 to M65090689. importing Met Object ID from source info from Commons template\n",
      "Adding P195->Q160236 to M65090689. adding collection based on Met Object ID\n"
     ]
    },
    {
     "name": "stdout",
     "output_type": "stream",
     "text": [
      "\n"
     ]
    },
    {
     "name": "stderr",
     "output_type": "stream",
     "text": [
      "Adding P3634->156862 to M59658133. importing Met Object ID from source info from Commons template\n",
      "Adding P195->Q160236 to M59658133. adding collection based on Met Object ID\n"
     ]
    },
    {
     "name": "stdout",
     "output_type": "stream",
     "text": [
      "\n"
     ]
    },
    {
     "name": "stderr",
     "output_type": "stream",
     "text": [
      "Adding P3634->156862 to M59658136. importing Met Object ID from source info from Commons template\n",
      "Adding P195->Q160236 to M59658136. adding collection based on Met Object ID\n"
     ]
    },
    {
     "name": "stdout",
     "output_type": "stream",
     "text": [
      "\n"
     ]
    },
    {
     "name": "stderr",
     "output_type": "stream",
     "text": [
      "Adding P3634->156862 to M59658132. importing Met Object ID from source info from Commons template\n",
      "Adding P195->Q160236 to M59658132. adding collection based on Met Object ID\n"
     ]
    },
    {
     "name": "stdout",
     "output_type": "stream",
     "text": [
      "\n"
     ]
    },
    {
     "name": "stderr",
     "output_type": "stream",
     "text": [
      "Adding P3634->156864 to M59658142. importing Met Object ID from source info from Commons template\n",
      "Adding P195->Q160236 to M59658142. adding collection based on Met Object ID\n"
     ]
    },
    {
     "name": "stdout",
     "output_type": "stream",
     "text": [
      "\n"
     ]
    },
    {
     "name": "stderr",
     "output_type": "stream",
     "text": [
      "Adding P3634->156864 to M59658156. importing Met Object ID from source info from Commons template\n",
      "Adding P195->Q160236 to M59658156. adding collection based on Met Object ID\n"
     ]
    },
    {
     "name": "stdout",
     "output_type": "stream",
     "text": [
      "\n"
     ]
    },
    {
     "name": "stderr",
     "output_type": "stream",
     "text": [
      "Adding P3634->156865 to M59658152. importing Met Object ID from source info from Commons template\n",
      "Adding P195->Q160236 to M59658152. adding collection based on Met Object ID\n"
     ]
    },
    {
     "name": "stdout",
     "output_type": "stream",
     "text": [
      "\n"
     ]
    },
    {
     "name": "stderr",
     "output_type": "stream",
     "text": [
      "Adding P3634->156866 to M59658228. importing Met Object ID from source info from Commons template\n",
      "Adding P195->Q160236 to M59658228. adding collection based on Met Object ID\n"
     ]
    },
    {
     "name": "stdout",
     "output_type": "stream",
     "text": [
      "\n"
     ]
    },
    {
     "name": "stderr",
     "output_type": "stream",
     "text": [
      "Adding P3634->156867 to M59658238. importing Met Object ID from source info from Commons template\n",
      "Adding P195->Q160236 to M59658238. adding collection based on Met Object ID\n"
     ]
    },
    {
     "name": "stdout",
     "output_type": "stream",
     "text": [
      "\n"
     ]
    },
    {
     "name": "stderr",
     "output_type": "stream",
     "text": [
      "Adding P3634->156867 to M59658236. importing Met Object ID from source info from Commons template\n",
      "Adding P195->Q160236 to M59658236. adding collection based on Met Object ID\n"
     ]
    },
    {
     "name": "stdout",
     "output_type": "stream",
     "text": [
      "\n"
     ]
    },
    {
     "name": "stderr",
     "output_type": "stream",
     "text": [
      "Adding P3634->156992 to M59658457. importing Met Object ID from source info from Commons template\n",
      "Adding P195->Q160236 to M59658457. adding collection based on Met Object ID\n"
     ]
    },
    {
     "name": "stdout",
     "output_type": "stream",
     "text": [
      "\n"
     ]
    },
    {
     "name": "stderr",
     "output_type": "stream",
     "text": [
      "Adding P3634->156992 to M59658452. importing Met Object ID from source info from Commons template\n",
      "Adding P195->Q160236 to M59658452. adding collection based on Met Object ID\n"
     ]
    },
    {
     "name": "stdout",
     "output_type": "stream",
     "text": [
      "\n"
     ]
    },
    {
     "name": "stderr",
     "output_type": "stream",
     "text": [
      "Adding P3634->156991 to M65090687. importing Met Object ID from source info from Commons template\n",
      "Adding P195->Q160236 to M65090687. adding collection based on Met Object ID\n"
     ]
    },
    {
     "name": "stdout",
     "output_type": "stream",
     "text": [
      "\n"
     ]
    },
    {
     "name": "stderr",
     "output_type": "stream",
     "text": [
      "Adding P3634->156991 to M59658461. importing Met Object ID from source info from Commons template\n",
      "Adding P195->Q160236 to M59658461. adding collection based on Met Object ID\n"
     ]
    },
    {
     "name": "stdout",
     "output_type": "stream",
     "text": [
      "\n"
     ]
    },
    {
     "name": "stderr",
     "output_type": "stream",
     "text": [
      "Adding P3634->81544 to M65058936. importing Met Object ID from source info from Commons template\n",
      "Adding P195->Q160236 to M65058936. adding collection based on Met Object ID\n"
     ]
    },
    {
     "name": "stdout",
     "output_type": "stream",
     "text": [
      "\n"
     ]
    },
    {
     "name": "stderr",
     "output_type": "stream",
     "text": [
      "Adding P3634->81544 to M65058931. importing Met Object ID from source info from Commons template\n",
      "Adding P195->Q160236 to M65058931. adding collection based on Met Object ID\n"
     ]
    },
    {
     "name": "stdout",
     "output_type": "stream",
     "text": [
      "\n"
     ]
    },
    {
     "name": "stderr",
     "output_type": "stream",
     "text": [
      "Adding P3634->117338 to M59657895. importing Met Object ID from source info from Commons template\n",
      "Adding P195->Q160236 to M59657895. adding collection based on Met Object ID\n"
     ]
    },
    {
     "name": "stdout",
     "output_type": "stream",
     "text": [
      "\n"
     ]
    },
    {
     "name": "stderr",
     "output_type": "stream",
     "text": [
      "Adding P3634->117338 to M59657885. importing Met Object ID from source info from Commons template\n",
      "Adding P195->Q160236 to M59657885. adding collection based on Met Object ID\n"
     ]
    },
    {
     "name": "stdout",
     "output_type": "stream",
     "text": [
      "\n"
     ]
    },
    {
     "name": "stderr",
     "output_type": "stream",
     "text": [
      "Adding P3634->116884 to M59657400. importing Met Object ID from source info from Commons template\n",
      "Adding P195->Q160236 to M59657400. adding collection based on Met Object ID\n"
     ]
    },
    {
     "name": "stdout",
     "output_type": "stream",
     "text": [
      "\n"
     ]
    },
    {
     "name": "stderr",
     "output_type": "stream",
     "text": [
      "Adding P3634->116885 to M59657409. importing Met Object ID from source info from Commons template\n",
      "Adding P195->Q160236 to M59657409. adding collection based on Met Object ID\n"
     ]
    },
    {
     "name": "stdout",
     "output_type": "stream",
     "text": [
      "\n"
     ]
    },
    {
     "name": "stderr",
     "output_type": "stream",
     "text": [
      "Adding P3634->117286 to M59657796. importing Met Object ID from source info from Commons template\n",
      "Adding P195->Q160236 to M59657796. adding collection based on Met Object ID\n"
     ]
    },
    {
     "name": "stdout",
     "output_type": "stream",
     "text": [
      "\n"
     ]
    },
    {
     "name": "stderr",
     "output_type": "stream",
     "text": [
      "Adding P3634->87670 to M59496273. importing Met Object ID from source info from Commons template\n",
      "Adding P195->Q160236 to M59496273. adding collection based on Met Object ID\n"
     ]
    },
    {
     "name": "stdout",
     "output_type": "stream",
     "text": [
      "\n"
     ]
    },
    {
     "name": "stderr",
     "output_type": "stream",
     "text": [
      "Adding P3634->116961 to M59657617. importing Met Object ID from source info from Commons template\n",
      "Adding P195->Q160236 to M59657617. adding collection based on Met Object ID\n"
     ]
    },
    {
     "name": "stdout",
     "output_type": "stream",
     "text": [
      "\n"
     ]
    },
    {
     "name": "stderr",
     "output_type": "stream",
     "text": [
      "Adding P3634->116961 to M59657616. importing Met Object ID from source info from Commons template\n",
      "Adding P195->Q160236 to M59657616. adding collection based on Met Object ID\n"
     ]
    },
    {
     "name": "stdout",
     "output_type": "stream",
     "text": [
      "\n"
     ]
    },
    {
     "name": "stderr",
     "output_type": "stream",
     "text": [
      "Adding P3634->116917 to M59657413. importing Met Object ID from source info from Commons template\n",
      "Adding P195->Q160236 to M59657413. adding collection based on Met Object ID\n"
     ]
    },
    {
     "name": "stdout",
     "output_type": "stream",
     "text": [
      "\n"
     ]
    },
    {
     "name": "stderr",
     "output_type": "stream",
     "text": [
      "Adding P3634->116918 to M59657416. importing Met Object ID from source info from Commons template\n",
      "Adding P195->Q160236 to M59657416. adding collection based on Met Object ID\n"
     ]
    },
    {
     "name": "stdout",
     "output_type": "stream",
     "text": [
      "\n"
     ]
    },
    {
     "name": "stderr",
     "output_type": "stream",
     "text": [
      "Adding P3634->116975 to M59657641. importing Met Object ID from source info from Commons template\n",
      "Adding P195->Q160236 to M59657641. adding collection based on Met Object ID\n"
     ]
    },
    {
     "name": "stdout",
     "output_type": "stream",
     "text": [
      "\n"
     ]
    },
    {
     "name": "stderr",
     "output_type": "stream",
     "text": [
      "Adding P3634->110731 to M59501552. importing Met Object ID from source info from Commons template\n",
      "Adding P195->Q160236 to M59501552. adding collection based on Met Object ID\n"
     ]
    },
    {
     "name": "stdout",
     "output_type": "stream",
     "text": [
      "\n"
     ]
    },
    {
     "name": "stderr",
     "output_type": "stream",
     "text": [
      "Adding P3634->116968 to M59657632. importing Met Object ID from source info from Commons template\n",
      "Adding P195->Q160236 to M59657632. adding collection based on Met Object ID\n"
     ]
    },
    {
     "name": "stdout",
     "output_type": "stream",
     "text": [
      "\n"
     ]
    },
    {
     "name": "stderr",
     "output_type": "stream",
     "text": [
      "Adding P3634->116933 to M59657422. importing Met Object ID from source info from Commons template\n",
      "Adding P195->Q160236 to M59657422. adding collection based on Met Object ID\n"
     ]
    },
    {
     "name": "stdout",
     "output_type": "stream",
     "text": [
      "\n"
     ]
    },
    {
     "name": "stderr",
     "output_type": "stream",
     "text": [
      "Adding P3634->108414 to M59502224. importing Met Object ID from source info from Commons template\n",
      "Adding P195->Q160236 to M59502224. adding collection based on Met Object ID\n"
     ]
    },
    {
     "name": "stdout",
     "output_type": "stream",
     "text": [
      "\n"
     ]
    },
    {
     "name": "stderr",
     "output_type": "stream",
     "text": [
      "Adding P3634->84209 to M59489730. importing Met Object ID from source info from Commons template\n",
      "Adding P195->Q160236 to M59489730. adding collection based on Met Object ID\n"
     ]
    },
    {
     "name": "stdout",
     "output_type": "stream",
     "text": [
      "\n"
     ]
    },
    {
     "name": "stderr",
     "output_type": "stream",
     "text": [
      "Adding P3634->81544 to M59493437. importing Met Object ID from source info from Commons template\n",
      "Adding P195->Q160236 to M59493437. adding collection based on Met Object ID\n"
     ]
    },
    {
     "name": "stdout",
     "output_type": "stream",
     "text": [
      "\n"
     ]
    },
    {
     "name": "stderr",
     "output_type": "stream",
     "text": [
      "Adding P3634->117281 to M59657780. importing Met Object ID from source info from Commons template\n",
      "Adding P195->Q160236 to M59657780. adding collection based on Met Object ID\n"
     ]
    },
    {
     "name": "stdout",
     "output_type": "stream",
     "text": [
      "\n"
     ]
    },
    {
     "name": "stderr",
     "output_type": "stream",
     "text": [
      "Adding P3634->117281 to M59657788. importing Met Object ID from source info from Commons template\n",
      "Adding P195->Q160236 to M59657788. adding collection based on Met Object ID\n"
     ]
    },
    {
     "name": "stdout",
     "output_type": "stream",
     "text": [
      "\n"
     ]
    },
    {
     "name": "stderr",
     "output_type": "stream",
     "text": [
      "Adding P3634->84595 to M59494888. importing Met Object ID from source info from Commons template\n",
      "Adding P195->Q160236 to M59494888. adding collection based on Met Object ID\n"
     ]
    },
    {
     "name": "stdout",
     "output_type": "stream",
     "text": [
      "\n"
     ]
    },
    {
     "name": "stderr",
     "output_type": "stream",
     "text": [
      "Adding P3634->105013 to M59495603. importing Met Object ID from source info from Commons template\n",
      "Adding P195->Q160236 to M59495603. adding collection based on Met Object ID\n"
     ]
    },
    {
     "name": "stdout",
     "output_type": "stream",
     "text": [
      "\n"
     ]
    },
    {
     "name": "stderr",
     "output_type": "stream",
     "text": [
      "Adding P3634->116973 to M59657627. importing Met Object ID from source info from Commons template\n",
      "Adding P195->Q160236 to M59657627. adding collection based on Met Object ID\n"
     ]
    },
    {
     "name": "stdout",
     "output_type": "stream",
     "text": [
      "\n"
     ]
    },
    {
     "name": "stderr",
     "output_type": "stream",
     "text": [
      "Adding P3634->170531 to M59665737. importing Met Object ID from source info from Commons template\n",
      "Adding P195->Q160236 to M59665737. adding collection based on Met Object ID\n"
     ]
    },
    {
     "name": "stdout",
     "output_type": "stream",
     "text": [
      "\n"
     ]
    },
    {
     "name": "stderr",
     "output_type": "stream",
     "text": [
      "Adding P3634->81553 to M59493725. importing Met Object ID from source info from Commons template\n",
      "Adding P195->Q160236 to M59493725. adding collection based on Met Object ID\n"
     ]
    },
    {
     "name": "stdout",
     "output_type": "stream",
     "text": [
      "\n"
     ]
    },
    {
     "name": "stderr",
     "output_type": "stream",
     "text": [
      "Adding P3634->79226 to M59488895. importing Met Object ID from source info from Commons template\n",
      "Adding P195->Q160236 to M59488895. adding collection based on Met Object ID\n"
     ]
    },
    {
     "name": "stdout",
     "output_type": "stream",
     "text": [
      "\n"
     ]
    },
    {
     "name": "stderr",
     "output_type": "stream",
     "text": [
      "Adding P3634->82465 to M59492599. importing Met Object ID from source info from Commons template\n",
      "Adding P195->Q160236 to M59492599. adding collection based on Met Object ID\n"
     ]
    },
    {
     "name": "stdout",
     "output_type": "stream",
     "text": [
      "\n"
     ]
    },
    {
     "name": "stderr",
     "output_type": "stream",
     "text": [
      "Adding P3634->81553 to M59493713. importing Met Object ID from source info from Commons template\n",
      "Adding P195->Q160236 to M59493713. adding collection based on Met Object ID\n"
     ]
    },
    {
     "name": "stdout",
     "output_type": "stream",
     "text": [
      "\n"
     ]
    },
    {
     "name": "stderr",
     "output_type": "stream",
     "text": [
      "Adding P3634->98214 to M59493393. importing Met Object ID from source info from Commons template\n",
      "Adding P195->Q160236 to M59493393. adding collection based on Met Object ID\n"
     ]
    },
    {
     "name": "stdout",
     "output_type": "stream",
     "text": [
      "\n"
     ]
    },
    {
     "name": "stderr",
     "output_type": "stream",
     "text": [
      "Adding P3634->116948 to M59657492. importing Met Object ID from source info from Commons template\n",
      "Adding P195->Q160236 to M59657492. adding collection based on Met Object ID\n"
     ]
    },
    {
     "name": "stdout",
     "output_type": "stream",
     "text": [
      "\n"
     ]
    },
    {
     "name": "stderr",
     "output_type": "stream",
     "text": [
      "Adding P3634->116948 to M59657497. importing Met Object ID from source info from Commons template\n",
      "Adding P195->Q160236 to M59657497. adding collection based on Met Object ID\n"
     ]
    },
    {
     "name": "stdout",
     "output_type": "stream",
     "text": [
      "\n"
     ]
    },
    {
     "name": "stderr",
     "output_type": "stream",
     "text": [
      "Adding P3634->116959 to M59657529. importing Met Object ID from source info from Commons template\n",
      "Adding P195->Q160236 to M59657529. adding collection based on Met Object ID\n"
     ]
    },
    {
     "name": "stdout",
     "output_type": "stream",
     "text": [
      "\n"
     ]
    },
    {
     "name": "stderr",
     "output_type": "stream",
     "text": [
      "Adding P3634->117191 to M59657700. importing Met Object ID from source info from Commons template\n",
      "Adding P195->Q160236 to M59657700. adding collection based on Met Object ID\n"
     ]
    },
    {
     "name": "stdout",
     "output_type": "stream",
     "text": [
      "\n"
     ]
    },
    {
     "name": "stderr",
     "output_type": "stream",
     "text": [
      "Adding P3634->117192 to M59657706. importing Met Object ID from source info from Commons template\n",
      "Adding P195->Q160236 to M59657706. adding collection based on Met Object ID\n"
     ]
    },
    {
     "name": "stdout",
     "output_type": "stream",
     "text": [
      "\n"
     ]
    },
    {
     "name": "stderr",
     "output_type": "stream",
     "text": [
      "Adding P3634->84629 to M59495481. importing Met Object ID from source info from Commons template\n",
      "Adding P195->Q160236 to M59495481. adding collection based on Met Object ID\n"
     ]
    },
    {
     "name": "stdout",
     "output_type": "stream",
     "text": [
      "\n"
     ]
    },
    {
     "name": "stderr",
     "output_type": "stream",
     "text": [
      "Adding P3634->116958 to M59657525. importing Met Object ID from source info from Commons template\n",
      "Adding P195->Q160236 to M59657525. adding collection based on Met Object ID\n"
     ]
    },
    {
     "name": "stdout",
     "output_type": "stream",
     "text": [
      "\n"
     ]
    },
    {
     "name": "stderr",
     "output_type": "stream",
     "text": [
      "Adding P3634->78997 to M59488648. importing Met Object ID from source info from Commons template\n",
      "Adding P195->Q160236 to M59488648. adding collection based on Met Object ID\n"
     ]
    },
    {
     "name": "stdout",
     "output_type": "stream",
     "text": [
      "\n"
     ]
    },
    {
     "name": "stderr",
     "output_type": "stream",
     "text": [
      "Adding P3634->141911 to M59658086. importing Met Object ID from source info from Commons template\n",
      "Adding P195->Q160236 to M59658086. adding collection based on Met Object ID\n"
     ]
    },
    {
     "name": "stdout",
     "output_type": "stream",
     "text": [
      "\n"
     ]
    },
    {
     "name": "stderr",
     "output_type": "stream",
     "text": [
      "Adding P3634->141911 to M59658083. importing Met Object ID from source info from Commons template\n",
      "Adding P195->Q160236 to M59658083. adding collection based on Met Object ID\n"
     ]
    },
    {
     "name": "stdout",
     "output_type": "stream",
     "text": [
      "\n"
     ]
    },
    {
     "name": "stderr",
     "output_type": "stream",
     "text": [
      "Adding P3634->141911 to M59658081. importing Met Object ID from source info from Commons template\n",
      "Adding P195->Q160236 to M59658081. adding collection based on Met Object ID\n"
     ]
    },
    {
     "name": "stdout",
     "output_type": "stream",
     "text": [
      "\n"
     ]
    },
    {
     "name": "stderr",
     "output_type": "stream",
     "text": [
      "Adding P3634->168428 to M61212308. importing Met Object ID from source info from Commons template\n",
      "Adding P195->Q160236 to M61212308. adding collection based on Met Object ID\n"
     ]
    },
    {
     "name": "stdout",
     "output_type": "stream",
     "text": [
      "\n"
     ]
    },
    {
     "name": "stderr",
     "output_type": "stream",
     "text": [
      "Adding P3634->157202 to M59659787. importing Met Object ID from source info from Commons template\n",
      "Adding P195->Q160236 to M59659787. adding collection based on Met Object ID\n"
     ]
    },
    {
     "name": "stdout",
     "output_type": "stream",
     "text": [
      "\n"
     ]
    },
    {
     "name": "stderr",
     "output_type": "stream",
     "text": [
      "Adding P3634->156669 to M59657482. importing Met Object ID from source info from Commons template\n",
      "Adding P195->Q160236 to M59657482. adding collection based on Met Object ID\n"
     ]
    },
    {
     "name": "stdout",
     "output_type": "stream",
     "text": [
      "\n"
     ]
    },
    {
     "name": "stderr",
     "output_type": "stream",
     "text": [
      "Adding P3634->156853 to M65090682. importing Met Object ID from source info from Commons template\n",
      "Adding P195->Q160236 to M65090682. adding collection based on Met Object ID\n"
     ]
    },
    {
     "name": "stdout",
     "output_type": "stream",
     "text": [
      "\n"
     ]
    },
    {
     "name": "stderr",
     "output_type": "stream",
     "text": [
      "Adding P3634->156853 to M59658040. importing Met Object ID from source info from Commons template\n",
      "Adding P195->Q160236 to M59658040. adding collection based on Met Object ID\n"
     ]
    },
    {
     "name": "stdout",
     "output_type": "stream",
     "text": [
      "\n"
     ]
    },
    {
     "name": "stderr",
     "output_type": "stream",
     "text": [
      "Adding P3634->156853 to M59658104. importing Met Object ID from source info from Commons template\n",
      "Adding P195->Q160236 to M59658104. adding collection based on Met Object ID\n"
     ]
    },
    {
     "name": "stdout",
     "output_type": "stream",
     "text": [
      "\n"
     ]
    },
    {
     "name": "stderr",
     "output_type": "stream",
     "text": [
      "Adding P3634->156995 to M65090693. importing Met Object ID from source info from Commons template\n",
      "Adding P195->Q160236 to M65090693. adding collection based on Met Object ID\n"
     ]
    },
    {
     "name": "stdout",
     "output_type": "stream",
     "text": [
      "\n"
     ]
    },
    {
     "name": "stderr",
     "output_type": "stream",
     "text": [
      "Adding P3634->156995 to M59658556. importing Met Object ID from source info from Commons template\n",
      "Adding P195->Q160236 to M59658556. adding collection based on Met Object ID\n"
     ]
    },
    {
     "name": "stdout",
     "output_type": "stream",
     "text": [
      "\n"
     ]
    },
    {
     "name": "stderr",
     "output_type": "stream",
     "text": [
      "Adding P3634->156995 to M59658559. importing Met Object ID from source info from Commons template\n",
      "Adding P195->Q160236 to M59658559. adding collection based on Met Object ID\n"
     ]
    },
    {
     "name": "stdout",
     "output_type": "stream",
     "text": [
      "\n"
     ]
    },
    {
     "name": "stderr",
     "output_type": "stream",
     "text": [
      "Adding P3634->116991 to M59657675. importing Met Object ID from source info from Commons template\n",
      "Adding P195->Q160236 to M59657675. adding collection based on Met Object ID\n"
     ]
    },
    {
     "name": "stdout",
     "output_type": "stream",
     "text": [
      "\n"
     ]
    },
    {
     "name": "stderr",
     "output_type": "stream",
     "text": [
      "Adding P3634->117299 to M59657812. importing Met Object ID from source info from Commons template\n",
      "Adding P195->Q160236 to M59657812. adding collection based on Met Object ID\n"
     ]
    },
    {
     "name": "stdout",
     "output_type": "stream",
     "text": [
      "\n"
     ]
    },
    {
     "name": "stderr",
     "output_type": "stream",
     "text": [
      "Adding P3634->117282 to M59657786. importing Met Object ID from source info from Commons template\n",
      "Adding P195->Q160236 to M59657786. adding collection based on Met Object ID\n"
     ]
    },
    {
     "name": "stdout",
     "output_type": "stream",
     "text": [
      "\n"
     ]
    },
    {
     "name": "stderr",
     "output_type": "stream",
     "text": [
      "Adding P3634->117279 to M59657778. importing Met Object ID from source info from Commons template\n",
      "Adding P195->Q160236 to M59657778. adding collection based on Met Object ID\n"
     ]
    },
    {
     "name": "stdout",
     "output_type": "stream",
     "text": [
      "\n"
     ]
    },
    {
     "name": "stderr",
     "output_type": "stream",
     "text": [
      "Adding P3634->117279 to M59657777. importing Met Object ID from source info from Commons template\n",
      "Adding P195->Q160236 to M59657777. adding collection based on Met Object ID\n"
     ]
    },
    {
     "name": "stdout",
     "output_type": "stream",
     "text": [
      "\n"
     ]
    },
    {
     "name": "stderr",
     "output_type": "stream",
     "text": [
      "Adding P3634->101152 to M59498815. importing Met Object ID from source info from Commons template\n",
      "Adding P195->Q160236 to M59498815. adding collection based on Met Object ID\n"
     ]
    },
    {
     "name": "stdout",
     "output_type": "stream",
     "text": [
      "\n"
     ]
    },
    {
     "name": "stderr",
     "output_type": "stream",
     "text": [
      "Adding P3634->156669 to M59657484. importing Met Object ID from source info from Commons template\n",
      "Adding P195->Q160236 to M59657484. adding collection based on Met Object ID\n"
     ]
    },
    {
     "name": "stdout",
     "output_type": "stream",
     "text": [
      "\n"
     ]
    },
    {
     "name": "stderr",
     "output_type": "stream",
     "text": [
      "Adding P3634->307845 to M60501122. importing Met Object ID from source info from Commons template\n",
      "Adding P195->Q160236 to M60501122. adding collection based on Met Object ID\n"
     ]
    },
    {
     "name": "stdout",
     "output_type": "stream",
     "text": [
      "\n"
     ]
    },
    {
     "name": "stderr",
     "output_type": "stream",
     "text": [
      "Adding P3634->310450 to M60505214. importing Met Object ID from source info from Commons template\n",
      "Adding P195->Q160236 to M60505214. adding collection based on Met Object ID\n"
     ]
    },
    {
     "name": "stdout",
     "output_type": "stream",
     "text": [
      "\n",
      "Final report\n",
      "id: 437\n",
      "institution: 421\n",
      "id_skip: 0\n",
      "institution_skip: 16\n",
      "unmatched: 0\n"
     ]
    },
    {
     "data": {
      "text/plain": [
       "{None}"
      ]
     },
     "execution_count": 2,
     "metadata": {},
     "output_type": "execute_result"
    }
   ],
   "source": [
    "# Bot to examine Wikimedia Commons category and add structured data (SDC) info for The Met Museum:\n",
    "#   Met Object ID (P3634) -> object id\n",
    "#   collection (P195) -> Q160236\n",
    "#\n",
    "# For well-structured uploads to Commons (mostly done in 2017 with GLAM Wiki Toolset) the object id\n",
    "#   can be determined by looking at the template \"source\" field for a URL of pattern:\n",
    "#   https://www.metmuseum.org/art/collection/search/12345'\n",
    "#\n",
    "# Built for processing the institutional uploads in: \n",
    "#   https://commons.wikimedia.org/wiki/Category:Metropolitan_Museum_of_Art_by_department\n",
    "#\n",
    "# Author: Andrew Lih (User:Fuzheado), based on SDC routines from Botmultichill\n",
    "\n",
    "import pywikibot\n",
    "from pywikibot import pagegenerators\n",
    "from pywikibot.comms import http\n",
    "\n",
    "import json\n",
    "import re\n",
    "from itertools import islice\n",
    "\n",
    "# Parameters specific to the institution\n",
    "PARAMS = {\n",
    "    'test_mode': False,\n",
    "#    'category': u'Category:Department of Ancient Near Eastern Art, Metropolitan Museum of Art',\n",
    "    'category': u'Category:Bags_in_the_Metropolitan_Museum_of_Art',\n",
    "    'recurse': True,\n",
    "    'search_string': r'source[ ]*=[ ]*http[s]*://www.metmuseum.org/art/collection/search/(\\d+)',\n",
    "    'pid':'P3634',\n",
    "    'pid_summary': u'importing Met Object ID from source info from Commons template',\n",
    "    'institution_pid':'P195',\n",
    "    'institution_qid':'Q160236',\n",
    "    'institution_summary': u'adding collection based on Met Object ID'\n",
    "}\n",
    "\n",
    "# Counters for final report\n",
    "counter = {\n",
    "    'id': 0,\n",
    "    'institution': 0,\n",
    "    'id_skip': 0,\n",
    "    'institution_skip': 0,\n",
    "    'unmatched': 0\n",
    "}\n",
    "\n",
    "def addClaim(mediaid, pid, qid, summary='') -> int:\n",
    "    \"\"\"addClaim - add a Wikibase claim for a property/pid that is a Q object\n",
    "    \n",
    "    :param mediaid: MID of Commons file\n",
    "    :param pid: Wikidata property (eg. P195)\n",
    "    :param qid: QID for the object (eg. Q160236)\n",
    "    :param summary: edit summary to append to automated summary\n",
    "    :return: return value\n",
    "    \"\"\"\n",
    "    pywikibot.output(u'Adding %s->%s to %s. %s' % (pid, qid, mediaid, summary))\n",
    "\n",
    "    # Check for existing entry - if it exists at all, skip and honor existing entry\n",
    "    request = site._simple_request(action='wbgetentities',ids=mediaid)\n",
    "    data = request.submit()\n",
    "    if (data.get(u'entities').get(mediaid).get(u'statements').get(pid)):\n",
    "        pywikibot.output(u'  Existing entry: skipping to be safe.')\n",
    "        return 0  # Skip\n",
    "\n",
    "    tokenrequest = http.fetch(u'https://commons.wikimedia.org/w/api.php?action=query&meta=tokens&type=csrf&format=json')\n",
    "\n",
    "    tokendata = json.loads(tokenrequest.text)\n",
    "    token = tokendata.get(u'query').get(u'tokens').get(u'csrftoken')\n",
    "\n",
    "    postvalue = {\"entity-type\":\"item\",\"numeric-id\": qid.replace(u'Q', u'')}\n",
    "\n",
    "    postdata = {u'action' : u'wbcreateclaim',\n",
    "                u'format' : u'json',\n",
    "                u'entity' : mediaid,\n",
    "                u'property' : pid,\n",
    "                u'snaktype' : u'value',\n",
    "                u'value' : json.dumps(postvalue),\n",
    "                u'token' : token,\n",
    "                u'summary' : summary\n",
    "                }\n",
    "\n",
    "    if PARAMS['test_mode']:\n",
    "        # print ('TEST_MODE: addClaim:', postdata)\n",
    "        pass\n",
    "    else:\n",
    "        apipage = http.fetch(u'https://commons.wikimedia.org/w/api.php', method='POST', data=postdata)\n",
    "\n",
    "    return 1  # Successful add\n",
    "\n",
    "def addClaimString(mediaid, pid, instring, summary=''):\n",
    "    \"\"\" addClaimString - add a Wikibase claim for a property/pid that is a string object\n",
    "    \n",
    "    :param mediaid: MID of Commons file\n",
    "    :param pid: Wikidata property (eg. P3634)\n",
    "    :param instring: string for above property\n",
    "    :param summary: edit summary to append to automated summary\n",
    "    :return: return value\n",
    "    \"\"\"\n",
    "    pywikibot.output(u'Adding %s->%s to %s. %s' % (pid, instring, mediaid, summary))\n",
    "\n",
    "    # Check for existing entry - if it exists at all, skip and honor existing entry\n",
    "    request = site._simple_request(action='wbgetentities',ids=mediaid)\n",
    "    data = request.submit()\n",
    "    if (data.get(u'entities').get(mediaid).get(u'statements').get(pid)):\n",
    "        pywikibot.output(u'  Existing entry: skipping to be safe.')\n",
    "        return 0\n",
    "    \n",
    "    tokenrequest = http.fetch(u'https://commons.wikimedia.org/w/api.php?action=query&meta=tokens&type=csrf&format=json')\n",
    "\n",
    "    tokendata = json.loads(tokenrequest.text)\n",
    "    token = tokendata.get(u'query').get(u'tokens').get(u'csrftoken')\n",
    "\n",
    "    postdata = {u'action' : u'wbcreateclaim',\n",
    "                u'format' : u'json',\n",
    "                u'entity' : mediaid,\n",
    "                u'property' : pid,\n",
    "                u'snaktype' : u'value',\n",
    "                u'value' : '\"'+instring+'\"',\n",
    "                u'token' : token,\n",
    "                u'summary' : summary\n",
    "                }\n",
    "\n",
    "    if PARAMS['test_mode']:\n",
    "        # print ('TEST_MODE: addClaim:', postdata)\n",
    "        pass\n",
    "    else:\n",
    "        apipage = http.fetch(u'https://commons.wikimedia.org/w/api.php', method='POST', data=postdata)\n",
    "\n",
    "    return 1    \n",
    "\n",
    "\n",
    "def media_id(page: pywikibot.page.FilePage) -> str:\n",
    "    \"\"\"Return MID from page ID: just prepend an M to number\"\"\"\n",
    "    return u'M%s' % (page.pageid,)\n",
    "\n",
    "\n",
    "# Start execution\n",
    "\n",
    "# Set this manually if you want to override the default\n",
    "PARAMS['category'] = u'Category:Bathing suits in the Metropolitan Museum of Art',\n",
    "\n",
    "# Shouldn't need to touch these\n",
    "site = pywikibot.Site(u'commons', u'commons')\n",
    "cat = pywikibot.Category(site,PARAMS['category'])\n",
    "gen = pagegenerators.CategorizedPageGenerator(cat, recurse=PARAMS['recurse'])\n",
    "patt = re.compile(PARAMS['search_string'])\n",
    "\n",
    "for page in islice(gen, 10):\n",
    "# for page in gen:\n",
    "    #Do something with the page object, for example:\n",
    "    text = page.text\n",
    "    mediaid = media_id(page)\n",
    "\n",
    "    m = patt.search(text)\n",
    "    if m:\n",
    "        id_string = m.group(1)\n",
    "        # print ('  ', id_string)\n",
    "        summary = PARAMS['pid_summary']\n",
    "        result = addClaimString(mediaid, PARAMS['pid'], id_string, summary)\n",
    "        if result>0:\n",
    "            counter['id'] += 1\n",
    "        else:\n",
    "            counter['id_skip'] += 1\n",
    "\n",
    "        if 'institution_pid' in PARAMS:\n",
    "            institution = PARAMS['institution_qid']  # Met\n",
    "            summary = PARAMS['institution_summary']\n",
    "            result = addClaim(mediaid, PARAMS['institution_pid'], institution, summary)\n",
    "            if result>0:\n",
    "                counter['institution'] += 1\n",
    "            else:\n",
    "                counter['institution_skip'] += 1\n",
    "    else:\n",
    "        counter['unmatched'] += 1\n",
    "        pywikibot.output(u'Unmatched %s' % (mediaid, ))\n",
    "\n",
    "    print ()\n",
    "\n",
    "print ('Final report')\n",
    "{print ('%s: %s' % (x, counter[x])) for x in counter}"
   ]
  }
 ],
 "metadata": {
  "kernelspec": {
   "display_name": "Python 3",
   "language": "python",
   "name": "python3"
  },
  "language_info": {
   "codemirror_mode": {
    "name": "ipython",
    "version": 3
   },
   "file_extension": ".py",
   "mimetype": "text/x-python",
   "name": "python",
   "nbconvert_exporter": "python",
   "pygments_lexer": "ipython3",
   "version": "3.8.5"
  }
 },
 "nbformat": 4,
 "nbformat_minor": 5
}
