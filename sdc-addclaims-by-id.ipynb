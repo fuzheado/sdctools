{
 "cells": [
  {
   "cell_type": "code",
   "execution_count": 18,
   "id": "3d9179ac-ef57-4698-8b48-1c3ed25a046e",
   "metadata": {},
   "outputs": [
    {
     "name": "stderr",
     "output_type": "stream",
     "text": [
      "Adding P3634->325930 to M60514717. importing Met Object ID from source info from Commons template\n",
      "Adding P195->Q160236 to M60514717. adding collection based on Met Object ID\n"
     ]
    },
    {
     "name": "stdout",
     "output_type": "stream",
     "text": [
      "\n"
     ]
    },
    {
     "name": "stderr",
     "output_type": "stream",
     "text": [
      "Adding P3634->325443 to M60518801. importing Met Object ID from source info from Commons template\n",
      "Adding P195->Q160236 to M60518801. adding collection based on Met Object ID\n"
     ]
    },
    {
     "name": "stdout",
     "output_type": "stream",
     "text": [
      "\n"
     ]
    },
    {
     "name": "stderr",
     "output_type": "stream",
     "text": [
      "Adding P3634->326168 to M60516990. importing Met Object ID from source info from Commons template\n",
      "Adding P195->Q160236 to M60516990. adding collection based on Met Object ID\n"
     ]
    },
    {
     "name": "stdout",
     "output_type": "stream",
     "text": [
      "\n"
     ]
    },
    {
     "name": "stderr",
     "output_type": "stream",
     "text": [
      "Adding P3634->324466 to M60509643. importing Met Object ID from source info from Commons template\n",
      "Adding P195->Q160236 to M60509643. adding collection based on Met Object ID\n"
     ]
    },
    {
     "name": "stdout",
     "output_type": "stream",
     "text": [
      "\n"
     ]
    },
    {
     "name": "stderr",
     "output_type": "stream",
     "text": [
      "Adding P3634->324474 to M60509662. importing Met Object ID from source info from Commons template\n",
      "Adding P195->Q160236 to M60509662. adding collection based on Met Object ID\n"
     ]
    },
    {
     "name": "stdout",
     "output_type": "stream",
     "text": [
      "\n"
     ]
    },
    {
     "name": "stderr",
     "output_type": "stream",
     "text": [
      "Adding P3634->325125 to M60516247. importing Met Object ID from source info from Commons template\n",
      "Adding P195->Q160236 to M60516247. adding collection based on Met Object ID\n"
     ]
    },
    {
     "name": "stdout",
     "output_type": "stream",
     "text": [
      "\n"
     ]
    },
    {
     "name": "stderr",
     "output_type": "stream",
     "text": [
      "Adding P3634->324164 to M60516733. importing Met Object ID from source info from Commons template\n",
      "Adding P195->Q160236 to M60516733. adding collection based on Met Object ID\n"
     ]
    },
    {
     "name": "stdout",
     "output_type": "stream",
     "text": [
      "\n"
     ]
    },
    {
     "name": "stderr",
     "output_type": "stream",
     "text": [
      "Adding P3634->322492 to M60509905. importing Met Object ID from source info from Commons template\n",
      "Adding P195->Q160236 to M60509905. adding collection based on Met Object ID\n"
     ]
    },
    {
     "name": "stdout",
     "output_type": "stream",
     "text": [
      "\n"
     ]
    },
    {
     "name": "stderr",
     "output_type": "stream",
     "text": [
      "Adding P3634->321592 to M60511057. importing Met Object ID from source info from Commons template\n",
      "Adding P195->Q160236 to M60511057. adding collection based on Met Object ID\n"
     ]
    },
    {
     "name": "stdout",
     "output_type": "stream",
     "text": [
      "\n"
     ]
    },
    {
     "name": "stderr",
     "output_type": "stream",
     "text": [
      "Adding P3634->322131 to M60516789. importing Met Object ID from source info from Commons template\n",
      "Adding P195->Q160236 to M60516789. adding collection based on Met Object ID\n"
     ]
    },
    {
     "name": "stdout",
     "output_type": "stream",
     "text": [
      "\n"
     ]
    },
    {
     "name": "stderr",
     "output_type": "stream",
     "text": [
      "Adding P3634->326056 to M60515811. importing Met Object ID from source info from Commons template\n",
      "Adding P195->Q160236 to M60515811. adding collection based on Met Object ID\n"
     ]
    },
    {
     "name": "stdout",
     "output_type": "stream",
     "text": [
      "\n"
     ]
    },
    {
     "name": "stderr",
     "output_type": "stream",
     "text": [
      "Adding P3634->323549 to M60509991. importing Met Object ID from source info from Commons template\n",
      "Adding P195->Q160236 to M60509991. adding collection based on Met Object ID\n"
     ]
    },
    {
     "name": "stdout",
     "output_type": "stream",
     "text": [
      "\n"
     ]
    },
    {
     "name": "stderr",
     "output_type": "stream",
     "text": [
      "Adding P3634->323536 to M60509946. importing Met Object ID from source info from Commons template\n",
      "Adding P195->Q160236 to M60509946. adding collection based on Met Object ID\n"
     ]
    },
    {
     "name": "stdout",
     "output_type": "stream",
     "text": [
      "\n"
     ]
    },
    {
     "name": "stderr",
     "output_type": "stream",
     "text": [
      "Adding P3634->322265 to M60517820. importing Met Object ID from source info from Commons template\n",
      "Adding P195->Q160236 to M60517820. adding collection based on Met Object ID\n"
     ]
    },
    {
     "name": "stdout",
     "output_type": "stream",
     "text": [
      "\n"
     ]
    },
    {
     "name": "stderr",
     "output_type": "stream",
     "text": [
      "Adding P3634->322714 to M60509151. importing Met Object ID from source info from Commons template\n",
      "Adding P195->Q160236 to M60509151. adding collection based on Met Object ID\n"
     ]
    },
    {
     "name": "stdout",
     "output_type": "stream",
     "text": [
      "\n"
     ]
    },
    {
     "name": "stderr",
     "output_type": "stream",
     "text": [
      "Adding P3634->324730 to M60512417. importing Met Object ID from source info from Commons template\n",
      "Adding P195->Q160236 to M60512417. adding collection based on Met Object ID\n"
     ]
    },
    {
     "name": "stdout",
     "output_type": "stream",
     "text": [
      "\n"
     ]
    },
    {
     "name": "stderr",
     "output_type": "stream",
     "text": [
      "Adding P3634->324298 to M60518055. importing Met Object ID from source info from Commons template\n",
      "Adding P195->Q160236 to M60518055. adding collection based on Met Object ID\n"
     ]
    },
    {
     "name": "stdout",
     "output_type": "stream",
     "text": [
      "\n"
     ]
    },
    {
     "name": "stderr",
     "output_type": "stream",
     "text": [
      "Adding P3634->327388 to M61210419. importing Met Object ID from source info from Commons template\n",
      "Adding P195->Q160236 to M61210419. adding collection based on Met Object ID\n"
     ]
    },
    {
     "name": "stdout",
     "output_type": "stream",
     "text": [
      "\n"
     ]
    },
    {
     "name": "stderr",
     "output_type": "stream",
     "text": [
      "Adding P3634->322258 to M60517949. importing Met Object ID from source info from Commons template\n",
      "Adding P195->Q160236 to M60517949. adding collection based on Met Object ID\n"
     ]
    },
    {
     "name": "stdout",
     "output_type": "stream",
     "text": [
      "\n"
     ]
    },
    {
     "name": "stderr",
     "output_type": "stream",
     "text": [
      "Adding P3634->323673 to M60511516. importing Met Object ID from source info from Commons template\n",
      "Adding P195->Q160236 to M60511516. adding collection based on Met Object ID\n"
     ]
    },
    {
     "name": "stdout",
     "output_type": "stream",
     "text": [
      "\n"
     ]
    },
    {
     "name": "stderr",
     "output_type": "stream",
     "text": [
      "Adding P3634->323687 to M60511705. importing Met Object ID from source info from Commons template\n",
      "Adding P195->Q160236 to M60511705. adding collection based on Met Object ID\n"
     ]
    },
    {
     "name": "stdout",
     "output_type": "stream",
     "text": [
      "\n"
     ]
    },
    {
     "name": "stderr",
     "output_type": "stream",
     "text": [
      "Adding P3634->324071 to M60515912. importing Met Object ID from source info from Commons template\n",
      "Adding P195->Q160236 to M60515912. adding collection based on Met Object ID\n"
     ]
    },
    {
     "name": "stdout",
     "output_type": "stream",
     "text": [
      "\n"
     ]
    },
    {
     "name": "stderr",
     "output_type": "stream",
     "text": [
      "Adding P3634->324169 to M60516738. importing Met Object ID from source info from Commons template\n",
      "Adding P195->Q160236 to M60516738. adding collection based on Met Object ID\n"
     ]
    },
    {
     "name": "stdout",
     "output_type": "stream",
     "text": [
      "\n"
     ]
    },
    {
     "name": "stderr",
     "output_type": "stream",
     "text": [
      "Adding P3634->324299 to M60518047. importing Met Object ID from source info from Commons template\n",
      "Adding P195->Q160236 to M60518047. adding collection based on Met Object ID\n"
     ]
    },
    {
     "name": "stdout",
     "output_type": "stream",
     "text": [
      "\n"
     ]
    },
    {
     "name": "stderr",
     "output_type": "stream",
     "text": [
      "Adding P3634->324428 to M60518821. importing Met Object ID from source info from Commons template\n",
      "Adding P195->Q160236 to M60518821. adding collection based on Met Object ID\n"
     ]
    },
    {
     "name": "stdout",
     "output_type": "stream",
     "text": [
      "\n"
     ]
    },
    {
     "name": "stderr",
     "output_type": "stream",
     "text": [
      "Adding P3634->324425 to M60518818. importing Met Object ID from source info from Commons template\n",
      "Adding P195->Q160236 to M60518818. adding collection based on Met Object ID\n"
     ]
    },
    {
     "name": "stdout",
     "output_type": "stream",
     "text": [
      "\n"
     ]
    },
    {
     "name": "stderr",
     "output_type": "stream",
     "text": [
      "Adding P3634->324426 to M60518820. importing Met Object ID from source info from Commons template\n",
      "Adding P195->Q160236 to M60518820. adding collection based on Met Object ID\n"
     ]
    },
    {
     "name": "stdout",
     "output_type": "stream",
     "text": [
      "\n"
     ]
    },
    {
     "name": "stderr",
     "output_type": "stream",
     "text": [
      "Adding P3634->324760 to M60512786. importing Met Object ID from source info from Commons template\n",
      "Adding P195->Q160236 to M60512786. adding collection based on Met Object ID\n"
     ]
    },
    {
     "name": "stdout",
     "output_type": "stream",
     "text": [
      "\n"
     ]
    },
    {
     "name": "stderr",
     "output_type": "stream",
     "text": [
      "Adding P3634->325471 to M60509790. importing Met Object ID from source info from Commons template\n",
      "Adding P195->Q160236 to M60509790. adding collection based on Met Object ID\n"
     ]
    },
    {
     "name": "stdout",
     "output_type": "stream",
     "text": [
      "\n"
     ]
    },
    {
     "name": "stderr",
     "output_type": "stream",
     "text": [
      "Adding P3634->324568 to M60510671. importing Met Object ID from source info from Commons template\n",
      "Adding P195->Q160236 to M60510671. adding collection based on Met Object ID\n"
     ]
    },
    {
     "name": "stdout",
     "output_type": "stream",
     "text": [
      "\n"
     ]
    },
    {
     "name": "stderr",
     "output_type": "stream",
     "text": [
      "Adding P3634->322442 to M60509486. importing Met Object ID from source info from Commons template\n",
      "Adding P195->Q160236 to M60509486. adding collection based on Met Object ID\n"
     ]
    },
    {
     "name": "stdout",
     "output_type": "stream",
     "text": [
      "\n"
     ]
    },
    {
     "name": "stderr",
     "output_type": "stream",
     "text": [
      "Adding P3634->321626 to M60511289. importing Met Object ID from source info from Commons template\n",
      "Adding P195->Q160236 to M60511289. adding collection based on Met Object ID\n"
     ]
    },
    {
     "name": "stdout",
     "output_type": "stream",
     "text": [
      "\n"
     ]
    },
    {
     "name": "stderr",
     "output_type": "stream",
     "text": [
      "Adding P3634->321626 to M60511290. importing Met Object ID from source info from Commons template\n",
      "Adding P195->Q160236 to M60511290. adding collection based on Met Object ID\n"
     ]
    },
    {
     "name": "stdout",
     "output_type": "stream",
     "text": [
      "\n"
     ]
    },
    {
     "name": "stderr",
     "output_type": "stream",
     "text": [
      "Adding P3634->326961 to M65096383. importing Met Object ID from source info from Commons template\n",
      "Adding P195->Q160236 to M65096383. adding collection based on Met Object ID\n"
     ]
    },
    {
     "name": "stdout",
     "output_type": "stream",
     "text": [
      "\n"
     ]
    },
    {
     "name": "stderr",
     "output_type": "stream",
     "text": [
      "Adding P3634->321627 to M60511294. importing Met Object ID from source info from Commons template\n",
      "Adding P195->Q160236 to M60511294. adding collection based on Met Object ID\n"
     ]
    },
    {
     "name": "stdout",
     "output_type": "stream",
     "text": [
      "\n",
      "\n"
     ]
    },
    {
     "name": "stderr",
     "output_type": "stream",
     "text": [
      "Unmatched M71387586\n",
      "Adding P3634->325687 to M60511973. importing Met Object ID from source info from Commons template\n",
      "Adding P195->Q160236 to M60511973. adding collection based on Met Object ID\n"
     ]
    },
    {
     "name": "stdout",
     "output_type": "stream",
     "text": [
      "\n"
     ]
    },
    {
     "name": "stderr",
     "output_type": "stream",
     "text": [
      "Adding P3634->322829 to M60513083. importing Met Object ID from source info from Commons template\n",
      "Adding P195->Q160236 to M60513083. adding collection based on Met Object ID\n"
     ]
    },
    {
     "name": "stdout",
     "output_type": "stream",
     "text": [
      "\n"
     ]
    },
    {
     "name": "stderr",
     "output_type": "stream",
     "text": [
      "Adding P3634->322833 to M60513100. importing Met Object ID from source info from Commons template\n",
      "Adding P195->Q160236 to M60513100. adding collection based on Met Object ID\n"
     ]
    },
    {
     "name": "stdout",
     "output_type": "stream",
     "text": [
      "\n"
     ]
    },
    {
     "name": "stderr",
     "output_type": "stream",
     "text": [
      "Adding P3634->322423 to M60509308. importing Met Object ID from source info from Commons template\n",
      "Adding P195->Q160236 to M60509308. adding collection based on Met Object ID\n"
     ]
    },
    {
     "name": "stdout",
     "output_type": "stream",
     "text": [
      "\n"
     ]
    },
    {
     "name": "stderr",
     "output_type": "stream",
     "text": [
      "Adding P3634->325050 to M60515473. importing Met Object ID from source info from Commons template\n",
      "Adding P195->Q160236 to M60515473. adding collection based on Met Object ID\n"
     ]
    },
    {
     "name": "stdout",
     "output_type": "stream",
     "text": [
      "\n"
     ]
    },
    {
     "name": "stderr",
     "output_type": "stream",
     "text": [
      "Adding P3634->325100 to M60515882. importing Met Object ID from source info from Commons template\n",
      "Adding P195->Q160236 to M60515882. adding collection based on Met Object ID\n"
     ]
    },
    {
     "name": "stdout",
     "output_type": "stream",
     "text": [
      "\n"
     ]
    },
    {
     "name": "stderr",
     "output_type": "stream",
     "text": [
      "Adding P3634->325058 to M60515642. importing Met Object ID from source info from Commons template\n",
      "Adding P195->Q160236 to M60515642. adding collection based on Met Object ID\n"
     ]
    },
    {
     "name": "stdout",
     "output_type": "stream",
     "text": [
      "\n"
     ]
    },
    {
     "name": "stderr",
     "output_type": "stream",
     "text": [
      "Adding P3634->325694 to M60511983. importing Met Object ID from source info from Commons template\n",
      "Adding P195->Q160236 to M60511983. adding collection based on Met Object ID\n"
     ]
    },
    {
     "name": "stdout",
     "output_type": "stream",
     "text": [
      "\n"
     ]
    },
    {
     "name": "stderr",
     "output_type": "stream",
     "text": [
      "Adding P3634->324030 to M60515342. importing Met Object ID from source info from Commons template\n",
      "Adding P195->Q160236 to M60515342. adding collection based on Met Object ID\n"
     ]
    },
    {
     "name": "stdout",
     "output_type": "stream",
     "text": [
      "\n"
     ]
    },
    {
     "name": "stderr",
     "output_type": "stream",
     "text": [
      "Adding P3634->324677 to M60511782. importing Met Object ID from source info from Commons template\n",
      "Adding P195->Q160236 to M60511782. adding collection based on Met Object ID\n"
     ]
    },
    {
     "name": "stdout",
     "output_type": "stream",
     "text": [
      "\n"
     ]
    },
    {
     "name": "stderr",
     "output_type": "stream",
     "text": [
      "Adding P3634->322573 to M60510487. importing Met Object ID from source info from Commons template\n",
      "Adding P195->Q160236 to M60510487. adding collection based on Met Object ID\n"
     ]
    },
    {
     "name": "stdout",
     "output_type": "stream",
     "text": [
      "\n"
     ]
    },
    {
     "name": "stderr",
     "output_type": "stream",
     "text": [
      "Adding P3634->322864 to M60513479. importing Met Object ID from source info from Commons template\n",
      "Adding P195->Q160236 to M60513479. adding collection based on Met Object ID\n"
     ]
    },
    {
     "name": "stdout",
     "output_type": "stream",
     "text": [
      "\n"
     ]
    },
    {
     "name": "stderr",
     "output_type": "stream",
     "text": [
      "Adding P3634->322865 to M60513474. importing Met Object ID from source info from Commons template\n",
      "Adding P195->Q160236 to M60513474. adding collection based on Met Object ID\n"
     ]
    },
    {
     "name": "stdout",
     "output_type": "stream",
     "text": [
      "\n"
     ]
    },
    {
     "name": "stderr",
     "output_type": "stream",
     "text": [
      "Adding P3634->327501 to M61210902. importing Met Object ID from source info from Commons template\n",
      "Adding P195->Q160236 to M61210902. adding collection based on Met Object ID\n"
     ]
    },
    {
     "name": "stdout",
     "output_type": "stream",
     "text": [
      "\n"
     ]
    },
    {
     "name": "stderr",
     "output_type": "stream",
     "text": [
      "Adding P3634->324339 to M60518392. importing Met Object ID from source info from Commons template\n",
      "Adding P195->Q160236 to M60518392. adding collection based on Met Object ID\n"
     ]
    },
    {
     "name": "stdout",
     "output_type": "stream",
     "text": [
      "\n"
     ]
    },
    {
     "name": "stderr",
     "output_type": "stream",
     "text": [
      "Adding P3634->324338 to M60518372. importing Met Object ID from source info from Commons template\n",
      "Adding P195->Q160236 to M60518372. adding collection based on Met Object ID\n"
     ]
    },
    {
     "name": "stdout",
     "output_type": "stream",
     "text": [
      "\n"
     ]
    },
    {
     "name": "stderr",
     "output_type": "stream",
     "text": [
      "Adding P3634->324482 to M60509852. importing Met Object ID from source info from Commons template\n",
      "Adding P195->Q160236 to M60509852. adding collection based on Met Object ID\n"
     ]
    },
    {
     "name": "stdout",
     "output_type": "stream",
     "text": [
      "\n"
     ]
    },
    {
     "name": "stderr",
     "output_type": "stream",
     "text": [
      "Adding P3634->324569 to M60510683. importing Met Object ID from source info from Commons template\n",
      "Adding P195->Q160236 to M60510683. adding collection based on Met Object ID\n"
     ]
    },
    {
     "name": "stdout",
     "output_type": "stream",
     "text": [
      "\n"
     ]
    },
    {
     "name": "stderr",
     "output_type": "stream",
     "text": [
      "Adding P3634->324570 to M60510689. importing Met Object ID from source info from Commons template\n",
      "Adding P195->Q160236 to M60510689. adding collection based on Met Object ID\n"
     ]
    },
    {
     "name": "stdout",
     "output_type": "stream",
     "text": [
      "\n"
     ]
    },
    {
     "name": "stderr",
     "output_type": "stream",
     "text": [
      "Adding P3634->327502 to M61210909. importing Met Object ID from source info from Commons template\n",
      "Adding P195->Q160236 to M61210909. adding collection based on Met Object ID\n"
     ]
    },
    {
     "name": "stdout",
     "output_type": "stream",
     "text": [
      "\n"
     ]
    },
    {
     "name": "stderr",
     "output_type": "stream",
     "text": [
      "Adding P3634->327503 to M61210905. importing Met Object ID from source info from Commons template\n",
      "Adding P195->Q160236 to M61210905. adding collection based on Met Object ID\n"
     ]
    },
    {
     "name": "stdout",
     "output_type": "stream",
     "text": [
      "\n"
     ]
    },
    {
     "name": "stderr",
     "output_type": "stream",
     "text": [
      "Adding P3634->327504 to M61210910. importing Met Object ID from source info from Commons template\n",
      "Adding P195->Q160236 to M61210910. adding collection based on Met Object ID\n"
     ]
    },
    {
     "name": "stdout",
     "output_type": "stream",
     "text": [
      "\n"
     ]
    },
    {
     "name": "stderr",
     "output_type": "stream",
     "text": [
      "Adding P3634->327505 to M61210907. importing Met Object ID from source info from Commons template\n",
      "Adding P195->Q160236 to M61210907. adding collection based on Met Object ID\n"
     ]
    },
    {
     "name": "stdout",
     "output_type": "stream",
     "text": [
      "\n"
     ]
    },
    {
     "name": "stderr",
     "output_type": "stream",
     "text": [
      "Adding P3634->325727 to M60512360. importing Met Object ID from source info from Commons template\n",
      "Adding P195->Q160236 to M60512360. adding collection based on Met Object ID\n"
     ]
    },
    {
     "name": "stdout",
     "output_type": "stream",
     "text": [
      "\n"
     ]
    },
    {
     "name": "stderr",
     "output_type": "stream",
     "text": [
      "Adding P3634->325724 to M60512359. importing Met Object ID from source info from Commons template\n",
      "Adding P195->Q160236 to M60512359. adding collection based on Met Object ID\n"
     ]
    },
    {
     "name": "stdout",
     "output_type": "stream",
     "text": [
      "\n"
     ]
    },
    {
     "name": "stderr",
     "output_type": "stream",
     "text": [
      "Adding P3634->327105 to M61208828. importing Met Object ID from source info from Commons template\n",
      "Adding P195->Q160236 to M61208828. adding collection based on Met Object ID\n"
     ]
    },
    {
     "name": "stdout",
     "output_type": "stream",
     "text": [
      "\n"
     ]
    },
    {
     "name": "stderr",
     "output_type": "stream",
     "text": [
      "Adding P3634->322629 to M60510957. importing Met Object ID from source info from Commons template\n",
      "Adding P195->Q160236 to M60510957. adding collection based on Met Object ID\n"
     ]
    },
    {
     "name": "stdout",
     "output_type": "stream",
     "text": [
      "\n"
     ]
    },
    {
     "name": "stderr",
     "output_type": "stream",
     "text": [
      "Adding P3634->324768 to M60512792. importing Met Object ID from source info from Commons template\n",
      "Adding P195->Q160236 to M60512792. adding collection based on Met Object ID\n"
     ]
    },
    {
     "name": "stdout",
     "output_type": "stream",
     "text": [
      "\n"
     ]
    },
    {
     "name": "stderr",
     "output_type": "stream",
     "text": [
      "Adding P3634->324361 to M60518501. importing Met Object ID from source info from Commons template\n",
      "Adding P195->Q160236 to M60518501. adding collection based on Met Object ID\n"
     ]
    },
    {
     "name": "stdout",
     "output_type": "stream",
     "text": [
      "\n"
     ]
    },
    {
     "name": "stderr",
     "output_type": "stream",
     "text": [
      "Adding P3634->324769 to M60512784. importing Met Object ID from source info from Commons template\n",
      "Adding P195->Q160236 to M60512784. adding collection based on Met Object ID\n"
     ]
    },
    {
     "name": "stdout",
     "output_type": "stream",
     "text": [
      "\n"
     ]
    },
    {
     "name": "stderr",
     "output_type": "stream",
     "text": [
      "Adding P3634->324770 to M60512787. importing Met Object ID from source info from Commons template\n",
      "Adding P195->Q160236 to M60512787. adding collection based on Met Object ID\n"
     ]
    },
    {
     "name": "stdout",
     "output_type": "stream",
     "text": [
      "\n"
     ]
    },
    {
     "name": "stderr",
     "output_type": "stream",
     "text": [
      "Adding P3634->324771 to M60512793. importing Met Object ID from source info from Commons template\n",
      "Adding P195->Q160236 to M60512793. adding collection based on Met Object ID\n"
     ]
    },
    {
     "name": "stdout",
     "output_type": "stream",
     "text": [
      "\n"
     ]
    },
    {
     "name": "stderr",
     "output_type": "stream",
     "text": [
      "Adding P3634->324772 to M60512794. importing Met Object ID from source info from Commons template\n",
      "Adding P195->Q160236 to M60512794. adding collection based on Met Object ID\n"
     ]
    },
    {
     "name": "stdout",
     "output_type": "stream",
     "text": [
      "\n"
     ]
    },
    {
     "name": "stderr",
     "output_type": "stream",
     "text": [
      "Adding P3634->324773 to M60512788. importing Met Object ID from source info from Commons template\n",
      "Adding P195->Q160236 to M60512788. adding collection based on Met Object ID\n"
     ]
    },
    {
     "name": "stdout",
     "output_type": "stream",
     "text": [
      "\n"
     ]
    },
    {
     "name": "stderr",
     "output_type": "stream",
     "text": [
      "Adding P3634->324774 to M60512790. importing Met Object ID from source info from Commons template\n",
      "Adding P195->Q160236 to M60512790. adding collection based on Met Object ID\n"
     ]
    },
    {
     "name": "stdout",
     "output_type": "stream",
     "text": [
      "\n"
     ]
    },
    {
     "name": "stderr",
     "output_type": "stream",
     "text": [
      "Adding P3634->324775 to M60512796. importing Met Object ID from source info from Commons template\n",
      "Adding P195->Q160236 to M60512796. adding collection based on Met Object ID\n"
     ]
    },
    {
     "name": "stdout",
     "output_type": "stream",
     "text": [
      "\n"
     ]
    },
    {
     "name": "stderr",
     "output_type": "stream",
     "text": [
      "Adding P3634->324389 to M60518642. importing Met Object ID from source info from Commons template\n",
      "Adding P195->Q160236 to M60518642. adding collection based on Met Object ID\n"
     ]
    },
    {
     "name": "stdout",
     "output_type": "stream",
     "text": [
      "\n"
     ]
    },
    {
     "name": "stderr",
     "output_type": "stream",
     "text": [
      "Adding P3634->324390 to M60518647. importing Met Object ID from source info from Commons template\n",
      "Adding P195->Q160236 to M60518647. adding collection based on Met Object ID\n"
     ]
    },
    {
     "name": "stdout",
     "output_type": "stream",
     "text": [
      "\n"
     ]
    },
    {
     "name": "stderr",
     "output_type": "stream",
     "text": [
      "Adding P3634->324920 to M60514265. importing Met Object ID from source info from Commons template\n",
      "Adding P195->Q160236 to M60514265. adding collection based on Met Object ID\n"
     ]
    },
    {
     "name": "stdout",
     "output_type": "stream",
     "text": [
      "\n"
     ]
    },
    {
     "name": "stderr",
     "output_type": "stream",
     "text": [
      "Adding P3634->324387 to M60518630. importing Met Object ID from source info from Commons template\n",
      "Adding P195->Q160236 to M60518630. adding collection based on Met Object ID\n"
     ]
    },
    {
     "name": "stdout",
     "output_type": "stream",
     "text": [
      "\n"
     ]
    },
    {
     "name": "stderr",
     "output_type": "stream",
     "text": [
      "Adding P3634->324388 to M60518641. importing Met Object ID from source info from Commons template\n",
      "Adding P195->Q160236 to M60518641. adding collection based on Met Object ID\n"
     ]
    },
    {
     "name": "stdout",
     "output_type": "stream",
     "text": [
      "\n"
     ]
    },
    {
     "name": "stderr",
     "output_type": "stream",
     "text": [
      "Adding P3634->326389 to M60517934. importing Met Object ID from source info from Commons template\n",
      "Adding P195->Q160236 to M60517934. adding collection based on Met Object ID\n"
     ]
    },
    {
     "name": "stdout",
     "output_type": "stream",
     "text": [
      "\n"
     ]
    },
    {
     "name": "stderr",
     "output_type": "stream",
     "text": [
      "Adding P3634->325184 to M60516705. importing Met Object ID from source info from Commons template\n",
      "Adding P195->Q160236 to M60516705. adding collection based on Met Object ID\n"
     ]
    },
    {
     "name": "stdout",
     "output_type": "stream",
     "text": [
      "\n"
     ]
    },
    {
     "name": "stderr",
     "output_type": "stream",
     "text": [
      "Adding P3634->325185 to M60516876. importing Met Object ID from source info from Commons template\n",
      "Adding P195->Q160236 to M60516876. adding collection based on Met Object ID\n"
     ]
    },
    {
     "name": "stdout",
     "output_type": "stream",
     "text": [
      "\n"
     ]
    },
    {
     "name": "stderr",
     "output_type": "stream",
     "text": [
      "Adding P3634->325187 to M60516872. importing Met Object ID from source info from Commons template\n",
      "Adding P195->Q160236 to M60516872. adding collection based on Met Object ID\n"
     ]
    },
    {
     "name": "stdout",
     "output_type": "stream",
     "text": [
      "\n"
     ]
    },
    {
     "name": "stderr",
     "output_type": "stream",
     "text": [
      "Adding P3634->326480 to M60518562. importing Met Object ID from source info from Commons template\n",
      "Adding P195->Q160236 to M60518562. adding collection based on Met Object ID\n"
     ]
    },
    {
     "name": "stdout",
     "output_type": "stream",
     "text": [
      "\n"
     ]
    },
    {
     "name": "stderr",
     "output_type": "stream",
     "text": [
      "Adding P3634->325981 to M60515223. importing Met Object ID from source info from Commons template\n",
      "Adding P195->Q160236 to M60515223. adding collection based on Met Object ID\n"
     ]
    },
    {
     "name": "stdout",
     "output_type": "stream",
     "text": [
      "\n"
     ]
    },
    {
     "name": "stderr",
     "output_type": "stream",
     "text": [
      "Adding P3634->327443 to M61210678. importing Met Object ID from source info from Commons template\n",
      "Adding P195->Q160236 to M61210678. adding collection based on Met Object ID\n"
     ]
    },
    {
     "name": "stdout",
     "output_type": "stream",
     "text": [
      "\n"
     ]
    },
    {
     "name": "stderr",
     "output_type": "stream",
     "text": [
      "Adding P3634->327442 to M61210680. importing Met Object ID from source info from Commons template\n",
      "Adding P195->Q160236 to M61210680. adding collection based on Met Object ID\n"
     ]
    },
    {
     "name": "stdout",
     "output_type": "stream",
     "text": [
      "\n"
     ]
    },
    {
     "name": "stderr",
     "output_type": "stream",
     "text": [
      "Adding P3634->324281 to M65096287. importing Met Object ID from source info from Commons template\n",
      "Adding P195->Q160236 to M65096287. adding collection based on Met Object ID\n"
     ]
    },
    {
     "name": "stdout",
     "output_type": "stream",
     "text": [
      "\n"
     ]
    },
    {
     "name": "stderr",
     "output_type": "stream",
     "text": [
      "Adding P3634->324267 to M65096274. importing Met Object ID from source info from Commons template\n",
      "Adding P195->Q160236 to M65096274. adding collection based on Met Object ID\n"
     ]
    },
    {
     "name": "stdout",
     "output_type": "stream",
     "text": [
      "\n"
     ]
    },
    {
     "name": "stderr",
     "output_type": "stream",
     "text": [
      "Adding P3634->326194 to M60517209. importing Met Object ID from source info from Commons template\n",
      "Adding P195->Q160236 to M60517209. adding collection based on Met Object ID\n"
     ]
    },
    {
     "name": "stdout",
     "output_type": "stream",
     "text": [
      "\n"
     ]
    },
    {
     "name": "stderr",
     "output_type": "stream",
     "text": [
      "Adding P3634->326195 to M60517213. importing Met Object ID from source info from Commons template\n",
      "Adding P195->Q160236 to M60517213. adding collection based on Met Object ID\n"
     ]
    },
    {
     "name": "stdout",
     "output_type": "stream",
     "text": [
      "\n"
     ]
    },
    {
     "name": "stderr",
     "output_type": "stream",
     "text": [
      "Adding P3634->326196 to M60517210. importing Met Object ID from source info from Commons template\n",
      "Adding P195->Q160236 to M60517210. adding collection based on Met Object ID\n"
     ]
    },
    {
     "name": "stdout",
     "output_type": "stream",
     "text": [
      "\n"
     ]
    },
    {
     "name": "stderr",
     "output_type": "stream",
     "text": [
      "Adding P3634->326197 to M60517211. importing Met Object ID from source info from Commons template\n",
      "Adding P195->Q160236 to M60517211. adding collection based on Met Object ID\n"
     ]
    },
    {
     "name": "stdout",
     "output_type": "stream",
     "text": [
      "\n"
     ]
    },
    {
     "name": "stderr",
     "output_type": "stream",
     "text": [
      "Adding P3634->326198 to M60517408. importing Met Object ID from source info from Commons template\n",
      "Adding P195->Q160236 to M60517408. adding collection based on Met Object ID\n"
     ]
    },
    {
     "name": "stdout",
     "output_type": "stream",
     "text": [
      "\n"
     ]
    },
    {
     "name": "stderr",
     "output_type": "stream",
     "text": [
      "Adding P3634->326199 to M60517411. importing Met Object ID from source info from Commons template\n",
      "Adding P195->Q160236 to M60517411. adding collection based on Met Object ID\n"
     ]
    },
    {
     "name": "stdout",
     "output_type": "stream",
     "text": [
      "\n"
     ]
    },
    {
     "name": "stderr",
     "output_type": "stream",
     "text": [
      "Adding P3634->326253 to M60517774. importing Met Object ID from source info from Commons template\n",
      "Adding P195->Q160236 to M60517774. adding collection based on Met Object ID\n"
     ]
    },
    {
     "name": "stdout",
     "output_type": "stream",
     "text": [
      "\n"
     ]
    },
    {
     "name": "stderr",
     "output_type": "stream",
     "text": [
      "Adding P3634->326255 to M60517771. importing Met Object ID from source info from Commons template\n",
      "Adding P195->Q160236 to M60517771. adding collection based on Met Object ID\n"
     ]
    },
    {
     "name": "stdout",
     "output_type": "stream",
     "text": [
      "\n"
     ]
    },
    {
     "name": "stderr",
     "output_type": "stream",
     "text": [
      "Adding P3634->326390 to M60517935. importing Met Object ID from source info from Commons template\n",
      "Adding P195->Q160236 to M60517935. adding collection based on Met Object ID\n"
     ]
    },
    {
     "name": "stdout",
     "output_type": "stream",
     "text": [
      "\n"
     ]
    },
    {
     "name": "stderr",
     "output_type": "stream",
     "text": [
      "Adding P3634->326391 to M60517939. importing Met Object ID from source info from Commons template\n",
      "Adding P195->Q160236 to M60517939. adding collection based on Met Object ID\n"
     ]
    },
    {
     "name": "stdout",
     "output_type": "stream",
     "text": [
      "\n"
     ]
    },
    {
     "name": "stderr",
     "output_type": "stream",
     "text": [
      "Adding P3634->326484 to M60518673. importing Met Object ID from source info from Commons template\n",
      "Adding P195->Q160236 to M60518673. adding collection based on Met Object ID\n"
     ]
    },
    {
     "name": "stdout",
     "output_type": "stream",
     "text": [
      "\n"
     ]
    },
    {
     "name": "stderr",
     "output_type": "stream",
     "text": [
      "Adding P3634->326487 to M60518677. importing Met Object ID from source info from Commons template\n",
      "Adding P195->Q160236 to M60518677. adding collection based on Met Object ID\n"
     ]
    },
    {
     "name": "stdout",
     "output_type": "stream",
     "text": [
      "\n"
     ]
    },
    {
     "name": "stderr",
     "output_type": "stream",
     "text": [
      "Adding P3634->323100 to M60515924. importing Met Object ID from source info from Commons template\n",
      "Adding P195->Q160236 to M60515924. adding collection based on Met Object ID\n"
     ]
    },
    {
     "name": "stdout",
     "output_type": "stream",
     "text": [
      "\n",
      "Final report\n",
      "id: 99\n",
      "institution: 99\n",
      "id_skip: 0\n",
      "institution_skip: 0\n",
      "unmatched: 1\n"
     ]
    },
    {
     "data": {
      "text/plain": [
       "{None}"
      ]
     },
     "execution_count": 18,
     "metadata": {},
     "output_type": "execute_result"
    }
   ],
   "source": [
    "# Bot to examine Commons category and add SDC statements for Met object ID:\n",
    "#   Met Object ID (P3634) -> number\n",
    "#   collection (P195) -> Q160236\n",
    "\n",
    "import pywikibot\n",
    "from pywikibot import pagegenerators\n",
    "from pywikibot.comms import http\n",
    "\n",
    "import json\n",
    "import re\n",
    "from itertools import islice\n",
    "\n",
    "# Parameters specific to the institution\n",
    "PARAMS = {\n",
    "    'test_mode': True,\n",
    "    'category': u'Category:Department of Ancient Near Eastern Art, Metropolitan Museum of Art',\n",
    "    'recurse': True,\n",
    "    'search_string': r'source[ ]*=[ ]*http[s]*://www.metmuseum.org/art/collection/search/(\\d+)',\n",
    "    'pid':'P3634',\n",
    "    'pid_summary': u'importing Met Object ID from source info from Commons template',\n",
    "    'institution_pid':'P195',\n",
    "    'institution_qid':'Q160236',\n",
    "    'institution_summary': u'adding collection based on Met Object ID'\n",
    "}\n",
    "\n",
    "counter = {\n",
    "    'id': 0,\n",
    "    'institution': 0,\n",
    "    'id_skip': 0,\n",
    "    'institution_skip': 0,\n",
    "    'unmatched': 0\n",
    "}\n",
    "\n",
    "def addClaim(mediaid, pid, qid, summary='') -> int:\n",
    "    \"\"\"\n",
    "    :param mediaid:\n",
    "    :param pid:\n",
    "    :param qid:\n",
    "    :param summary:\n",
    "    :return:\n",
    "    \"\"\"\n",
    "    pywikibot.output(u'Adding %s->%s to %s. %s' % (pid, qid, mediaid, summary))\n",
    "\n",
    "    # Check for existing entry - if it exists at all, skip and honor existing entry\n",
    "    request = site._simple_request(action='wbgetentities',ids=mediaid)\n",
    "    data = request.submit()\n",
    "    if (data.get(u'entities').get(mediaid).get(u'statements').get(pid)):\n",
    "        pywikibot.output(u'  Existing entry: skipping to be safe.')\n",
    "        return 0  # Skip\n",
    "\n",
    "    tokenrequest = http.fetch(u'https://commons.wikimedia.org/w/api.php?action=query&meta=tokens&type=csrf&format=json')\n",
    "\n",
    "    tokendata = json.loads(tokenrequest.text)\n",
    "    token = tokendata.get(u'query').get(u'tokens').get(u'csrftoken')\n",
    "\n",
    "    postvalue = {\"entity-type\":\"item\",\"numeric-id\": qid.replace(u'Q', u'')}\n",
    "\n",
    "    postdata = {u'action' : u'wbcreateclaim',\n",
    "                u'format' : u'json',\n",
    "                u'entity' : mediaid,\n",
    "                u'property' : pid,\n",
    "                u'snaktype' : u'value',\n",
    "                u'value' : json.dumps(postvalue),\n",
    "                u'token' : token,\n",
    "                u'summary' : summary\n",
    "                }\n",
    "\n",
    "    if PARAMS['test_mode']:\n",
    "        # print ('TEST_MODE: addClaim:', postdata)\n",
    "        pass\n",
    "    else:\n",
    "        apipage = http.fetch(u'https://commons.wikimedia.org/w/api.php', method='POST', data=postdata)\n",
    "\n",
    "    return 1  # Successful add\n",
    "\n",
    "def addClaimString(mediaid, pid, instring, summary=''):\n",
    "    \"\"\"\n",
    "    :param mediaid:\n",
    "    :param pid:\n",
    "    :param qid:\n",
    "    :param summary:\n",
    "    :return:\n",
    "    \"\"\"\n",
    "    pywikibot.output(u'Adding %s->%s to %s. %s' % (pid, instring, mediaid, summary))\n",
    "\n",
    "    # Check for existing entry - if it exists at all, skip and honor existing entry\n",
    "    request = site._simple_request(action='wbgetentities',ids=mediaid)\n",
    "    data = request.submit()\n",
    "    if (data.get(u'entities').get(mediaid).get(u'statements').get(pid)):\n",
    "        pywikibot.output(u'  Existing entry: skipping to be safe.')\n",
    "        return 0\n",
    "    \n",
    "    tokenrequest = http.fetch(u'https://commons.wikimedia.org/w/api.php?action=query&meta=tokens&type=csrf&format=json')\n",
    "\n",
    "    tokendata = json.loads(tokenrequest.text)\n",
    "    token = tokendata.get(u'query').get(u'tokens').get(u'csrftoken')\n",
    "\n",
    "    postdata = {u'action' : u'wbcreateclaim',\n",
    "                u'format' : u'json',\n",
    "                u'entity' : mediaid,\n",
    "                u'property' : pid,\n",
    "                u'snaktype' : u'value',\n",
    "                u'value' : '\"'+instring+'\"',\n",
    "                u'token' : token,\n",
    "                u'summary' : summary\n",
    "                }\n",
    "\n",
    "    if PARAMS['test_mode']:\n",
    "        # print ('TEST_MODE: addClaim:', postdata)\n",
    "        pass\n",
    "    else:\n",
    "        apipage = http.fetch(u'https://commons.wikimedia.org/w/api.php', method='POST', data=postdata)\n",
    "\n",
    "    return 1    \n",
    "\n",
    "\n",
    "def media_id(page: pywikibot.page.FilePage) -> str:\n",
    "    \"\"\"Return MID from page ID: just prepend an M\"\"\"\n",
    "    return u'M%s' % (page.pageid,)\n",
    "\n",
    "site = pywikibot.Site(u'commons', u'commons')\n",
    "cat = pywikibot.Category(site,PARAMS['category'])\n",
    "gen = pagegenerators.CategorizedPageGenerator(cat, recurse=PARAMS['recurse'])\n",
    "\n",
    "patt = re.compile(PARAMS['search_string'])\n",
    "\n",
    "# for page in gen:\n",
    "for page in islice(gen, 100):\n",
    "    #Do something with the page object, for example:\n",
    "    text = page.text\n",
    "    mediaid = media_id(page)\n",
    "\n",
    "    m = patt.search(text)\n",
    "    if m:\n",
    "        id_string = m.group(1)\n",
    "        # print ('  ', id_string)\n",
    "        summary = PARAMS['pid_summary']\n",
    "        result = addClaimString(mediaid, PARAMS['pid'], id_string, summary)\n",
    "        if result>0:\n",
    "            counter['id'] += 1\n",
    "        else:\n",
    "            counter['id_skip'] += 1\n",
    "\n",
    "        if 'institution_pid' in PARAMS:\n",
    "            institution = PARAMS['institution_qid']  # Met\n",
    "            summary = PARAMS['institution_summary']\n",
    "            result = addClaim(mediaid, PARAMS['institution_pid'], institution, summary)\n",
    "            if result>0:\n",
    "                counter['institution'] += 1\n",
    "            else:\n",
    "                counter['institution_skip'] += 1\n",
    "    else:\n",
    "        counter['unmatched'] += 1\n",
    "        pywikibot.output(u'Unmatched %s' % (mediaid, ))\n",
    "\n",
    "    print ()\n",
    "\n",
    "print ('Final report')\n",
    "{print ('%s: %s' % (x, counter[x])) for x in counter}"
   ]
  }
 ],
 "metadata": {
  "kernelspec": {
   "display_name": "Python 3",
   "language": "python",
   "name": "python3"
  },
  "language_info": {
   "codemirror_mode": {
    "name": "ipython",
    "version": 3
   },
   "file_extension": ".py",
   "mimetype": "text/x-python",
   "name": "python",
   "nbconvert_exporter": "python",
   "pygments_lexer": "ipython3",
   "version": "3.8.5"
  }
 },
 "nbformat": 4,
 "nbformat_minor": 5
}
